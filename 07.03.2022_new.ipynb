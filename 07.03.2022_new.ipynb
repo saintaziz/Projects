{
 "cells": [
  {
   "cell_type": "code",
   "execution_count": 2,
   "id": "41790851",
   "metadata": {},
   "outputs": [
    {
     "name": "stdout",
     "output_type": "stream",
     "text": [
      "enter a positive number371\n",
      "371 is Armstrong number\n"
     ]
    }
   ],
   "source": [
    "while True:\n",
    "    \n",
    "    number = input('enter a positive number')\n",
    "    digits = len(number)\n",
    "    summ=0\n",
    "    \n",
    "    if not number.isdigit():\n",
    "        print(number, 'invalid.')\n",
    "    elif int(number) >=0:\n",
    "        \n",
    "        for i in range (digits):\n",
    "            summ = summ + int(number[i]) ** digits\n",
    "        \n",
    "        if summ == int(number) :\n",
    "            print (number, \"is Armstrong number\")\n",
    "            break\n",
    "        else:\n",
    "            print(number, \"isnt Armstrong Number\")\n",
    "            break\n",
    "            "
   ]
  },
  {
   "cell_type": "code",
   "execution_count": 3,
   "id": "34593278",
   "metadata": {},
   "outputs": [
    {
     "name": "stdout",
     "output_type": "stream",
     "text": [
      "number19\n",
      "19 is a prime number\n"
     ]
    }
   ],
   "source": [
    "n = int (input('number'))\n",
    "counter = 0  \n",
    "for i in range(1, n+1):\n",
    "    if n % i == 0:\n",
    "        counter +=1\n",
    "if (n==0) or (n==1) or (counter>=3):\n",
    "    print (n, 'is not a prime number')\n",
    "else:\n",
    "    print (n, 'is a prime number')"
   ]
  },
  {
   "cell_type": "code",
   "execution_count": 4,
   "id": "c2e4dda6",
   "metadata": {},
   "outputs": [
    {
     "name": "stdout",
     "output_type": "stream",
     "text": [
      "[0]\n",
      "[0, 1]\n",
      "[0, 1, 2]\n",
      "[0, 1, 2, 3]\n",
      "[0, 1, 2, 3, 4]\n"
     ]
    }
   ],
   "source": [
    "sayılar = []\n",
    "\n",
    "for i in range (5):\n",
    "    sayılar.append(i)\n",
    "    print(sayılar)"
   ]
  },
  {
   "cell_type": "code",
   "execution_count": 12,
   "id": "38d54a78",
   "metadata": {},
   "outputs": [
    {
     "data": {
      "text/plain": [
       "[0, 1, 2, 3, 4]"
      ]
     },
     "execution_count": 12,
     "metadata": {},
     "output_type": "execute_result"
    }
   ],
   "source": [
    "[i for i in range (5)]"
   ]
  },
  {
   "cell_type": "code",
   "execution_count": 14,
   "id": "85b3d6e3",
   "metadata": {},
   "outputs": [
    {
     "data": {
      "text/plain": [
       "[0, 1, 4, 9, 16]"
      ]
     },
     "execution_count": 14,
     "metadata": {},
     "output_type": "execute_result"
    }
   ],
   "source": [
    "[i**2 for i in range (5)]"
   ]
  },
  {
   "cell_type": "markdown",
   "id": "be9f36b9",
   "metadata": {},
   "source": [
    "# Ternary If  Statement"
   ]
  },
  {
   "cell_type": "code",
   "execution_count": 18,
   "id": "a1ff07b5",
   "metadata": {},
   "outputs": [
    {
     "data": {
      "text/plain": [
       "[1, 9, 25]"
      ]
     },
     "execution_count": 18,
     "metadata": {},
     "output_type": "execute_result"
    }
   ],
   "source": [
    "my_list = [1,2,3,4,5,6]\n",
    "new_list = [] # tek olan elemanların karesini liatenin içinde topla\n",
    "for i in my_list:\n",
    "    if i%2:\n",
    "        new_list.append(i**2)\n",
    "new_list"
   ]
  },
  {
   "cell_type": "markdown",
   "id": "27b66fdc",
   "metadata": {},
   "source": [
    "Ternary Yaplıalrının Formulastonu\n",
    "if condition :\n",
    "    execute-body1\n",
    "else :\n",
    "    execute-body2\n",
    "\n",
    "    execute body 1 if codition else execute body-2"
   ]
  },
  {
   "cell_type": "code",
   "execution_count": 21,
   "id": "0594c7f1",
   "metadata": {},
   "outputs": [
    {
     "data": {
      "text/plain": [
       "1"
      ]
     },
     "execution_count": 21,
     "metadata": {},
     "output_type": "execute_result"
    }
   ],
   "source": [
    "condition =True\n",
    "1 if condition else 0"
   ]
  },
  {
   "cell_type": "code",
   "execution_count": 23,
   "id": "6da6ec33",
   "metadata": {},
   "outputs": [
    {
     "name": "stdout",
     "output_type": "stream",
     "text": [
      "a=1\n"
     ]
    }
   ],
   "source": [
    "condition =True\n",
    "if condition:\n",
    "    print('a=1')\n",
    "else:\n",
    "    print('a=0')"
   ]
  },
  {
   "cell_type": "code",
   "execution_count": 24,
   "id": "387624b7",
   "metadata": {},
   "outputs": [
    {
     "data": {
      "text/plain": [
       "[1, 4, 9, 16, 25, 36]"
      ]
     },
     "execution_count": 24,
     "metadata": {},
     "output_type": "execute_result"
    }
   ],
   "source": [
    "my_list = [1, 2,3,4,5,6]\n",
    "[i**2 for i in my_list]"
   ]
  },
  {
   "cell_type": "code",
   "execution_count": 25,
   "id": "88c3d31b",
   "metadata": {},
   "outputs": [
    {
     "data": {
      "text/plain": [
       "[1, 9, 25]"
      ]
     },
     "execution_count": 25,
     "metadata": {},
     "output_type": "execute_result"
    }
   ],
   "source": [
    "[i**2 for i in my_list if i%2]"
   ]
  },
  {
   "cell_type": "code",
   "execution_count": 26,
   "id": "80246614",
   "metadata": {},
   "outputs": [
    {
     "data": {
      "text/plain": [
       "<generator object <genexpr> at 0x11b4c2ce0>"
      ]
     },
     "execution_count": 26,
     "metadata": {},
     "output_type": "execute_result"
    }
   ],
   "source": [
    "(i**2 for i in range (6))"
   ]
  },
  {
   "cell_type": "code",
   "execution_count": 27,
   "id": "50a620a5",
   "metadata": {},
   "outputs": [
    {
     "data": {
      "text/plain": [
       "[0, 1, 4, 9, 16, 25]"
      ]
     },
     "execution_count": 27,
     "metadata": {},
     "output_type": "execute_result"
    }
   ],
   "source": [
    "generator = (i**2 for i in range (6))\n",
    "list(generator)"
   ]
  },
  {
   "cell_type": "code",
   "execution_count": 29,
   "id": "b5d84ddf",
   "metadata": {},
   "outputs": [
    {
     "name": "stdout",
     "output_type": "stream",
     "text": [
      "0\n",
      "1\n",
      "4\n",
      "9\n",
      "16\n",
      "25\n"
     ]
    }
   ],
   "source": [
    "generator = (i**2 for i in range (6))\n",
    "for i in generator:\n",
    "    print(i)"
   ]
  },
  {
   "cell_type": "code",
   "execution_count": 30,
   "id": "fd23bd54",
   "metadata": {},
   "outputs": [
    {
     "data": {
      "text/plain": [
       "<generator object <genexpr> at 0x11b4c33e0>"
      ]
     },
     "execution_count": 30,
     "metadata": {},
     "output_type": "execute_result"
    }
   ],
   "source": [
    "(i**2 for i in range (6))"
   ]
  },
  {
   "cell_type": "code",
   "execution_count": 32,
   "id": "e936b0fd",
   "metadata": {},
   "outputs": [
    {
     "name": "stdout",
     "output_type": "stream",
     "text": [
      "0\n"
     ]
    }
   ],
   "source": [
    "generator =(i**2 for i in range (6))\n",
    "print(next(generator))"
   ]
  },
  {
   "cell_type": "code",
   "execution_count": 33,
   "id": "d92a3daa",
   "metadata": {},
   "outputs": [
    {
     "name": "stdout",
     "output_type": "stream",
     "text": [
      "1\n"
     ]
    }
   ],
   "source": [
    "print(next(generator))"
   ]
  },
  {
   "cell_type": "code",
   "execution_count": 34,
   "id": "5850fe73",
   "metadata": {},
   "outputs": [
    {
     "name": "stdout",
     "output_type": "stream",
     "text": [
      "4\n"
     ]
    }
   ],
   "source": [
    "print(next(generator))"
   ]
  },
  {
   "cell_type": "code",
   "execution_count": 35,
   "id": "9806f70a",
   "metadata": {},
   "outputs": [
    {
     "name": "stdout",
     "output_type": "stream",
     "text": [
      "9\n"
     ]
    }
   ],
   "source": [
    "print(next(generator))"
   ]
  },
  {
   "cell_type": "code",
   "execution_count": 36,
   "id": "3ebc39fc",
   "metadata": {},
   "outputs": [
    {
     "name": "stdout",
     "output_type": "stream",
     "text": [
      "16\n"
     ]
    }
   ],
   "source": [
    "print(next(generator))"
   ]
  },
  {
   "cell_type": "code",
   "execution_count": 37,
   "id": "5a3a82b4",
   "metadata": {},
   "outputs": [
    {
     "name": "stdout",
     "output_type": "stream",
     "text": [
      "25\n"
     ]
    }
   ],
   "source": [
    "print(next(generator))"
   ]
  },
  {
   "cell_type": "code",
   "execution_count": 38,
   "id": "6c2058c2",
   "metadata": {},
   "outputs": [
    {
     "ename": "StopIteration",
     "evalue": "",
     "output_type": "error",
     "traceback": [
      "\u001b[0;31m---------------------------------------------------------------------------\u001b[0m",
      "\u001b[0;31mStopIteration\u001b[0m                             Traceback (most recent call last)",
      "Input \u001b[0;32mIn [38]\u001b[0m, in \u001b[0;36m<module>\u001b[0;34m\u001b[0m\n\u001b[0;32m----> 1\u001b[0m \u001b[38;5;28mprint\u001b[39m(\u001b[38;5;28;43mnext\u001b[39;49m\u001b[43m(\u001b[49m\u001b[43mgenerator\u001b[49m\u001b[43m)\u001b[49m)\n",
      "\u001b[0;31mStopIteration\u001b[0m: "
     ]
    }
   ],
   "source": [
    "print(next(generator))"
   ]
  },
  {
   "cell_type": "code",
   "execution_count": 47,
   "id": "fbf4953f",
   "metadata": {},
   "outputs": [
    {
     "name": "stdout",
     "output_type": "stream",
     "text": [
      "enter p number371\n",
      "armstron number\n"
     ]
    }
   ],
   "source": [
    "while True :\n",
    "    number = input('enter p number')\n",
    "    digits = len(number)\n",
    "    summ=0\n",
    "    if not number.isdigit():\n",
    "        print('please enter new number')\n",
    "    else:\n",
    "        for i in range(digits):\n",
    "            summ = summ + int(number[i])**digits\n",
    "        if summ==int(number):\n",
    "            print('armstron number')\n",
    "        else:\n",
    "            print('not')\n",
    "        break"
   ]
  },
  {
   "cell_type": "code",
   "execution_count": 10,
   "id": "56730900",
   "metadata": {},
   "outputs": [
    {
     "name": "stdout",
     "output_type": "stream",
     "text": [
      "[['b', 'b'], ['a', 'a'], ['c']]\n"
     ]
    }
   ],
   "source": [
    "lst = [\"b\", \"a\", \"b\", \"a\", \"c\"]\n",
    "elements = {}\n",
    "for i in lst:\n",
    "    if i not in elements:\n",
    "        elements[i] = [i]\n",
    "    else:\n",
    "        elements[i] += [i]\n",
    "print(list(elements.values()))"
   ]
  },
  {
   "cell_type": "code",
   "execution_count": 11,
   "id": "4cf5319b",
   "metadata": {},
   "outputs": [
    {
     "data": {
      "text/plain": [
       "{'b': ['b', 'b'], 'a': ['a', 'a'], 'c': ['c']}"
      ]
     },
     "execution_count": 11,
     "metadata": {},
     "output_type": "execute_result"
    }
   ],
   "source": [
    "lst = [\"b\", \"a\", \"b\", \"a\", \"c\"]\n",
    "elements = {}\n",
    "for i in lst:\n",
    "    if i not in elements:\n",
    "        elements[i] = [i]\n",
    "    else:\n",
    "        elements[i] += [i]\n",
    "elements"
   ]
  },
  {
   "cell_type": "code",
   "execution_count": 19,
   "id": "31110e04",
   "metadata": {},
   "outputs": [
    {
     "data": {
      "text/plain": [
       "['b', 'b']"
      ]
     },
     "execution_count": 19,
     "metadata": {},
     "output_type": "execute_result"
    }
   ],
   "source": [
    "elements = {'b': ['b', 'b'], 'a': ['a', 'a'], 'c': ['c']}\n",
    "elements['b']"
   ]
  },
  {
   "cell_type": "code",
   "execution_count": null,
   "id": "1a01e2e0",
   "metadata": {},
   "outputs": [],
   "source": []
  },
  {
   "cell_type": "code",
   "execution_count": 24,
   "id": "a89ce293",
   "metadata": {},
   "outputs": [
    {
     "name": "stdout",
     "output_type": "stream",
     "text": [
      "[[1, 1, 1], [2, 2, 2, 2], [3, 3], [4]]\n"
     ]
    }
   ],
   "source": [
    "list1=[1,2,1,2,1,2,2,3,3,4]\n",
    "x = {}\n",
    "for i in list1:\n",
    "    if i not in x:\n",
    "        x[i]=[i]\n",
    "    else:\n",
    "        x[i]+=[i]\n",
    "print(list(x.values()))"
   ]
  },
  {
   "cell_type": "code",
   "execution_count": null,
   "id": "8e71ba24",
   "metadata": {},
   "outputs": [],
   "source": []
  }
 ],
 "metadata": {
  "kernelspec": {
   "display_name": "Python 3 (ipykernel)",
   "language": "python",
   "name": "python3"
  },
  "language_info": {
   "codemirror_mode": {
    "name": "ipython",
    "version": 3
   },
   "file_extension": ".py",
   "mimetype": "text/x-python",
   "name": "python",
   "nbconvert_exporter": "python",
   "pygments_lexer": "ipython3",
   "version": "3.10.1"
  }
 },
 "nbformat": 4,
 "nbformat_minor": 5
}
