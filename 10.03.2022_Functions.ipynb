{
 "cells": [
  {
   "cell_type": "code",
   "execution_count": 14,
   "id": "b903c3e8",
   "metadata": {},
   "outputs": [
    {
     "data": {
      "text/plain": [
       "False"
      ]
     },
     "execution_count": 14,
     "metadata": {},
     "output_type": "execute_result"
    }
   ],
   "source": [
    "all([0])"
   ]
  },
  {
   "cell_type": "code",
   "execution_count": 29,
   "id": "9945c40a",
   "metadata": {},
   "outputs": [
    {
     "name": "stdout",
     "output_type": "stream",
     "text": [
      "18\n",
      "24\n",
      "32\n"
     ]
    }
   ],
   "source": [
    "ages = [5, 12, 17, 18, 24, 32]\n",
    "\n",
    "def myFunc(x):\n",
    "  if x < 18:\n",
    "    return False\n",
    "  else:\n",
    "    return True\n",
    "\n",
    "adults = filter(myFunc, ages)\n",
    "\n",
    "for x in adults:\n",
    "  print(x)"
   ]
  },
  {
   "cell_type": "code",
   "execution_count": 4,
   "id": "239d23e0",
   "metadata": {},
   "outputs": [
    {
     "name": "stdout",
     "output_type": "stream",
     "text": [
      "The filtered elements are:\n",
      "SUZAN\n",
      "TOM\n",
      "22\n"
     ]
    }
   ],
   "source": [
    "listA=['SUZAN', 'TOM', False, 0, 22]\n",
    "filtered_list=filter(None, listA)\n",
    "print(\"The filtered elements are:\")\n",
    "for i in filtered_list:\n",
    "    print(i)"
   ]
  },
  {
   "cell_type": "code",
   "execution_count": 18,
   "id": "03e22fe8",
   "metadata": {},
   "outputs": [
    {
     "data": {
      "text/plain": [
       "True"
      ]
     },
     "execution_count": 18,
     "metadata": {},
     "output_type": "execute_result"
    }
   ],
   "source": [
    "bool('none')"
   ]
  },
  {
   "cell_type": "code",
   "execution_count": 26,
   "id": "5bb96ae6",
   "metadata": {},
   "outputs": [
    {
     "data": {
      "text/plain": [
       "{0: 'apple', 1: 'banana', 2: 'cherry'}"
      ]
     },
     "execution_count": 26,
     "metadata": {},
     "output_type": "execute_result"
    }
   ],
   "source": [
    "x = ('apple', 'banana', 'cherry')\n",
    "y = enumerate(x)\n",
    "z =dict(y)\n",
    "z"
   ]
  },
  {
   "cell_type": "code",
   "execution_count": 27,
   "id": "13fba434",
   "metadata": {},
   "outputs": [
    {
     "data": {
      "text/plain": [
       "[(0, 'apple'), (1, 'banana'), (2, 'cherry')]"
      ]
     },
     "execution_count": 27,
     "metadata": {},
     "output_type": "execute_result"
    }
   ],
   "source": [
    "x = ('apple', 'banana', 'cherry')\n",
    "y = enumerate(x)\n",
    "z =list(y)\n",
    "z"
   ]
  },
  {
   "cell_type": "code",
   "execution_count": 28,
   "id": "fe1ec4e5",
   "metadata": {},
   "outputs": [
    {
     "data": {
      "text/plain": [
       "((0, 'apple'), (1, 'banana'), (2, 'cherry'))"
      ]
     },
     "execution_count": 28,
     "metadata": {},
     "output_type": "execute_result"
    }
   ],
   "source": [
    "x = ('apple', 'banana', 'cherry')\n",
    "y = enumerate(x)\n",
    "z =tuple(y)\n",
    "z"
   ]
  },
  {
   "cell_type": "code",
   "execution_count": 7,
   "id": "cbff0336",
   "metadata": {},
   "outputs": [
    {
     "data": {
      "text/plain": [
       "'A'"
      ]
     },
     "execution_count": 7,
     "metadata": {},
     "output_type": "execute_result"
    }
   ],
   "source": [
    "#max(iterable), min(iterable)\n",
    "max('Ahmet') # ASCII karşılığını verir\n",
    "min('Ahmet')"
   ]
  },
  {
   "cell_type": "code",
   "execution_count": null,
   "id": "57c1117b",
   "metadata": {},
   "outputs": [],
   "source": []
  },
  {
   "cell_type": "code",
   "execution_count": null,
   "id": "326eb6f0",
   "metadata": {},
   "outputs": [],
   "source": []
  },
  {
   "cell_type": "code",
   "execution_count": null,
   "id": "50ad5e57",
   "metadata": {},
   "outputs": [],
   "source": []
  },
  {
   "cell_type": "code",
   "execution_count": 11,
   "id": "ae013f00",
   "metadata": {},
   "outputs": [
    {
     "data": {
      "text/plain": [
       "21.5"
      ]
     },
     "execution_count": 11,
     "metadata": {},
     "output_type": "execute_result"
    }
   ],
   "source": [
    "numbers = [2.5, 30, 4, -15]\n",
    "summ= sum(numbers)\n",
    "summ"
   ]
  },
  {
   "cell_type": "code",
   "execution_count": 12,
   "id": "41477a9f",
   "metadata": {},
   "outputs": [
    {
     "data": {
      "text/plain": [
       "41.5"
      ]
     },
     "execution_count": 12,
     "metadata": {},
     "output_type": "execute_result"
    }
   ],
   "source": [
    "numbers = [2.5, 30, 4, -15]\n",
    "summ= sum(numbers, 20)\n",
    "summ"
   ]
  },
  {
   "cell_type": "code",
   "execution_count": 13,
   "id": "b66daff2",
   "metadata": {},
   "outputs": [],
   "source": [
    "def f_f(arg1, arg2):\n",
    "    print(arg1**2 + arg2**2)"
   ]
  },
  {
   "cell_type": "code",
   "execution_count": 15,
   "id": "77635c68",
   "metadata": {},
   "outputs": [
    {
     "name": "stdout",
     "output_type": "stream",
     "text": [
      "25\n"
     ]
    }
   ],
   "source": [
    "f_f(3,4)"
   ]
  },
  {
   "cell_type": "code",
   "execution_count": 20,
   "id": "14a7024a",
   "metadata": {},
   "outputs": [],
   "source": [
    "def multip(a, b):\n",
    "    print(a*b)"
   ]
  },
  {
   "cell_type": "code",
   "execution_count": 24,
   "id": "8724ad01",
   "metadata": {},
   "outputs": [
    {
     "name": "stdout",
     "output_type": "stream",
     "text": [
      "6\n",
      "aaa\n"
     ]
    }
   ],
   "source": [
    "multip(3,2)\n",
    "multip ('a',3)"
   ]
  },
  {
   "cell_type": "code",
   "execution_count": 21,
   "id": "5667abb9",
   "metadata": {},
   "outputs": [],
   "source": [
    "def hipotenus(a,b):\n",
    "    print((a**2 + b**2)**0.5)"
   ]
  },
  {
   "cell_type": "code",
   "execution_count": 22,
   "id": "4e320190",
   "metadata": {},
   "outputs": [
    {
     "name": "stdout",
     "output_type": "stream",
     "text": [
      "5.0\n"
     ]
    }
   ],
   "source": [
    "hipotenus(3,4)"
   ]
  },
  {
   "cell_type": "code",
   "execution_count": 31,
   "id": "83e6b116",
   "metadata": {},
   "outputs": [],
   "source": [
    "def add(a,b):\n",
    "    print(a+b)"
   ]
  },
  {
   "cell_type": "code",
   "execution_count": 32,
   "id": "094dc7d7",
   "metadata": {},
   "outputs": [
    {
     "name": "stdout",
     "output_type": "stream",
     "text": [
      "8\n"
     ]
    }
   ],
   "source": [
    "add(3, 5)"
   ]
  },
  {
   "cell_type": "code",
   "execution_count": 46,
   "id": "7450bba5",
   "metadata": {},
   "outputs": [],
   "source": [
    "def cal(a,b,c):\n",
    "    if c=='+':\n",
    "        print(a+b)\n",
    "    if c=='-':\n",
    "        print(a-b)\n",
    "    if c=='*':\n",
    "        print(a*b)\n",
    "    if c=='/':\n",
    "        print(a/b)\n",
    "    else:\n",
    "        print('invalid')"
   ]
  },
  {
   "cell_type": "code",
   "execution_count": 45,
   "id": "17e4e724",
   "metadata": {},
   "outputs": [
    {
     "name": "stdout",
     "output_type": "stream",
     "text": [
      "invalid\n"
     ]
    }
   ],
   "source": [
    "cal(88,22,'9')"
   ]
  },
  {
   "cell_type": "code",
   "execution_count": 47,
   "id": "a4ceb108",
   "metadata": {},
   "outputs": [
    {
     "name": "stdout",
     "output_type": "stream",
     "text": [
      "22.0\n"
     ]
    }
   ],
   "source": [
    "cal(44,2,'/')"
   ]
  },
  {
   "cell_type": "code",
   "execution_count": 49,
   "id": "0f4ac4ac",
   "metadata": {},
   "outputs": [],
   "source": [
    "def top(x, y):\n",
    "    return x+y"
   ]
  },
  {
   "cell_type": "code",
   "execution_count": 51,
   "id": "97945caf",
   "metadata": {},
   "outputs": [
    {
     "data": {
      "text/plain": [
       "8"
      ]
     },
     "execution_count": 51,
     "metadata": {},
     "output_type": "execute_result"
    }
   ],
   "source": [
    "top(3,5)"
   ]
  },
  {
   "cell_type": "code",
   "execution_count": 53,
   "id": "2d846a23",
   "metadata": {},
   "outputs": [
    {
     "data": {
      "text/plain": [
       "int"
      ]
     },
     "execution_count": 53,
     "metadata": {},
     "output_type": "execute_result"
    }
   ],
   "source": [
    "type(top(3,5))"
   ]
  },
  {
   "cell_type": "code",
   "execution_count": 54,
   "id": "18f622b0",
   "metadata": {},
   "outputs": [],
   "source": [
    "def string():\n",
    "    return 'alivelideli'"
   ]
  },
  {
   "cell_type": "code",
   "execution_count": 55,
   "id": "37c2bda4",
   "metadata": {},
   "outputs": [
    {
     "data": {
      "text/plain": [
       "'alivelideli'"
      ]
     },
     "execution_count": 55,
     "metadata": {},
     "output_type": "execute_result"
    }
   ],
   "source": [
    "string()"
   ]
  },
  {
   "cell_type": "code",
   "execution_count": 57,
   "id": "c52ac827",
   "metadata": {},
   "outputs": [
    {
     "data": {
      "text/plain": [
       "str"
      ]
     },
     "execution_count": 57,
     "metadata": {},
     "output_type": "execute_result"
    }
   ],
   "source": [
    "type(string())"
   ]
  },
  {
   "cell_type": "code",
   "execution_count": null,
   "id": "4a103729",
   "metadata": {},
   "outputs": [],
   "source": []
  },
  {
   "cell_type": "code",
   "execution_count": 59,
   "id": "baa6f6e8",
   "metadata": {},
   "outputs": [],
   "source": [
    "def boolean():\n",
    "    return True"
   ]
  },
  {
   "cell_type": "code",
   "execution_count": 61,
   "id": "8b358a55",
   "metadata": {},
   "outputs": [
    {
     "data": {
      "text/plain": [
       "True"
      ]
     },
     "execution_count": 61,
     "metadata": {},
     "output_type": "execute_result"
    }
   ],
   "source": [
    "x=boolean()\n",
    "x"
   ]
  },
  {
   "cell_type": "code",
   "execution_count": null,
   "id": "e9237bfb",
   "metadata": {},
   "outputs": [],
   "source": [
    "def listem"
   ]
  },
  {
   "cell_type": "code",
   "execution_count": 63,
   "id": "beeb2f47",
   "metadata": {},
   "outputs": [],
   "source": [
    "def cal(a,b,c):\n",
    "    if c=='+':\n",
    "        return a+b\n",
    "    if c=='-':\n",
    "        return a-b\n",
    "    if c=='*':\n",
    "        return a*b\n",
    "    if c=='/':\n",
    "        return a/b\n",
    "    else:\n",
    "        return 'invalid'"
   ]
  },
  {
   "cell_type": "code",
   "execution_count": 64,
   "id": "418e9d93",
   "metadata": {},
   "outputs": [
    {
     "data": {
      "text/plain": [
       "-1"
      ]
     },
     "execution_count": 64,
     "metadata": {},
     "output_type": "execute_result"
    }
   ],
   "source": [
    "cal (3,4,'-')"
   ]
  },
  {
   "cell_type": "code",
   "execution_count": 80,
   "id": "23d057b3",
   "metadata": {},
   "outputs": [],
   "source": [
    "def abs_val (a):\n",
    "    if a<0:\n",
    "        return a*(-1)\n",
    "    if a>=0:\n",
    "        return a"
   ]
  },
  {
   "cell_type": "code",
   "execution_count": 81,
   "id": "2955cc01",
   "metadata": {},
   "outputs": [
    {
     "name": "stdout",
     "output_type": "stream",
     "text": [
      "3.3\n"
     ]
    }
   ],
   "source": [
    "print(abs_val(3.3))"
   ]
  },
  {
   "cell_type": "code",
   "execution_count": 85,
   "id": "0236472d",
   "metadata": {},
   "outputs": [],
   "source": [
    "def abs_val (a):\n",
    "    ''' This function returns the absolute value of given number'''\n",
    "    if a<0:\n",
    "        return -a\n",
    "    if a>=0:\n",
    "        return a"
   ]
  },
  {
   "cell_type": "code",
   "execution_count": 86,
   "id": "c9f44d83",
   "metadata": {},
   "outputs": [
    {
     "name": "stdout",
     "output_type": "stream",
     "text": [
      "3.3\n"
     ]
    }
   ],
   "source": [
    "print(abs_val(-3.3))"
   ]
  },
  {
   "cell_type": "code",
   "execution_count": 87,
   "id": "4326ac14",
   "metadata": {},
   "outputs": [
    {
     "name": "stdout",
     "output_type": "stream",
     "text": [
      " This function returns the absolute value of given number\n"
     ]
    }
   ],
   "source": [
    "print(abs_val.__doc__)"
   ]
  },
  {
   "cell_type": "code",
   "execution_count": 88,
   "id": "782d9d2c",
   "metadata": {},
   "outputs": [
    {
     "name": "stdout",
     "output_type": "stream",
     "text": [
      "Return the absolute value of the argument.\n"
     ]
    }
   ],
   "source": [
    "print(abs.__doc__)"
   ]
  },
  {
   "cell_type": "code",
   "execution_count": 91,
   "id": "a068f425",
   "metadata": {},
   "outputs": [],
   "source": [
    "def texter(x, y, z):\n",
    "    print(y,z,x )"
   ]
  },
  {
   "cell_type": "code",
   "execution_count": 92,
   "id": "90a0c736",
   "metadata": {},
   "outputs": [
    {
     "name": "stdout",
     "output_type": "stream",
     "text": [
      "I love you\n"
     ]
    }
   ],
   "source": [
    "a ='I'\n",
    "b='love'\n",
    "c='you'\n",
    "texter (c,a,b)"
   ]
  },
  {
   "cell_type": "code",
   "execution_count": null,
   "id": "897308ad",
   "metadata": {},
   "outputs": [],
   "source": []
  }
 ],
 "metadata": {
  "kernelspec": {
   "display_name": "Python 3 (ipykernel)",
   "language": "python",
   "name": "python3"
  },
  "language_info": {
   "codemirror_mode": {
    "name": "ipython",
    "version": 3
   },
   "file_extension": ".py",
   "mimetype": "text/x-python",
   "name": "python",
   "nbconvert_exporter": "python",
   "pygments_lexer": "ipython3",
   "version": "3.10.1"
  }
 },
 "nbformat": 4,
 "nbformat_minor": 5
}
