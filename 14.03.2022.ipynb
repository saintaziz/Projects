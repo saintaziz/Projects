{
 "cells": [
  {
   "cell_type": "markdown",
   "id": "dcbfc2d7",
   "metadata": {},
   "source": [
    "# POZITION&KEYWORD ARGUMENT\n",
    "pozitional da sıra önemliydi, keyword a önemli değil.\n",
    "parametlere öndeğer/ilk değer atanır keyworde."
   ]
  },
  {
   "cell_type": "code",
   "execution_count": 3,
   "id": "22b707ca",
   "metadata": {},
   "outputs": [],
   "source": [
    "def bifunc (x = 'ali', y= 11 ):\n",
    "    print(x, y, 'yaşındadır')"
   ]
  },
  {
   "cell_type": "code",
   "execution_count": 4,
   "id": "90b8b152",
   "metadata": {},
   "outputs": [
    {
     "name": "stdout",
     "output_type": "stream",
     "text": [
      "ali 11 yaşındadır\n"
     ]
    }
   ],
   "source": [
    "bifunc()"
   ]
  },
  {
   "cell_type": "code",
   "execution_count": 5,
   "id": "189663f6",
   "metadata": {},
   "outputs": [
    {
     "name": "stdout",
     "output_type": "stream",
     "text": [
      "deli 33 yaşındadır\n"
     ]
    }
   ],
   "source": [
    "bifunc (y= 33 , x = 'deli')"
   ]
  },
  {
   "cell_type": "code",
   "execution_count": 6,
   "id": "c39753c6",
   "metadata": {},
   "outputs": [
    {
     "name": "stdout",
     "output_type": "stream",
     "text": [
      "33 ali yaşındadır\n"
     ]
    }
   ],
   "source": [
    "bifunc (y= 'ali', x = 33)"
   ]
  },
  {
   "cell_type": "code",
   "execution_count": 7,
   "id": "d7ebd2db",
   "metadata": {},
   "outputs": [
    {
     "name": "stdout",
     "output_type": "stream",
     "text": [
      "aziz 33 yaşındadır\n"
     ]
    }
   ],
   "source": [
    "bifunc ('aziz', 33)"
   ]
  },
  {
   "cell_type": "code",
   "execution_count": 8,
   "id": "64d61646",
   "metadata": {},
   "outputs": [
    {
     "name": "stdout",
     "output_type": "stream",
     "text": [
      "selin 11 yaşındadır\n"
     ]
    }
   ],
   "source": [
    "bifunc ('selin')"
   ]
  },
  {
   "cell_type": "code",
   "execution_count": 9,
   "id": "eca7e323",
   "metadata": {},
   "outputs": [
    {
     "name": "stdout",
     "output_type": "stream",
     "text": [
      "22 11 yaşındadır\n"
     ]
    }
   ],
   "source": [
    "bifunc (22) #paraantez içinde olan 1. ye gider."
   ]
  },
  {
   "cell_type": "code",
   "execution_count": 11,
   "id": "db5fdb90",
   "metadata": {},
   "outputs": [],
   "source": [
    "def parrot(voltage, state='a stiff', action='voom', type='Norwegian Blue'):\n",
    "    print(\"-- This parrot wouldn't\", action, end=' ')\n",
    "    print(\"if you put\", voltage, \"volts through it.\")\n",
    "    print(\"-- Lovely plumage, the\", type)\n",
    "    print(\"-- It's\", state, \"!\")"
   ]
  },
  {
   "cell_type": "code",
   "execution_count": 12,
   "id": "b73e2fe6",
   "metadata": {},
   "outputs": [
    {
     "name": "stdout",
     "output_type": "stream",
     "text": [
      "-- This parrot wouldn't voom if you put 1000 volts through it.\n",
      "-- Lovely plumage, the Norwegian Blue\n",
      "-- It's a stiff !\n"
     ]
    }
   ],
   "source": [
    "parrot(1000) #1000 voltage içine gider."
   ]
  },
  {
   "cell_type": "code",
   "execution_count": 13,
   "id": "e65b642a",
   "metadata": {},
   "outputs": [
    {
     "name": "stdout",
     "output_type": "stream",
     "text": [
      "-- This parrot wouldn't VOOOOOOOM if you put 100000 volts through it.\n",
      "-- Lovely plumage, the Norwegian Blue\n",
      "-- It's a stiff !\n"
     ]
    }
   ],
   "source": [
    "parrot(voltage=100000, action='VOOOOOOOM')"
   ]
  },
  {
   "cell_type": "code",
   "execution_count": 14,
   "id": "cbf08488",
   "metadata": {},
   "outputs": [
    {
     "name": "stdout",
     "output_type": "stream",
     "text": [
      "-- This parrot wouldn't VOOOOOOOM if you put 100000 volts through it.\n",
      "-- Lovely plumage, the Norwegian Blue\n",
      "-- It's a stiff !\n"
     ]
    }
   ],
   "source": [
    "parrot(action='VOOOOOOOM', voltage=100000) #action ile voltage yer değiştirdi ama aynı şeklde döndi."
   ]
  },
  {
   "cell_type": "code",
   "execution_count": 15,
   "id": "7745985d",
   "metadata": {},
   "outputs": [
    {
     "name": "stdout",
     "output_type": "stream",
     "text": [
      "-- This parrot wouldn't jump if you put a million volts through it.\n",
      "-- Lovely plumage, the Norwegian Blue\n",
      "-- It's bereft of life !\n"
     ]
    }
   ],
   "source": [
    "parrot ( 'a million', 'bereft of life', 'jump') # argymentşer sırasıyla parametrelere giderler"
   ]
  },
  {
   "cell_type": "code",
   "execution_count": 16,
   "id": "5c82726a",
   "metadata": {},
   "outputs": [
    {
     "name": "stdout",
     "output_type": "stream",
     "text": [
      "-- This parrot wouldn't voom if you put a thousand volts through it.\n",
      "-- Lovely plumage, the Norwegian Blue\n",
      "-- It's pushing up daises !\n"
     ]
    }
   ],
   "source": [
    "parrot ( 'a thousand', state= 'pushing up daises')"
   ]
  },
  {
   "cell_type": "code",
   "execution_count": 17,
   "id": "29d0a17d",
   "metadata": {},
   "outputs": [
    {
     "ename": "TypeError",
     "evalue": "parrot() missing 1 required positional argument: 'voltage'",
     "output_type": "error",
     "traceback": [
      "\u001b[0;31m---------------------------------------------------------------------------\u001b[0m",
      "\u001b[0;31mTypeError\u001b[0m                                 Traceback (most recent call last)",
      "Input \u001b[0;32mIn [17]\u001b[0m, in \u001b[0;36m<module>\u001b[0;34m\u001b[0m\n\u001b[0;32m----> 1\u001b[0m \u001b[43mparrot\u001b[49m\u001b[43m(\u001b[49m\u001b[43m)\u001b[49m\n",
      "\u001b[0;31mTypeError\u001b[0m: parrot() missing 1 required positional argument: 'voltage'"
     ]
    }
   ],
   "source": [
    "parrot() #voltage eksik, en az bir değer atamanız gerekir"
   ]
  },
  {
   "cell_type": "code",
   "execution_count": 18,
   "id": "97f15104",
   "metadata": {},
   "outputs": [
    {
     "ename": "SyntaxError",
     "evalue": "positional argument follows keyword argument (2656868070.py, line 1)",
     "output_type": "error",
     "traceback": [
      "\u001b[0;36m  Input \u001b[0;32mIn [18]\u001b[0;36m\u001b[0m\n\u001b[0;31m    parrot (voltage=5, 'dead') #önce pozitionallar\u001b[0m\n\u001b[0m                             ^\u001b[0m\n\u001b[0;31mSyntaxError\u001b[0m\u001b[0;31m:\u001b[0m positional argument follows keyword argument\n"
     ]
    }
   ],
   "source": [
    "parrot (voltage=5, 'dead') #önce positional arg gelecekelr"
   ]
  },
  {
   "cell_type": "code",
   "execution_count": 19,
   "id": "bce80079",
   "metadata": {},
   "outputs": [
    {
     "ename": "SyntaxError",
     "evalue": "non-default argument follows default argument (4118927441.py, line 1)",
     "output_type": "error",
     "traceback": [
      "\u001b[0;36m  Input \u001b[0;32mIn [19]\u001b[0;36m\u001b[0m\n\u001b[0;31m    def argu(a,b='dünya', c, d='satürn'):\u001b[0m\n\u001b[0m                          ^\u001b[0m\n\u001b[0;31mSyntaxError\u001b[0m\u001b[0;31m:\u001b[0m non-default argument follows default argument\n"
     ]
    }
   ],
   "source": [
    "def argu(a,b='dünya', c, d='satürn'): # önce position c yi öne çek.\n",
    "        print(a,b,c,d, sep='\\n')"
   ]
  },
  {
   "cell_type": "code",
   "execution_count": 20,
   "id": "44640f0e",
   "metadata": {},
   "outputs": [],
   "source": [
    "def argu(a,c, b='dünya', d='satürn'):\n",
    "        print(a,b,c,d, sep='\\n')"
   ]
  },
  {
   "cell_type": "code",
   "execution_count": 21,
   "id": "6bbd2bb9",
   "metadata": {},
   "outputs": [
    {
     "ename": "TypeError",
     "evalue": "argu() missing 2 required positional arguments: 'a' and 'c'",
     "output_type": "error",
     "traceback": [
      "\u001b[0;31m---------------------------------------------------------------------------\u001b[0m",
      "\u001b[0;31mTypeError\u001b[0m                                 Traceback (most recent call last)",
      "Input \u001b[0;32mIn [21]\u001b[0m, in \u001b[0;36m<module>\u001b[0;34m\u001b[0m\n\u001b[0;32m----> 1\u001b[0m \u001b[43margu\u001b[49m\u001b[43m(\u001b[49m\u001b[43m)\u001b[49m\n",
      "\u001b[0;31mTypeError\u001b[0m: argu() missing 2 required positional arguments: 'a' and 'c'"
     ]
    }
   ],
   "source": [
    "argu() # a ve c ye değer atamadan çalışmaz."
   ]
  },
  {
   "cell_type": "code",
   "execution_count": 22,
   "id": "c3dc97ee",
   "metadata": {},
   "outputs": [
    {
     "name": "stdout",
     "output_type": "stream",
     "text": [
      "uranus\n",
      "dünya\n",
      "jupiter\n",
      "satürn\n"
     ]
    }
   ],
   "source": [
    "argu('uranus', 'jupiter')"
   ]
  },
  {
   "cell_type": "code",
   "execution_count": 23,
   "id": "07275d89",
   "metadata": {},
   "outputs": [
    {
     "name": "stdout",
     "output_type": "stream",
     "text": [
      "üranüs\n",
      "dünya\n",
      "jüpiter\n",
      "satürn\n"
     ]
    }
   ],
   "source": [
    "argu (a='üranüs', c='jüpiter')"
   ]
  },
  {
   "cell_type": "code",
   "execution_count": null,
   "id": "36ef42a0",
   "metadata": {},
   "outputs": [],
   "source": [
    "def argu(a,c, b='dünya', d='satürn'):\n",
    "        print(a,b,c,d, sep='\\n')"
   ]
  },
  {
   "cell_type": "code",
   "execution_count": 24,
   "id": "ab319e03",
   "metadata": {},
   "outputs": [
    {
     "ename": "TypeError",
     "evalue": "argu() got multiple values for argument 'c'",
     "output_type": "error",
     "traceback": [
      "\u001b[0;31m---------------------------------------------------------------------------\u001b[0m",
      "\u001b[0;31mTypeError\u001b[0m                                 Traceback (most recent call last)",
      "Input \u001b[0;32mIn [24]\u001b[0m, in \u001b[0;36m<module>\u001b[0;34m\u001b[0m\n\u001b[0;32m----> 1\u001b[0m \u001b[43margu\u001b[49m\u001b[43m \u001b[49m\u001b[43m(\u001b[49m\u001b[38;5;124;43m'\u001b[39;49m\u001b[38;5;124;43mplüto\u001b[39;49m\u001b[38;5;124;43m'\u001b[39;49m\u001b[43m,\u001b[49m\u001b[43m \u001b[49m\u001b[38;5;124;43m'\u001b[39;49m\u001b[38;5;124;43mneptün\u001b[39;49m\u001b[38;5;124;43m'\u001b[39;49m\u001b[43m,\u001b[49m\u001b[43m \u001b[49m\u001b[43mc\u001b[49m\u001b[43m \u001b[49m\u001b[38;5;241;43m=\u001b[39;49m\u001b[38;5;124;43m'\u001b[39;49m\u001b[38;5;124;43muranıs\u001b[39;49m\u001b[38;5;124;43m'\u001b[39;49m\u001b[43m)\u001b[49m\n",
      "\u001b[0;31mTypeError\u001b[0m: argu() got multiple values for argument 'c'"
     ]
    }
   ],
   "source": [
    "argu ('plüto', 'neptün', c ='uranıs') # c ye iki tane atadın argu() got multiple values for argument 'c'"
   ]
  },
  {
   "cell_type": "code",
   "execution_count": 25,
   "id": "708ae68c",
   "metadata": {},
   "outputs": [
    {
     "name": "stdout",
     "output_type": "stream",
     "text": [
      "güneş\n",
      "plüto\n",
      "dünya\n",
      "venus\n"
     ]
    }
   ],
   "source": [
    "argu ('güneş', 'dünya', 'plüto', 'venus') # hem pos hem key tanımlayabilir, çağırılabilir."
   ]
  },
  {
   "cell_type": "code",
   "execution_count": null,
   "id": "58578f89",
   "metadata": {},
   "outputs": [],
   "source": [
    "def bifunc (x = 'ali', y= 11 ):\n",
    "    print(x, y, 'yaşındadır')"
   ]
  },
  {
   "cell_type": "code",
   "execution_count": 26,
   "id": "24657c67",
   "metadata": {},
   "outputs": [
    {
     "name": "stdout",
     "output_type": "stream",
     "text": [
      "aziz 44 yaşındadır\n"
     ]
    }
   ],
   "source": [
    "bifunc('aziz', 44)# positionlarla çağırıldı"
   ]
  },
  {
   "cell_type": "markdown",
   "id": "24180949",
   "metadata": {},
   "source": [
    "# arbitrary ARGUMENTS\n",
    "# *args and **kwargs\n",
    "\n",
    "Belirsiz sayıda argümanlar, basic usage of arguments is positional and keyword.\n",
    "*args and **kwargs\n",
    "*args başa yıldız geldimi fruit iterable dönüşür. fonksiyonun gövdesi içerisinde iterable muamelesi yapmak zorundayız."
   ]
  },
  {
   "cell_type": "code",
   "execution_count": 33,
   "id": "0e509e9c",
   "metadata": {},
   "outputs": [
    {
     "name": "stdout",
     "output_type": "stream",
     "text": [
      "I want\n",
      "- orange\n",
      "- banana\n",
      "- melon\n",
      "- ananas\n"
     ]
    }
   ],
   "source": [
    "def fruiter(*fruit):\n",
    "    print ('I want')\n",
    "    for i in fruit :\n",
    "        print('-', i)\n",
    "fruiter('orange', 'banana', 'melon', 'ananas')"
   ]
  },
  {
   "cell_type": "code",
   "execution_count": 36,
   "id": "cb4ef116",
   "metadata": {},
   "outputs": [
    {
     "name": "stdout",
     "output_type": "stream",
     "text": [
      "<class 'tuple'>\n"
     ]
    }
   ],
   "source": [
    "def fruiter(*fruit):\n",
    "    print (type(fruit))\n",
    "fruiter('orange', 'banana', 'melon', 'ananas')"
   ]
  },
  {
   "cell_type": "code",
   "execution_count": 54,
   "id": "c0cd3ff3",
   "metadata": {},
   "outputs": [
    {
     "name": "stdout",
     "output_type": "stream",
     "text": [
      "even list: [2, 4, 6, 8]\n",
      "odd list: [1, 3, 5, 7, 9]\n"
     ]
    }
   ],
   "source": [
    "def slicer(*numbers):\n",
    "    evens=[]\n",
    "    odds=[]\n",
    "    for i in numbers:\n",
    "        if i%2==0:\n",
    "            evens.append(i)\n",
    "        else:\n",
    "            odds.append(i)\n",
    "    print('even list:', evens)\n",
    "    print('odd list:', odds)\n",
    "slicer(1,2,3,4,5,6,7,8,9)"
   ]
  },
  {
   "cell_type": "code",
   "execution_count": null,
   "id": "502a5980",
   "metadata": {},
   "outputs": [],
   "source": []
  },
  {
   "cell_type": "markdown",
   "id": "a4b4ee94",
   "metadata": {},
   "source": [
    "# **kwargs dict formatı ile çalışır."
   ]
  },
  {
   "cell_type": "code",
   "execution_count": 55,
   "id": "0cee4261",
   "metadata": {},
   "outputs": [
    {
     "name": "stdout",
     "output_type": "stream",
     "text": [
      "Lions are Carnivores\n",
      "Bears are Omnivores\n",
      "Deers are Herbivores\n",
      "Human are Nomnivores\n"
     ]
    }
   ],
   "source": [
    "def animals(**kwargs):\n",
    "    for key, value in kwargs.items():\n",
    "        print(value, \"are\", key)\n",
    " \n",
    "animals(Carnivores=\"Lions\", Omnivores=\"Bears\", Herbivores=\"Deers\", Nomnivores=\"Human\")"
   ]
  },
  {
   "cell_type": "code",
   "execution_count": 9,
   "id": "da8d7fb0",
   "metadata": {},
   "outputs": [
    {
     "name": "stdout",
     "output_type": "stream",
     "text": [
      "not not bad\n"
     ]
    }
   ],
   "source": [
    "def not_string(word):\n",
    "    return 'not' + ' ' + word\n",
    "print(not_string('not bad'))"
   ]
  },
  {
   "cell_type": "code",
   "execution_count": 76,
   "id": "6ab3b599",
   "metadata": {},
   "outputs": [
    {
     "name": "stdout",
     "output_type": "stream",
     "text": [
      "['Beth', 'Oscar', 'Justin', 'Frank']\n",
      "[26, 42, 18, 33]\n"
     ]
    }
   ],
   "source": [
    "def organizer (**kwargs):\n",
    "    for key, value in kwargs.items():\n",
    "        print(list(kwargs.keys()))\n",
    "        print(list(kwargs.values()))\n",
    "        break    \n",
    "organizer(Beth=26, Oscar=42, Justin=18, Frank=33)"
   ]
  },
  {
   "cell_type": "code",
   "execution_count": 2,
   "id": "a5bcb19d",
   "metadata": {},
   "outputs": [
    {
     "name": "stdout",
     "output_type": "stream",
     "text": [
      "['Beth', 'Oscar', 'Justin', 'Frank']\n",
      "[26, 42, 18, 33]\n"
     ]
    }
   ],
   "source": [
    "def organizer(**people):\n",
    "    names=[]\n",
    "    ages=[]\n",
    "    for keys, values in people.items():\n",
    "        names.append(keys)\n",
    "        ages.append(values)\n",
    "    print(names, ages, sep='\\n')\n",
    "organizer(Beth=26, Oscar=42, Justin=18, Frank=33)"
   ]
  },
  {
   "cell_type": "code",
   "execution_count": null,
   "id": "08f4c6b2",
   "metadata": {},
   "outputs": [],
   "source": []
  },
  {
   "cell_type": "code",
   "execution_count": 4,
   "id": "52442b28",
   "metadata": {},
   "outputs": [
    {
     "name": "stdout",
     "output_type": "stream",
     "text": [
      "['Beth', 'Oscar', 'Justin', 'Frank']\n",
      "[26, 42, 18, 33]\n"
     ]
    }
   ],
   "source": [
    "def organizer (**people):\n",
    "    names=[]\n",
    "    ages=[]\n",
    "    \n",
    "    for keys, values in people.items():\n",
    "        names.append(keys)\n",
    "        ages.append(values)\n",
    "    print(names, ages, sep='\\n')\n",
    "organizer(Beth=26, Oscar=42, Justin=18, Frank=33)"
   ]
  },
  {
   "cell_type": "markdown",
   "id": "d84d52e6",
   "metadata": {},
   "source": [
    "# FIBONACCI NUMBERS"
   ]
  },
  {
   "cell_type": "code",
   "execution_count": 7,
   "id": "4d3ef53f",
   "metadata": {},
   "outputs": [
    {
     "name": "stdout",
     "output_type": "stream",
     "text": [
      "enter number which is element of fibo list5\n"
     ]
    },
    {
     "data": {
      "text/plain": [
       "[1, 1, 2, 3, 5]"
      ]
     },
     "execution_count": 7,
     "metadata": {},
     "output_type": "execute_result"
    }
   ],
   "source": [
    "fibo=[1,1]\n",
    "n=int(input('enter number which is element of fibo list' ))\n",
    "for i in range(n-2):\n",
    "    fibo.append(fibo[i]+fibo[i+1])\n",
    "fibo"
   ]
  },
  {
   "cell_type": "code",
   "execution_count": 9,
   "id": "4672e2a0",
   "metadata": {},
   "outputs": [
    {
     "data": {
      "text/plain": [
       "[1, 1, 2, 3, 5, 8, 13, 21]"
      ]
     },
     "execution_count": 9,
     "metadata": {},
     "output_type": "execute_result"
    }
   ],
   "source": [
    "fibo = [1,1]\n",
    "for i in range(6):\n",
    "    fibo.append(fibo[i]+fibo[i+1])\n",
    "fibo"
   ]
  },
  {
   "cell_type": "markdown",
   "id": "1ce44593",
   "metadata": {},
   "source": [
    "# filter() metodu: iterable bir öğeyi işlemenize ve belirli bir koşulu karşılayan öğeleri çıkarmanıza (extract etmeye) olanak tanıyan build in fonksiyondur.\n",
    "Bu işlem genellikle bir filtreleme fonksiyonu olarak bilinir.\n",
    "filter() ile, bir iterable öğeye bir filtreleme fonksiyonu uygulayabilir ve eldeki koşulu karşılayan öğelerle yeni bir iterable object üretebilirsiniz.\n",
    "FILTER :BİR FONKSİYON VE İTERABLE ALIR, FONKSİYONUN TRUE VEYA FALSE döndürmesi gerekir, TRUE YADA FALSE a GÖRE SÜZMESİ LAZIM, "
   ]
  },
  {
   "cell_type": "code",
   "execution_count": 19,
   "id": "7d58edda",
   "metadata": {},
   "outputs": [
    {
     "data": {
      "text/plain": [
       "'/Users/saint'"
      ]
     },
     "execution_count": 19,
     "metadata": {},
     "output_type": "execute_result"
    }
   ],
   "source": [
    "   pwd"
   ]
  },
  {
   "cell_type": "code",
   "execution_count": 16,
   "id": "0d4ce635",
   "metadata": {},
   "outputs": [
    {
     "name": "stdout",
     "output_type": "stream",
     "text": [
      "e i e e a a ı e e u u u u o u e e i i u u u o u\n"
     ]
    }
   ],
   "source": [
    "cümle = 'ben size ders anlatırkene huzur buluyorum. dertlerimi unutuyorum.'\n",
    "def vowel(letter):\n",
    "    \n",
    "    vowels ='a e i u o ü ö ı'.split()\n",
    "    if letter.lower() in vowels:\n",
    "        return True\n",
    "    else:\n",
    "        return False\n",
    "    \n",
    "filtered_vowels = filter(vowel, cümle) #cümle iterable ını vowel fonksiyonuna göre filtrele.\n",
    "print (list(filtered_vowels), end='') "
   ]
  },
  {
   "cell_type": "code",
   "execution_count": 18,
   "id": "841d541f",
   "metadata": {},
   "outputs": [
    {
     "name": "stdout",
     "output_type": "stream",
     "text": [
      "e i e e a a ı e e u u u u o u e e i i u u u o u\n"
     ]
    }
   ],
   "source": [
    "filtered_vowels = filter(vowel, cümle)\n",
    "print(* filtered_vowels)"
   ]
  },
  {
   "cell_type": "code",
   "execution_count": 17,
   "id": "f335d8e3",
   "metadata": {},
   "outputs": [
    {
     "name": "stdout",
     "output_type": "stream",
     "text": [
      "\n"
     ]
    }
   ],
   "source": [
    "#filter(none, x ) vowel yerine none kullandık, fonksiyon yerine none kullanılır, none truty çalışır, false çalıştırmaz. "
   ]
  },
  {
   "cell_type": "code",
   "execution_count": null,
   "id": "ca360b9d",
   "metadata": {},
   "outputs": [],
   "source": [
    "#iterable çalışan tüm fonksiyonlar aynı mantıkla çalışır. \n",
    "filter şunu yapar, iterable ın (cümle) tüm elemanlarına teker teker\n",
    "vowel fonksiyonunda yazılan fonksiyonu tatbik eder. çıkan sonuca göre hareket eder.\n",
    "mesela cümle nin ilk harfi olan b harfini tatbik eder ama false çalışır,\n",
    "ikinci harfi e 'yi  tatbik eder, truty çalışır sen gel der, filtered_vowels ın içine atar."
   ]
  }
 ],
 "metadata": {
  "kernelspec": {
   "display_name": "Python 3 (ipykernel)",
   "language": "python",
   "name": "python3"
  },
  "language_info": {
   "codemirror_mode": {
    "name": "ipython",
    "version": 3
   },
   "file_extension": ".py",
   "mimetype": "text/x-python",
   "name": "python",
   "nbconvert_exporter": "python",
   "pygments_lexer": "ipython3",
   "version": "3.10.1"
  }
 },
 "nbformat": 4,
 "nbformat_minor": 5
}
