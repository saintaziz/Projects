{
 "cells": [
  {
   "cell_type": "markdown",
   "metadata": {},
   "source": []
  },
  {
   "cell_type": "markdown",
   "metadata": {},
   "source": [
    "\n",
    "## Coding Challenge -1 : Palindrome\n",
    "\n",
    "Purpose of the this coding challenge is to solve a control flow statements issue.\n",
    "\n",
    "### Learning Outcomes\n",
    "\n",
    "At the end of the this coding challenge, students will be able to;\n",
    "\n",
    "- understand the use of loops.\n",
    "- understand the importance of alphanumeric string methods.\n",
    "- get a better understanding in manipulating strings.\n",
    "\n",
    "### Problem Statement\n",
    "  \n",
    "- Write a function/functions that checks whether the sentence you get from the user is a **palindrome**. (Do not consider punctuation and special characters. Only consider \"***alphanumeric***\" characters.)\n",
    "\n",
    "\n",
    "```bash\n",
    "input : \"ey edip adana'da, pide ye!\"\n",
    "\n",
    "output : \"ey edip adana'da, pide ye!\" is a palindrome\n",
    "\n",
    "input : \"Was it a car or a cat I saw?\"\n",
    "\n",
    "output : \"Was it a car or a cat I saw?\" is a palindrome\n",
    "```"
   ]
  },
  {
   "cell_type": "code",
   "execution_count": null,
   "metadata": {},
   "outputs": [],
   "source": [
    "pal = \"ey edip adana'da, pide ye!\"\n",
    "pal1 = \"\"\n",
    "for i in pal:\n",
    "    if i.isalnum():\n",
    "        pal1+=i\n",
    "print(pal1)\n",
    "if pal1[::] == pal1[::-1]:\n",
    "    print(\"it's palindrome\")"
   ]
  },
  {
   "cell_type": "code",
   "execution_count": null,
   "metadata": {},
   "outputs": [],
   "source": []
  },
  {
   "cell_type": "code",
   "execution_count": null,
   "metadata": {},
   "outputs": [],
   "source": []
  },
  {
   "cell_type": "code",
   "execution_count": null,
   "metadata": {},
   "outputs": [],
   "source": []
  },
  {
   "cell_type": "code",
   "execution_count": null,
   "metadata": {},
   "outputs": [],
   "source": []
  },
  {
   "cell_type": "code",
   "execution_count": null,
   "metadata": {},
   "outputs": [],
   "source": []
  },
  {
   "cell_type": "code",
   "execution_count": null,
   "metadata": {},
   "outputs": [],
   "source": []
  },
  {
   "cell_type": "markdown",
   "metadata": {
    "id": "q3TjOprULMrI"
   },
   "source": [
    "## **Question-1**\n",
    "\n",
    "The squirrels in Palo Alto spend most of the day playing. In particular, they play if the temperature is between 60 and 90 (inclusive). Unless it is summer, then the upper limit is 100 instead of 90. Given an `int` temperature and a boolean `is_summer`, return True if the squirrels play and False otherwise.\n",
    "\n",
    "**Examples:**\n",
    "\n",
    "`squirrel_play(70, False) → True`\n",
    "\n",
    "`squirrel_play(95, False) → False`\n",
    "\n",
    "`squirrel_play(95, True) → True`"
   ]
  },
  {
   "cell_type": "code",
   "execution_count": 48,
   "metadata": {},
   "outputs": [],
   "source": [
    "def squirrel_play (temp, season):\n",
    "    if season==True:\n",
    "        if 60<=temp<=90:\n",
    "              print(True)\n",
    "        else:\n",
    "              print(False)\n",
    "    else:\n",
    "        if 60<=temp<=100:\n",
    "              print(True)\n",
    "        else:\n",
    "            print(False)"
   ]
  },
  {
   "cell_type": "code",
   "execution_count": 49,
   "metadata": {
    "id": "eXqUc-hDLFB1"
   },
   "outputs": [
    {
     "name": "stdout",
     "output_type": "stream",
     "text": [
      "False\n"
     ]
    }
   ],
   "source": [
    "squirrel_play(100, True)"
   ]
  },
  {
   "cell_type": "markdown",
   "metadata": {
    "id": "fjQuIeP_LTqY"
   },
   "source": [
    "## **Question-2**\n",
    "\n",
    "Create a function that takes two arguments: the original `price` and the `discount` percentage as integers and returns the final price after the discount. Your answer should be rounded to two decimal places.\n",
    "\n",
    "**Examples:**\n",
    "\n",
    "`dis(1500, 50) ➞ 750`\n",
    "\n",
    "`dis(89, 20) ➞ 71.2`\n",
    "\n",
    "`dis(100, 75) ➞ 25`"
   ]
  },
  {
   "cell_type": "code",
   "execution_count": 52,
   "metadata": {
    "id": "QOSQqS75LU60"
   },
   "outputs": [],
   "source": [
    "def new_price (price,disc):\n",
    "    new_price = print(round(price-(price*disc/100),2))"
   ]
  },
  {
   "cell_type": "code",
   "execution_count": 53,
   "metadata": {},
   "outputs": [
    {
     "name": "stdout",
     "output_type": "stream",
     "text": [
      "750.0\n"
     ]
    }
   ],
   "source": [
    "new_price(1500,50)"
   ]
  },
  {
   "cell_type": "code",
   "execution_count": null,
   "metadata": {},
   "outputs": [],
   "source": []
  },
  {
   "cell_type": "markdown",
   "metadata": {
    "id": "j8keU28iLVWY"
   },
   "source": [
    "## **Question-3**\n",
    "\n",
    "Create a function that takes three arguments `a, b, c` and returns the sum of the numbers that are evenly divided by `c` from the range `a, b` inclusive.\n",
    "\n",
    "**Examples:**\n",
    "\n",
    "`evenly_divisible(1, 10, 20) ➞ 0`\n",
    "\n",
    "`# No number between 1 and 10 can be evenly divided by 20.`\n",
    "\n",
    "`evenly_divisible(1, 10, 2) ➞ 30`\n",
    "\n",
    "`# 2 + 4 + 6 + 8 + 10 = 30`\n",
    "\n",
    "`evenly_divisible(1, 10, 3) ➞ 18`\n",
    "\n",
    "`# 3 + 6 + 9 = 18`"
   ]
  },
  {
   "cell_type": "code",
   "execution_count": 55,
   "metadata": {
    "id": "xIPRChvMLmqA"
   },
   "outputs": [],
   "source": [
    "def new(a,b,c):\n",
    "    list1=[]\n",
    "    for i in range(a,b+1):\n",
    "        if i%c==0:\n",
    "            list1.append(i)\n",
    "    print(sum(list1))"
   ]
  },
  {
   "cell_type": "code",
   "execution_count": 56,
   "metadata": {},
   "outputs": [
    {
     "name": "stdout",
     "output_type": "stream",
     "text": [
      "18\n"
     ]
    }
   ],
   "source": [
    "new(1,10,3)"
   ]
  },
  {
   "cell_type": "markdown",
   "metadata": {
    "id": "Ix-7QgCULqVL"
   },
   "source": [
    "## **Question-4**\n",
    "\n",
    "Luke Skywalker has family and friends. Help him remind them who is who. Given a string with a name, create a function that returns the relation of that person to Luke.\n",
    "\n",
    "***Person (relation)***\n",
    "\n",
    "Darth Vader (father)\n",
    "\n",
    "Leia\t(sister)\n",
    "\n",
    "Han\t(brother in law)\n",
    "\n",
    "R2D2\t(droid)\n",
    "\n",
    "\n",
    "**Examples:**\n",
    "\n",
    "`relation_to_luke(\"Darth Vader\") ➞ \"Luke, I am your father.\"`\n",
    "\n",
    "`relation_to_luke(\"Leia\") ➞ \"Luke, I am your sister.\"`\n",
    "\n",
    "`relation_to_luke(\"Han\") ➞ \"Luke, I am your brother in law.\"`"
   ]
  },
  {
   "cell_type": "code",
   "execution_count": 58,
   "metadata": {
    "id": "gz97ONtqLvLC"
   },
   "outputs": [],
   "source": [
    "def relation_to_luke (name):\n",
    "    if name=='Darth Vader':\n",
    "        print('Luke, I am your father.')\n",
    "    elif name=='Leia':\n",
    "        print('Luke, I am your sister.')\n",
    "    elif name=='Han':\n",
    "        print('Luke, I am your brother in law.')"
   ]
  },
  {
   "cell_type": "code",
   "execution_count": 60,
   "metadata": {},
   "outputs": [
    {
     "name": "stdout",
     "output_type": "stream",
     "text": [
      "Luke, I am your father.\n"
     ]
    }
   ],
   "source": [
    "relation_to_luke('Darth Vader')"
   ]
  },
  {
   "cell_type": "code",
   "execution_count": null,
   "metadata": {},
   "outputs": [],
   "source": [
    "\n",
    "name = {\n",
    "    'Darth Vader':'father',\n",
    "'Leia':'sister',\n",
    "'Han':'brother in law'}\n"
   ]
  },
  {
   "cell_type": "code",
   "execution_count": null,
   "metadata": {},
   "outputs": [],
   "source": []
  },
  {
   "cell_type": "markdown",
   "metadata": {
    "id": "_cenXRM8L0RT"
   },
   "source": [
    "## **Question-5**\n",
    "\n",
    "Create a function that takes a number as an argument and returns \"Fizz\", \"Buzz\" or \"FizzBuzz\".\n",
    "\n",
    "* If the number is a multiple of 3 the output should be \"Fizz\".\n",
    "\n",
    "* If the number given is a multiple of 5, the output should be \"Buzz\".\n",
    "\n",
    "* If the number given is a multiple of both 3 and 5, the output should be \"FizzBuzz\".\n",
    "\n",
    "* If the number is not a multiple of either 3 or 5, the\n",
    "number should be output on its own as shown in the examples below.\n",
    "\n",
    "* The output should always be a string even if it is not a multiple of 3 or 5.\n",
    "\n",
    "**Examples:**\n",
    "\n",
    "`fizz_buzz(3) ➞ \"Fizz\"`\n",
    "\n",
    "`fizz_buzz(5) ➞ \"Buzz\"`\n",
    "\n",
    "`fizz_buzz(15) ➞ \"FizzBuzz\"`\n",
    "\n",
    "`fizz_buzz(4) ➞ \"4\"`"
   ]
  },
  {
   "cell_type": "code",
   "execution_count": 62,
   "metadata": {},
   "outputs": [],
   "source": [
    "def fizz_buzz(num):\n",
    "\n",
    "    if num%3==0 and num%5==0 :\n",
    "        print('FizzBuzz')\n",
    "    elif num%3==0:\n",
    "        print('Fizz')\n",
    "    elif num%5==0:\n",
    "        print('Buzz')\n",
    "    else:\n",
    "        print(str(num))"
   ]
  },
  {
   "cell_type": "code",
   "execution_count": 64,
   "metadata": {
    "id": "PfSb4SQKL1l6"
   },
   "outputs": [
    {
     "name": "stdout",
     "output_type": "stream",
     "text": [
      "4\n"
     ]
    }
   ],
   "source": [
    "fizz_buzz(4)"
   ]
  },
  {
   "cell_type": "markdown",
   "metadata": {
    "id": "pJqJC8ZUMNnQ"
   },
   "source": [
    "## **Question-6**\n",
    "\n",
    "If you are given three sticks, you may or may not be able to arrange them in a triangle. For example, if one of the sticks is 12 inches long and the other two are one inch\n",
    "long, you will not be able to get the short sticks to meet in the middle. For any three lengths, there is a simple test to see if it is possible to form a triangle:\n",
    "\n",
    "*If any of the three lengths is greater than the sum of the other two, then you cannot form a triangle. Otherwise, you can. (If the sum of two lengths equals the third, they form what is called a “degenerate” triangle.)*\n",
    "\n",
    "**Tasks:**\n",
    "\n",
    "1. Write a function named `is_triangle` that takes three integers as arguments, and that prints either “Yes” or “No”, depending on whether you can or cannot form a triangle from sticks with the given lengths.\n",
    "\n",
    "2. Write a function that prompts the user to input three stick lengths, converts them to integers, and uses `is_triangle` to check whether sticks with the given lengths\n",
    "can form a triangle."
   ]
  },
  {
   "cell_type": "code",
   "execution_count": 70,
   "metadata": {
    "id": "ChNLIg-bMQC8"
   },
   "outputs": [
    {
     "name": "stdout",
     "output_type": "stream",
     "text": [
      "a:6\n",
      "b:6\n",
      "c:13\n",
      "No\n"
     ]
    }
   ],
   "source": [
    "a=int(input('a:'))\n",
    "b=int(input('b:'))\n",
    "c=int(input('c:'))\n",
    "def is_triangele(a,b,c):\n",
    "    if c > a+b or b > a+c or a >b+c :\n",
    "            print('No')\n",
    "    elif c == a+b or b == a+c or a == b+c:\n",
    "            print('“degenerate” triangle')\n",
    "    else:\n",
    "          print('Yes')\n",
    "is_triangele(a,b,c)"
   ]
  },
  {
   "cell_type": "markdown",
   "metadata": {
    "id": "TtcnGxpqMRi6"
   },
   "source": [
    "## **Question-7**\n",
    "\n",
    "**Task:**\n",
    "\n",
    "Prompt the user to input a text, analyze it and display how many times letters are used and group them as vowels and consonants. \n",
    "\n",
    "**Desired output:**\n",
    "\n",
    "`Mozilla Firefox is an open-source web browser developed by Mozilla.`\n",
    "\n",
    "`Vowels are:` \n",
    "`{'o': 7, 'i': 4, 'a': 3, 'e': 8, 'u': 1}`\n",
    "\n",
    "`Consonants are:` \n",
    "`{'m': 2, 'z': 2, 'l': 5, 'f': 2, 'r': 4, 'x': 1, 's': 3, 'n': 2, 'p': 2, 'c': 1, 'w': 2, 'b': 3, 'd': 2, 'v': 1, 'y': 1}`"
   ]
  },
  {
   "cell_type": "code",
   "execution_count": 117,
   "metadata": {
    "id": "1w3fdfoGMXGd"
   },
   "outputs": [
    {
     "name": "stdout",
     "output_type": "stream",
     "text": [
      "{'a', 'i', 'e', 'u'}\n",
      "{'3', '1', '8', '4'}\n",
      "['m', 'o', 'z', 'l', 'l', 'f', 'r', 'f', 'o', 'x', 's', 'n', 'o', 'p', 'n', 's', 'o', 'r', 'c', 'w', 'b', 'b', 'r', 'o', 'w', 's', 'r', 'd', 'v', 'l', 'o', 'p', 'd', 'b', 'y', 'm', 'o', 'z', 'l', 'l']\n",
      "['2', '7', '2', '5', '5', '2', '4', '2', '7', '1', '3', '2', '7', '2', '2', '3', '7', '4', '1', '2', '3', '3', '4', '7', '2', '3', '4', '2', '1', '5', '7', '2', '2', '3', '1', '2', '7', '2', '5', '5']\n"
     ]
    }
   ],
   "source": [
    "text1 = 'Mozilla Firefox is an open-source web browser developed by Mozilla'\n",
    "text2= \"\"\n",
    "for i in text1:\n",
    "    if i.isalnum():\n",
    "        text2+=i\n",
    "text=text2.lower()  \n",
    "\n",
    "vowels = ['a', 'e', 'u', 'i']\n",
    "consonants = ['q', 'w', 'r' ,'t' , 'y' ,'p' ,'s' ,'d' ,'f' ,'g' ,'h' ,'j' ,'k' ,'l' ,'z' ,'x' ,'c' ,'v' ,'b' ,'n' ,'m']\n",
    "list_vowels=[]\n",
    "count_list_vowels=[]\n",
    "list_consonants=[]\n",
    "count_list_consonant=[]\n",
    "for i in text:\n",
    "    if i in vowels:\n",
    "        list_vowels+=i\n",
    "        count_list_vowels+=str(text.count(i))\n",
    "    else:\n",
    "        list_consonants+=i\n",
    "        count_list_consonant+=str(text.count(i))\n",
    "print(set(list_vowels))\n",
    "print(set(count_list_vowels))\n",
    "print(list_consonants)\n",
    "print(count_list_consonant)"
   ]
  },
  {
   "cell_type": "code",
   "execution_count": null,
   "metadata": {},
   "outputs": [],
   "source": []
  },
  {
   "cell_type": "code",
   "execution_count": null,
   "metadata": {},
   "outputs": [],
   "source": []
  },
  {
   "cell_type": "code",
   "execution_count": null,
   "metadata": {},
   "outputs": [],
   "source": []
  },
  {
   "cell_type": "code",
   "execution_count": null,
   "metadata": {},
   "outputs": [],
   "source": []
  },
  {
   "cell_type": "markdown",
   "metadata": {
    "id": "yQ8bkqoCMbEM"
   },
   "source": [
    "## **Question-8**\n",
    "\n",
    "\n",
    "A palindrome is a word that is spelled the same backward and forward, like “noon” and “redivider”. Recursively, a word is a palindrome if the first and last letters are the\n",
    "same and the middle is a palindrome.\n",
    "\n",
    "The following are functions that take a string argument and return the first, last, and middle letters:"
   ]
  },
  {
   "cell_type": "code",
   "execution_count": null,
   "metadata": {
    "id": "ei6c8aQxMgyC"
   },
   "outputs": [],
   "source": [
    "def first(word):\n",
    "  return word[0]\n",
    "\n",
    "def last(word):\n",
    "  return word[-1]\n",
    "\n",
    "def middle(word):\n",
    "  return word[1:-1]"
   ]
  },
  {
   "cell_type": "markdown",
   "metadata": {
    "id": "mpFnVxlbQllv"
   },
   "source": [
    "**Task**\n",
    "\n",
    "Write a function called `is_palindrome` that takes a string argument from user and returns True if it is a palindrome and False otherwise. Remember that you can use the built-in function len to check the length of a string."
   ]
  },
  {
   "cell_type": "code",
   "execution_count": null,
   "metadata": {
    "id": "qNcdEwFDQn03"
   },
   "outputs": [],
   "source": []
  }
 ],
 "metadata": {
  "colab": {
   "authorship_tag": "ABX9TyNi1PztKPLpqNsUrwZN86sj",
   "name": "15Mar22_Python-LWS_questions.ipynb",
   "provenance": []
  },
  "kernelspec": {
   "display_name": "Python 3 (ipykernel)",
   "language": "python",
   "name": "python3"
  },
  "language_info": {
   "codemirror_mode": {
    "name": "ipython",
    "version": 3
   },
   "file_extension": ".py",
   "mimetype": "text/x-python",
   "name": "python",
   "nbconvert_exporter": "python",
   "pygments_lexer": "ipython3",
   "version": "3.10.1"
  }
 },
 "nbformat": 4,
 "nbformat_minor": 1
}
