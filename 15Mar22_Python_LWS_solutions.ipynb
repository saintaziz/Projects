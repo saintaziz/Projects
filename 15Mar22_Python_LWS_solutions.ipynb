{
 "cells": [
  {
   "cell_type": "markdown",
   "metadata": {
    "id": "YRlLXEbYJlzO"
   },
   "source": [
    "## **Question-1**\n",
    "\n",
    "The squirrels in Palo Alto spend most of the day playing. In particular, they play if the temperature is between 60 and 90 (inclusive). If it is summer, then the upper limit is 100 instead of 90. Given an int `temperature` and a boolean `is_summer`, return True if the squirrels play and False otherwise.\n",
    "\n",
    "**Examples:**\n",
    "\n",
    "`squirrel_play(70, False) → True`\n",
    "\n",
    "`squirrel_play(95, False) → False`\n",
    "\n",
    "`squirrel_play(95, True) → True`"
   ]
  },
  {
   "cell_type": "code",
   "execution_count": null,
   "metadata": {
    "colab": {
     "base_uri": "https://localhost:8080/"
    },
    "id": "axZRmBPSH85E",
    "outputId": "4f302497-3434-49c4-d720-85505360aa6e"
   },
   "outputs": [
    {
     "name": "stdout",
     "output_type": "stream",
     "text": [
      "True\n"
     ]
    }
   ],
   "source": [
    "temperature = 95\n",
    "is_summer = True\n",
    "squirrel_play = \"\"\n",
    "\n",
    "if is_summer and 60 <= temperature <= 100:\n",
    "    squirrel_play = True\n",
    "elif 60 <= temperature <= 90:\n",
    "    squirrel_play = True\n",
    "else:\n",
    "    squirrel_play = False\n",
    "\n",
    "print(squirrel_play)"
   ]
  },
  {
   "cell_type": "markdown",
   "metadata": {
    "id": "683zhrnnHRUY"
   },
   "source": [
    "## **Question-2**\n",
    "\n",
    "Create a function that takes two arguments: the original `price` and the `discount` percentage as integers and returns the final price after the discount. Your answer should be rounded to two decimal places.\n",
    "\n",
    "**Examples:**\n",
    "\n",
    "`dis(1500, 50) ➞ 750`\n",
    "\n",
    "`dis(89, 20) ➞ 71.2`\n",
    "\n",
    "`dis(100, 75) ➞ 25`"
   ]
  },
  {
   "cell_type": "code",
   "execution_count": null,
   "metadata": {
    "colab": {
     "base_uri": "https://localhost:8080/"
    },
    "id": "7G8rIE1EF70W",
    "outputId": "c58d1e6b-3fff-4f59-bd0f-b49abf05c4f9"
   },
   "outputs": [
    {
     "data": {
      "text/plain": [
       "71.2"
      ]
     },
     "execution_count": 23,
     "metadata": {},
     "output_type": "execute_result"
    }
   ],
   "source": [
    "def dis(price, discount):\n",
    "\treturn round(price-price*(discount/100), 2)\n",
    "\n",
    "dis(89, 20)"
   ]
  },
  {
   "cell_type": "markdown",
   "metadata": {
    "id": "x0j5MCa8Ecyc"
   },
   "source": [
    "## **Question-3**\n",
    "\n",
    "Create a function that takes three arguments `a, b, c` and returns the sum of the numbers that are evenly divided by `c` from the range `a, b` inclusive.\n",
    "\n",
    "**Examples:**\n",
    "\n",
    "`evenly_divisible(1, 10, 20) ➞ 0`\n",
    "\n",
    "`# No number between 1 and 10 can be evenly divided by 20.`\n",
    "\n",
    "`evenly_divisible(1, 10, 2) ➞ 30`\n",
    "\n",
    "`# 2 + 4 + 6 + 8 + 10 = 30`\n",
    "\n",
    "`evenly_divisible(1, 10, 3) ➞ 18`\n",
    "\n",
    "`# 3 + 6 + 9 = 18`"
   ]
  },
  {
   "cell_type": "code",
   "execution_count": null,
   "metadata": {
    "colab": {
     "base_uri": "https://localhost:8080/"
    },
    "id": "LnPWBLNiFHaR",
    "outputId": "4f47f3e9-4bb2-4ef2-e8be-440961f6bd7a"
   },
   "outputs": [
    {
     "data": {
      "text/plain": [
       "30"
      ]
     },
     "execution_count": 13,
     "metadata": {},
     "output_type": "execute_result"
    }
   ],
   "source": [
    "def evenly_divisible(a, b, c):\n",
    "\tdivisible = []\n",
    "\tfor i in range(a, b+1):\n",
    "\t\tif i % c == 0:\n",
    "\t\t\tdivisible.append(i)\n",
    "\tcount = 0\n",
    "\tfor i in divisible:\n",
    "\t\tcount+=i\n",
    "\treturn count\n",
    "\n",
    "evenly_divisible(1, 10, 2)"
   ]
  },
  {
   "cell_type": "markdown",
   "metadata": {
    "id": "rhCGe5LG_pBj"
   },
   "source": [
    "## **Question-4**\n",
    "\n",
    "Luke Skywalker has family and friends. Help him remind them who is who. Given a string with a name, create a function that returns the relation of that person to Luke.\n",
    "\n",
    "***Person (relation)***\n",
    "\n",
    "Darth Vader (father)\n",
    "\n",
    "Leia\t(sister)\n",
    "\n",
    "Han\t(brother in law)\n",
    "\n",
    "R2D2\t(droid)\n",
    "\n",
    "\n",
    "**Examples:**\n",
    "\n",
    "`relation_to_luke(\"Darth Vader\") ➞ \"Luke, I am your father.\"`\n",
    "\n",
    "`relation_to_luke(\"Leia\") ➞ \"Luke, I am your sister.\"`\n",
    "\n",
    "`relation_to_luke(\"Han\") ➞ \"Luke, I am your brother in law.\"`"
   ]
  },
  {
   "cell_type": "code",
   "execution_count": null,
   "metadata": {
    "id": "8AtlGcGHA4NY"
   },
   "outputs": [],
   "source": [
    "def relation_to_luke(name):\n",
    "\tsolutions = {'Leia':'sister',\n",
    "\t'Darth Vader':'father',\n",
    "\t'Han':'brother in law',\n",
    "\t'R2D2':'droid'}\n",
    "\treturn 'Luke, I am your {}.'.format(solutions[name])"
   ]
  },
  {
   "cell_type": "code",
   "execution_count": null,
   "metadata": {
    "id": "bXtRSyq3BFxh"
   },
   "outputs": [],
   "source": [
    "def relation_to_luke(name):\n",
    "    if name == \"Darth Vader\":\n",
    "\t\t    return \"Luke, I am your father.\"\n",
    "    if name == \"Leia\":\n",
    "\t\t    return \"Luke, I am your sister.\"\t\n",
    "    if name == \"Han\":\n",
    "\t\t    return \"Luke, I am your brother in law.\"\n",
    "    if name == \"R2D2\":\n",
    "\t\t    return \"Luke, I am your droid.\""
   ]
  },
  {
   "cell_type": "markdown",
   "metadata": {
    "id": "hCSA08L-60Ka"
   },
   "source": [
    "## **Question-5**\n",
    "\n",
    "Create a function that takes a number as an argument and returns \"Fizz\", \"Buzz\" or \"FizzBuzz\".\n",
    "\n",
    "* If the number is a multiple of 3 the output should be \"Fizz\".\n",
    "\n",
    "* If the number given is a multiple of 5, the output should be \"Buzz\".\n",
    "\n",
    "* If the number given is a multiple of both 3 and 5, the output should be \"FizzBuzz\".\n",
    "\n",
    "* If the number is not a multiple of either 3 or 5, the\n",
    "number should be output on its own as shown in the examples below.\n",
    "\n",
    "* The output should always be a string even if it is not a multiple of 3 or 5.\n",
    "\n",
    "**Examples:**\n",
    "\n",
    "`fizz_buzz(3) ➞ \"Fizz\"`\n",
    "\n",
    "`fizz_buzz(5) ➞ \"Buzz\"`\n",
    "\n",
    "`fizz_buzz(15) ➞ \"FizzBuzz\"`\n",
    "\n",
    "`fizz_buzz(4) ➞ \"4\"`"
   ]
  },
  {
   "cell_type": "code",
   "execution_count": null,
   "metadata": {
    "colab": {
     "base_uri": "https://localhost:8080/",
     "height": 36
    },
    "id": "sv-344JE9EAE",
    "outputId": "067cbfdf-82c9-4d87-bf35-a00e94273bf6"
   },
   "outputs": [
    {
     "data": {
      "application/vnd.google.colaboratory.intrinsic+json": {
       "type": "string"
      },
      "text/plain": [
       "'16'"
      ]
     },
     "execution_count": 9,
     "metadata": {},
     "output_type": "execute_result"
    }
   ],
   "source": [
    "def fizz_buzz(num):\n",
    "\tif num % 3 == 0 and num % 5 == 0:\n",
    "\t\treturn \"FizzBuzz\"\n",
    "\telif num % 5 == 0:\n",
    "\t\treturn \"Buzz\"\n",
    "\telif num % 3 == 0:\n",
    "\t\treturn \"Fizz\"\n",
    "\telse:\n",
    "\t\treturn str(num)\n",
    "  \n",
    "fizz_buzz(16)"
   ]
  },
  {
   "cell_type": "code",
   "execution_count": null,
   "metadata": {
    "colab": {
     "base_uri": "https://localhost:8080/",
     "height": 36
    },
    "id": "vwp2ZUSX9id3",
    "outputId": "496a8f3a-6be0-4856-9895-1a1a47a31ad0"
   },
   "outputs": [
    {
     "data": {
      "application/vnd.google.colaboratory.intrinsic+json": {
       "type": "string"
      },
      "text/plain": [
       "'FizzBuzz'"
      ]
     },
     "execution_count": 11,
     "metadata": {},
     "output_type": "execute_result"
    }
   ],
   "source": [
    "def fizz_buzz(num):\n",
    "\tif not num%15:\n",
    "\t\treturn 'FizzBuzz'\n",
    "\tif not num%3:\n",
    "\t\treturn 'Fizz'\n",
    "\tif not num%5:\n",
    "\t\treturn 'Buzz'\n",
    "\treturn str(num)\n",
    "fizz_buzz(45)"
   ]
  },
  {
   "cell_type": "markdown",
   "metadata": {
    "id": "UWa_Hd3VnL66"
   },
   "source": [
    "## **Question-6**\n",
    "\n",
    "If you are given three sticks, you may or may not be able to arrange them in a triangle. For example, if one of the sticks is 12 inches long and the other two are one inch\n",
    "long, you will not be able to get the short sticks to meet in the middle. For any three lengths, there is a simple test to see if it is possible to form a triangle:\n",
    "\n",
    "*If any of the three lengths is greater than the sum of the other two, then you cannot form a triangle. Otherwise, you can. (If the sum of two lengths equals the third, they form what is called a “degenerate” triangle.)*\n",
    "\n",
    "**Tasks:**\n",
    "\n",
    "1. Write a function named `is_triangle` that takes three integers as arguments, and that prints either “Yes” or “No”, depending on whether you can or cannot form a triangle from sticks with the given lengths.\n",
    "\n",
    "2. Write a function that prompts the user to input three stick lengths, converts them to integers, and uses `is_triangle` to check whether sticks with the given lengths\n",
    "can form a triangle."
   ]
  },
  {
   "cell_type": "code",
   "execution_count": null,
   "metadata": {
    "colab": {
     "base_uri": "https://localhost:8080/"
    },
    "id": "bvXXTCGleohX",
    "outputId": "0e5b409f-dce2-4fa4-e740-22e5b938b57d"
   },
   "outputs": [
    {
     "name": "stdout",
     "output_type": "stream",
     "text": [
      "Yes\n",
      "No\n"
     ]
    }
   ],
   "source": [
    "def is_triangle(a, b, c) :\n",
    "    if (a > b + c) or (b > a + c) or (c > a + b) :\n",
    "        return \"No\"\n",
    "    else:\n",
    "        return \"Yes\"\n",
    "print(is_triangle(3, 4, 5))\n",
    "print(is_triangle(12, 4, 5))"
   ]
  },
  {
   "cell_type": "code",
   "execution_count": null,
   "metadata": {
    "colab": {
     "base_uri": "https://localhost:8080/"
    },
    "id": "JpogHGu4uahy",
    "outputId": "2a0899e2-e788-417a-8c3f-d6f7188ea3c1"
   },
   "outputs": [
    {
     "name": "stdout",
     "output_type": "stream",
     "text": [
      "Enter the length of stick: 3\n",
      "Enter the length of stick: 4\n",
      "Enter the length of stick: 5\n",
      "Yes\n"
     ]
    }
   ],
   "source": [
    "x = []\n",
    "for i in range(3):\n",
    "    i = int(input(\"Enter the length of stick: \"))\n",
    "    x.append(i)\n",
    "def is_triangle(x) :\n",
    "    if (x[0] > x[1] + x[2]) or (x[1] > x[0] + x[2]) or (x[2] > x[0] + x[1]) :\n",
    "        return False\n",
    "    else:\n",
    "        return True\n",
    "\n",
    "if is_triangle:\n",
    "    print(\"Yes\")\n",
    "else:\n",
    "    print(\"No\")"
   ]
  },
  {
   "cell_type": "markdown",
   "metadata": {
    "id": "r1v4b0ONeyse"
   },
   "source": [
    "## **Question-7**\n",
    "\n",
    "**Task:**\n",
    "\n",
    "Prompt the user to input a text, analyze it and display how many times letters are used and group them as vowels and consonants. \n",
    "\n",
    "**Desired output:**\n",
    "\n",
    "`Mozilla Firefox is an open-source web browser developed by Mozilla.`\n",
    "\n",
    "`Vowels are:` \n",
    "`{'o': 7, 'i': 4, 'a': 3, 'e': 8, 'u': 1}`\n",
    "\n",
    "`Consonants are:` \n",
    "`{'m': 2, 'z': 2, 'l': 5, 'f': 2, 'r': 4, 'x': 1, 's': 3, 'n': 2, 'p': 2, 'c': 1, 'w': 2, 'b': 3, 'd': 2, 'v': 1, 'y': 1}`"
   ]
  },
  {
   "cell_type": "code",
   "execution_count": null,
   "metadata": {
    "colab": {
     "base_uri": "https://localhost:8080/"
    },
    "id": "Fg-tZ2LoN0FG",
    "outputId": "c583e294-e914-45fc-c056-784a047188db"
   },
   "outputs": [
    {
     "name": "stdout",
     "output_type": "stream",
     "text": [
      "Enter a text: Mozilla Firefox is an open-source web browser developed by Mozilla.\n",
      "Mozilla Firefox is an open-source web browser developed by Mozilla.\n",
      "Vowels are: \n",
      "{'o': 7, 'i': 4, 'a': 3, 'e': 8, 'u': 1}\n",
      "Consonants are: \n",
      "{'m': 2, 'z': 2, 'l': 5, 'f': 2, 'r': 4, 'x': 1, 's': 3, 'n': 2, 'p': 2, 'c': 1, 'w': 2, 'b': 3, 'd': 2, 'v': 1, 'y': 1}\n"
     ]
    }
   ],
   "source": [
    "text = input(\"Enter a text: \")\n",
    "\n",
    "def vowel(letter):\n",
    "  vowels = \"a e u i o\".split()\n",
    "  if letter.lower() in vowels:\n",
    "    return True\n",
    "  else:\n",
    "    return False\n",
    "\n",
    "def consonant(letter):\n",
    "    consonants = \"q w r t y p s d f g h j k l z x c v b n m\".split()\n",
    "    if letter.lower() in consonants:\n",
    "        return True\n",
    "    else:\n",
    "        return False\n",
    "\n",
    "filtered_vowels = filter(vowel, text.lower())\n",
    "a = list(filtered_vowels)\n",
    "dict1 = {}\n",
    "\n",
    "filtered_consonants = filter(consonant, text.lower())\n",
    "b = list(filtered_consonants)\n",
    "dict2 = {}\n",
    "\n",
    "for x in a:\n",
    "    if x not in dict1:\n",
    "        dict1[x] = 1\n",
    "    else:\n",
    "        dict1[x] += 1\n",
    "\n",
    "for y in b:\n",
    "    if y not in dict2:\n",
    "        dict2[y] = 1\n",
    "    else:\n",
    "        dict2[y] += 1\n",
    "    \n",
    "print(text, \"Vowels are: \", dict1, \"Consonants are: \", dict2, sep= \"\\n\")"
   ]
  },
  {
   "cell_type": "code",
   "execution_count": 28,
   "metadata": {},
   "outputs": [
    {
     "ename": "KeyboardInterrupt",
     "evalue": "Interrupted by user",
     "output_type": "error",
     "traceback": [
      "\u001b[0;31m---------------------------------------------------------------------------\u001b[0m",
      "\u001b[0;31mKeyboardInterrupt\u001b[0m                         Traceback (most recent call last)",
      "Input \u001b[0;32mIn [28]\u001b[0m, in \u001b[0;36m<module>\u001b[0;34m\u001b[0m\n\u001b[0;32m----> 1\u001b[0m text \u001b[38;5;241m=\u001b[39m\u001b[38;5;28;43minput\u001b[39;49m\u001b[43m(\u001b[49m\u001b[38;5;124;43m'\u001b[39;49m\u001b[38;5;124;43minput a sentence or word :\u001b[39;49m\u001b[38;5;124;43m'\u001b[39;49m\u001b[43m)\u001b[49m\n\u001b[1;32m      3\u001b[0m \u001b[38;5;28;01mdef\u001b[39;00m \u001b[38;5;21mvowel\u001b[39m(letter):\n\u001b[1;32m      4\u001b[0m     vowels \u001b[38;5;241m=\u001b[39m \u001b[38;5;124m\"\u001b[39m\u001b[38;5;124ma e u i o\u001b[39m\u001b[38;5;124m\"\u001b[39m\u001b[38;5;241m.\u001b[39msplit()\n",
      "File \u001b[0;32m/Library/Frameworks/Python.framework/Versions/3.10/lib/python3.10/site-packages/ipykernel/kernelbase.py:1044\u001b[0m, in \u001b[0;36mKernel.raw_input\u001b[0;34m(self, prompt)\u001b[0m\n\u001b[1;32m   1040\u001b[0m \u001b[38;5;28;01mif\u001b[39;00m \u001b[38;5;129;01mnot\u001b[39;00m \u001b[38;5;28mself\u001b[39m\u001b[38;5;241m.\u001b[39m_allow_stdin:\n\u001b[1;32m   1041\u001b[0m     \u001b[38;5;28;01mraise\u001b[39;00m StdinNotImplementedError(\n\u001b[1;32m   1042\u001b[0m         \u001b[38;5;124m\"\u001b[39m\u001b[38;5;124mraw_input was called, but this frontend does not support input requests.\u001b[39m\u001b[38;5;124m\"\u001b[39m\n\u001b[1;32m   1043\u001b[0m     )\n\u001b[0;32m-> 1044\u001b[0m \u001b[38;5;28;01mreturn\u001b[39;00m \u001b[38;5;28;43mself\u001b[39;49m\u001b[38;5;241;43m.\u001b[39;49m\u001b[43m_input_request\u001b[49m\u001b[43m(\u001b[49m\n\u001b[1;32m   1045\u001b[0m \u001b[43m    \u001b[49m\u001b[38;5;28;43mstr\u001b[39;49m\u001b[43m(\u001b[49m\u001b[43mprompt\u001b[49m\u001b[43m)\u001b[49m\u001b[43m,\u001b[49m\n\u001b[1;32m   1046\u001b[0m \u001b[43m    \u001b[49m\u001b[38;5;28;43mself\u001b[39;49m\u001b[38;5;241;43m.\u001b[39;49m\u001b[43m_parent_ident\u001b[49m\u001b[43m[\u001b[49m\u001b[38;5;124;43m\"\u001b[39;49m\u001b[38;5;124;43mshell\u001b[39;49m\u001b[38;5;124;43m\"\u001b[39;49m\u001b[43m]\u001b[49m\u001b[43m,\u001b[49m\n\u001b[1;32m   1047\u001b[0m \u001b[43m    \u001b[49m\u001b[38;5;28;43mself\u001b[39;49m\u001b[38;5;241;43m.\u001b[39;49m\u001b[43mget_parent\u001b[49m\u001b[43m(\u001b[49m\u001b[38;5;124;43m\"\u001b[39;49m\u001b[38;5;124;43mshell\u001b[39;49m\u001b[38;5;124;43m\"\u001b[39;49m\u001b[43m)\u001b[49m\u001b[43m,\u001b[49m\n\u001b[1;32m   1048\u001b[0m \u001b[43m    \u001b[49m\u001b[43mpassword\u001b[49m\u001b[38;5;241;43m=\u001b[39;49m\u001b[38;5;28;43;01mFalse\u001b[39;49;00m\u001b[43m,\u001b[49m\n\u001b[1;32m   1049\u001b[0m \u001b[43m\u001b[49m\u001b[43m)\u001b[49m\n",
      "File \u001b[0;32m/Library/Frameworks/Python.framework/Versions/3.10/lib/python3.10/site-packages/ipykernel/kernelbase.py:1089\u001b[0m, in \u001b[0;36mKernel._input_request\u001b[0;34m(self, prompt, ident, parent, password)\u001b[0m\n\u001b[1;32m   1086\u001b[0m             \u001b[38;5;28;01mbreak\u001b[39;00m\n\u001b[1;32m   1087\u001b[0m \u001b[38;5;28;01mexcept\u001b[39;00m \u001b[38;5;167;01mKeyboardInterrupt\u001b[39;00m:\n\u001b[1;32m   1088\u001b[0m     \u001b[38;5;66;03m# re-raise KeyboardInterrupt, to truncate traceback\u001b[39;00m\n\u001b[0;32m-> 1089\u001b[0m     \u001b[38;5;28;01mraise\u001b[39;00m \u001b[38;5;167;01mKeyboardInterrupt\u001b[39;00m(\u001b[38;5;124m\"\u001b[39m\u001b[38;5;124mInterrupted by user\u001b[39m\u001b[38;5;124m\"\u001b[39m) \u001b[38;5;28;01mfrom\u001b[39;00m \u001b[38;5;28mNone\u001b[39m\n\u001b[1;32m   1090\u001b[0m \u001b[38;5;28;01mexcept\u001b[39;00m \u001b[38;5;167;01mException\u001b[39;00m:\n\u001b[1;32m   1091\u001b[0m     \u001b[38;5;28mself\u001b[39m\u001b[38;5;241m.\u001b[39mlog\u001b[38;5;241m.\u001b[39mwarning(\u001b[38;5;124m\"\u001b[39m\u001b[38;5;124mInvalid Message:\u001b[39m\u001b[38;5;124m\"\u001b[39m, exc_info\u001b[38;5;241m=\u001b[39m\u001b[38;5;28;01mTrue\u001b[39;00m)\n",
      "\u001b[0;31mKeyboardInterrupt\u001b[0m: Interrupted by user"
     ]
    }
   ],
   "source": [
    "text =input('input a sentence or word :')\n",
    "\n",
    "def vowel(letter):\n",
    "    vowels = \"a e u i o\".split()\n",
    "    if letter.lower() in vowels:\n",
    "        return True\n",
    "    else:\n",
    "        return False\n",
    "\n",
    "def consonant(letter):\n",
    "    consonants = \"q w r t y p s d f g h j k l z x c v b n m\".split()\n",
    "    if letter.lower() in consonants:\n",
    "        return True\n",
    "    else:\n",
    "        return False\n",
    "filtered_vowels = filter(vowel, text.lower())\n",
    "a=list(filtered_vowels)\n",
    "dic1={}\n",
    "\n",
    "filtered_consonant = filter(consonant, text.lower())\n",
    "b=list(filtered_consonant)\n",
    "dic2={}\n",
    "\n",
    "for x in a:\n",
    "    if x not in dict1:\n",
    "        dict1[x]=1\n",
    "    else:\n",
    "        dict1[x]+=1\n",
    "for y in b:\n",
    "    if y not in dict2:\n",
    "        dict2[y]=1\n",
    "    else:\n",
    "        dict2[y]+=1\n",
    "print(text, 'The wowels are', dict1, 'the consodants are', dict2, sep='\\n')"
   ]
  },
  {
   "cell_type": "code",
   "execution_count": 27,
   "metadata": {},
   "outputs": [
    {
     "name": "stdout",
     "output_type": "stream",
     "text": [
      "input a sentence or word :Mozilla Firefox is an open-source web browser developed by Mozilla\n",
      "Mozilla Firefox is an open-source web browser developed by Mozilla\n",
      "The wowels are\n",
      "{'o': 7, 'i': 4, 'a': 3, 'e': 8, 'u': 1}\n",
      "the consodants are\n",
      "{'z': 2, 'l': 5, 'r': 4, 'f': 1, 'x': 1, 's': 3, 'n': 2, 'p': 2, 'c': 1, 'w': 2, 'b': 3, 'd': 2, 'v': 1, 'y': 1}\n"
     ]
    }
   ],
   "source": [
    "text =input('input a sentence or word :')\n",
    "vowels = \"a e u i o\".split()\n",
    "consonants = \"q w r t y p s d f g h j k l z x c v b n m\".split()\n",
    "a=[]\n",
    "b=[]\n",
    "for i in text:\n",
    "    if i in vowels:\n",
    "        a.append(i)\n",
    "    elif i in consonants:\n",
    "        b.append(i)\n",
    "dict1={}\n",
    "dict2={}\n",
    "for x in a:\n",
    "    if x not in dict1:\n",
    "        dict1[x]=1\n",
    "    else:\n",
    "        dict1[x]+=1\n",
    "for y in b:\n",
    "    if y not in dict2:\n",
    "        dict2[y]=1\n",
    "    else:\n",
    "        dict2[y]+=1\n",
    "print(text, 'The wowels are', dict1, 'the consodants are', dict2, sep='\\n')"
   ]
  },
  {
   "cell_type": "code",
   "execution_count": null,
   "metadata": {},
   "outputs": [],
   "source": []
  },
  {
   "cell_type": "markdown",
   "metadata": {
    "id": "iBUUAOHowpzj"
   },
   "source": [
    "## **Question-8**\n",
    "\n",
    "\n",
    "A palindrome is a word that is spelled the same backward and forward, like “noon” and “redivider”. Recursively, a word is a palindrome if the first and last letters are the\n",
    "same and the middle is a palindrome.\n",
    "\n",
    "The following are functions that take a string argument and return the first, last, and middle letters:"
   ]
  },
  {
   "cell_type": "code",
   "execution_count": 38,
   "metadata": {
    "id": "inuQ7q6NxQ9k"
   },
   "outputs": [
    {
     "name": "stdout",
     "output_type": "stream",
     "text": [
      "True\n",
      "None\n"
     ]
    }
   ],
   "source": [
    "\n",
    "def first(word):\n",
    "    return word[0]\n",
    "\n",
    "def last(word):\n",
    "    return word[-1]\n",
    "\n",
    "def middle(word):\n",
    "    return word[1:-1]\n",
    "\n",
    "def palindrome (word):\n",
    "    if word == word[::-1]:\n",
    "        print (True)\n",
    "    else:\n",
    "        print(False)\n",
    "\n",
    "print(palindrome('noon'))"
   ]
  },
  {
   "cell_type": "markdown",
   "metadata": {
    "id": "C-Rd4Kcj6L4n"
   },
   "source": [
    "**Task**\n",
    "\n",
    "Write a function called `is_palindrome` that takes a string argument from user and returns True if it is a palindrome and False otherwise. Remember that you can use the built-in function len to check the length of a string."
   ]
  },
  {
   "cell_type": "code",
   "execution_count": null,
   "metadata": {
    "colab": {
     "base_uri": "https://localhost:8080/"
    },
    "id": "LPmMM8im6QPV",
    "outputId": "6800f3f5-3f81-4ffe-ae8d-d60faf43b276"
   },
   "outputs": [
    {
     "name": "stdout",
     "output_type": "stream",
     "text": [
      "False\n",
      "True\n",
      "True\n",
      "True\n"
     ]
    }
   ],
   "source": [
    "def first(word):\n",
    "    \"\"\"Returns the first character of a string.\"\"\"\n",
    "    return word[0]\n",
    "\n",
    "\n",
    "def last(word):\n",
    "    \"\"\"Returns the last of a string.\"\"\"\n",
    "    return word[-1]\n",
    "\n",
    "\n",
    "def middle(word):\n",
    "    \"\"\"Returns all but the first and last characters of a string.\"\"\"\n",
    "    return word[1:-1]\n",
    "\n",
    "\n",
    "def is_palindrome(word):\n",
    "    \"\"\"Returns True if word is a palindrome.\"\"\"\n",
    "    if len(word) <= 1:\n",
    "        return True\n",
    "    if first(word) != last(word):\n",
    "        return False\n",
    "    return is_palindrome(middle(word))\n",
    "\n",
    "print(is_palindrome('martha'))\n",
    "print(is_palindrome('mom'))\n",
    "print(is_palindrome('tenet'))\n",
    "print(is_palindrome('redivider'))"
   ]
  }
 ],
 "metadata": {
  "colab": {
   "collapsed_sections": [],
   "name": "15Mar22_Python-LWS_solutions.ipynb",
   "provenance": []
  },
  "kernelspec": {
   "display_name": "Python 3 (ipykernel)",
   "language": "python",
   "name": "python3"
  },
  "language_info": {
   "codemirror_mode": {
    "name": "ipython",
    "version": 3
   },
   "file_extension": ".py",
   "mimetype": "text/x-python",
   "name": "python",
   "nbconvert_exporter": "python",
   "pygments_lexer": "ipython3",
   "version": "3.10.1"
  }
 },
 "nbformat": 4,
 "nbformat_minor": 1
}
