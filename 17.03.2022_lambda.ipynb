{
 "cells": [
  {
   "cell_type": "markdown",
   "id": "8c35303d",
   "metadata": {},
   "source": [
    "# LAMBDA FUNCTION\n",
    "SYNTAX: lambda parameters : expression\n",
    "\n",
    "ternary if ile list kullanılıyor.\n",
    "tek kullanımlık fonksiyon. değişkene atarsak çağırabiliriz.\n",
    "usual conditional satırlar kullanamazsın, tek satırlık olanı kullanabilirsin."
   ]
  },
  {
   "cell_type": "code",
   "execution_count": 9,
   "id": "a8d05f9d",
   "metadata": {},
   "outputs": [
    {
     "name": "stdout",
     "output_type": "stream",
     "text": [
      "hellohellohello\n"
     ]
    }
   ],
   "source": [
    "echo_word = (lambda x,y: x*y) ('hello', 3)\n",
    "print(echo_word)"
   ]
  },
  {
   "cell_type": "code",
   "execution_count": null,
   "id": "23d3b77f",
   "metadata": {},
   "outputs": [],
   "source": [
    "def square(x):\n",
    "    return x**2\n"
   ]
  },
  {
   "cell_type": "code",
   "execution_count": null,
   "id": "98e8ab1a",
   "metadata": {},
   "outputs": [],
   "source": [
    "lambda x:x**2\n"
   ]
  },
  {
   "cell_type": "code",
   "execution_count": null,
   "id": "5d155b35",
   "metadata": {},
   "outputs": [],
   "source": [
    "lambda x,y :(x+y)/2 "
   ]
  },
  {
   "cell_type": "code",
   "execution_count": null,
   "id": "752985cc",
   "metadata": {},
   "outputs": [],
   "source": [
    "lambda x:'odd' if x%2 !=0 else 'even'"
   ]
  },
  {
   "cell_type": "code",
   "execution_count": 1,
   "id": "641f593f",
   "metadata": {},
   "outputs": [
    {
     "data": {
      "text/plain": [
       "'odd'"
      ]
     },
     "execution_count": 1,
     "metadata": {},
     "output_type": "execute_result"
    }
   ],
   "source": [
    "condition = True\n",
    "'odd' if condition else 'even' # if true çalışırsa soldaki çalışır, if false ise sağdaki çalışır."
   ]
  },
  {
   "cell_type": "code",
   "execution_count": 2,
   "id": "312f4354",
   "metadata": {},
   "outputs": [
    {
     "data": {
      "text/plain": [
       "<function __main__.<lambda>(x)>"
      ]
     },
     "execution_count": 2,
     "metadata": {},
     "output_type": "execute_result"
    }
   ],
   "source": [
    "lambda x:'odd' if x%2 !=0 else 'even'"
   ]
  },
  {
   "cell_type": "code",
   "execution_count": 3,
   "id": "9a8ffd10",
   "metadata": {},
   "outputs": [
    {
     "data": {
      "text/plain": [
       "'even'"
      ]
     },
     "execution_count": 3,
     "metadata": {},
     "output_type": "execute_result"
    }
   ],
   "source": [
    "(lambda x:'odd' if x%2 !=0 else 'even')(4) #x=4 olur."
   ]
  },
  {
   "cell_type": "code",
   "execution_count": 4,
   "id": "a8cab2c9",
   "metadata": {},
   "outputs": [
    {
     "data": {
      "text/plain": [
       "'odd'"
      ]
     },
     "execution_count": 4,
     "metadata": {},
     "output_type": "execute_result"
    }
   ],
   "source": [
    "(lambda x:'odd' if x%2 !=0 else 'even')(3)"
   ]
  },
  {
   "cell_type": "code",
   "execution_count": 6,
   "id": "b056aecb",
   "metadata": {},
   "outputs": [
    {
     "name": "stdout",
     "output_type": "stream",
     "text": [
      "4.0\n"
     ]
    }
   ],
   "source": [
    "print((lambda x,y: (x+y)/2)(3,5))"
   ]
  },
  {
   "cell_type": "code",
   "execution_count": null,
   "id": "9a6754c7",
   "metadata": {},
   "outputs": [],
   "source": [
    "average"
   ]
  },
  {
   "cell_type": "code",
   "execution_count": 28,
   "id": "bb44b967",
   "metadata": {},
   "outputs": [
    {
     "data": {
      "text/plain": [
       "'ila'"
      ]
     },
     "execution_count": 28,
     "metadata": {},
     "output_type": "execute_result"
    }
   ],
   "source": [
    "'ali'[::-1]"
   ]
  },
  {
   "cell_type": "code",
   "execution_count": 29,
   "id": "6141ee0c",
   "metadata": {},
   "outputs": [
    {
     "data": {
      "text/plain": [
       "[4, 3, 2, 1]"
      ]
     },
     "execution_count": 29,
     "metadata": {},
     "output_type": "execute_result"
    }
   ],
   "source": [
    "(lambda x:x[::-1])([1,2,3,4])"
   ]
  },
  {
   "cell_type": "code",
   "execution_count": 30,
   "id": "f5fa93ff",
   "metadata": {},
   "outputs": [
    {
     "data": {
      "text/plain": [
       "'ziza'"
      ]
     },
     "execution_count": 30,
     "metadata": {},
     "output_type": "execute_result"
    }
   ],
   "source": [
    "(lambda x:x[::-1])('aziz')"
   ]
  },
  {
   "cell_type": "code",
   "execution_count": 41,
   "id": "fb0476c4",
   "metadata": {},
   "outputs": [
    {
     "name": "stdout",
     "output_type": "stream",
     "text": [
      "1 : odd\n",
      "2 : even\n",
      "3 : odd\n",
      "4 : even\n"
     ]
    }
   ],
   "source": [
    "list1=[1,2,3,4]\n",
    "for i in list1:\n",
    "\n",
    "    print (i,':', (lambda x:'odd' if x%2!=0 else 'even')(i))"
   ]
  },
  {
   "cell_type": "code",
   "execution_count": 1,
   "id": "1bb61c16",
   "metadata": {},
   "outputs": [
    {
     "name": "stdout",
     "output_type": "stream",
     "text": [
      "4.0\n"
     ]
    }
   ],
   "source": [
    "average = lambda x,y : (x+y)/2\n",
    "print(average(3,5)) #we call\n"
   ]
  },
  {
   "cell_type": "code",
   "execution_count": 43,
   "id": "27469adb",
   "metadata": {},
   "outputs": [
    {
     "data": {
      "text/plain": [
       "'yawsuralc'"
      ]
     },
     "execution_count": 43,
     "metadata": {},
     "output_type": "execute_result"
    }
   ],
   "source": [
    "iterable = 'clarusway'\n",
    "reverser = lambda x:x[::-1]\n",
    "reverser(iterable)"
   ]
  },
  {
   "cell_type": "code",
   "execution_count": null,
   "id": "b9a40eff",
   "metadata": {},
   "outputs": [],
   "source": []
  },
  {
   "cell_type": "markdown",
   "id": "03feeceb",
   "metadata": {},
   "source": []
  },
  {
   "cell_type": "code",
   "execution_count": 4,
   "id": "9fc1ce57",
   "metadata": {},
   "outputs": [],
   "source": [
    "finder = lambda x:'odd' if x%2 !=0 else 'even'"
   ]
  },
  {
   "cell_type": "code",
   "execution_count": 5,
   "id": "0ab698bf",
   "metadata": {},
   "outputs": [
    {
     "data": {
      "text/plain": [
       "<function __main__.<lambda>(x)>"
      ]
     },
     "execution_count": 5,
     "metadata": {},
     "output_type": "execute_result"
    }
   ],
   "source": [
    "finder"
   ]
  },
  {
   "cell_type": "code",
   "execution_count": 6,
   "id": "3fa44cc0",
   "metadata": {},
   "outputs": [
    {
     "data": {
      "text/plain": [
       "'even'"
      ]
     },
     "execution_count": 6,
     "metadata": {},
     "output_type": "execute_result"
    }
   ],
   "source": [
    "finder(2)"
   ]
  },
  {
   "cell_type": "code",
   "execution_count": 7,
   "id": "b3f33974",
   "metadata": {},
   "outputs": [
    {
     "data": {
      "text/plain": [
       "'odd'"
      ]
     },
     "execution_count": 7,
     "metadata": {},
     "output_type": "execute_result"
    }
   ],
   "source": [
    "finder(55)"
   ]
  },
  {
   "cell_type": "markdown",
   "id": "a5512595",
   "metadata": {},
   "source": [
    "# lambda within built in\n",
    "# map() functions\n",
    "\n",
    "map(function, iterable) iterable herbir elemanını fonksiyonda uyguluyor."
   ]
  },
  {
   "cell_type": "code",
   "execution_count": 10,
   "id": "ec4c860c",
   "metadata": {},
   "outputs": [],
   "source": [
    "kelimeler = ['alivelideli', 'ahmet','sel']\n",
    "uzunluk = map(len, kelimeler)"
   ]
  },
  {
   "cell_type": "code",
   "execution_count": 11,
   "id": "bd55d82f",
   "metadata": {},
   "outputs": [
    {
     "data": {
      "text/plain": [
       "<map at 0x106fc8af0>"
      ]
     },
     "execution_count": 11,
     "metadata": {},
     "output_type": "execute_result"
    }
   ],
   "source": [
    "uzunluk"
   ]
  },
  {
   "cell_type": "code",
   "execution_count": 12,
   "id": "ef6be1bd",
   "metadata": {},
   "outputs": [
    {
     "name": "stdout",
     "output_type": "stream",
     "text": [
      "<map object at 0x106fc8af0>\n"
     ]
    }
   ],
   "source": [
    "print(uzunluk)"
   ]
  },
  {
   "cell_type": "code",
   "execution_count": 13,
   "id": "16eb76c8",
   "metadata": {},
   "outputs": [
    {
     "name": "stdout",
     "output_type": "stream",
     "text": [
      "11 5 3\n"
     ]
    }
   ],
   "source": [
    "print(*uzunluk)"
   ]
  },
  {
   "cell_type": "code",
   "execution_count": null,
   "id": "ffc37b54",
   "metadata": {},
   "outputs": [],
   "source": []
  },
  {
   "cell_type": "code",
   "execution_count": 59,
   "id": "ec1d8848",
   "metadata": {},
   "outputs": [],
   "source": [
    "fonksiyonum = lambda x:x**2"
   ]
  },
  {
   "cell_type": "code",
   "execution_count": 60,
   "id": "1c8e5c44",
   "metadata": {},
   "outputs": [],
   "source": [
    "iterable = [1,2,3,4]"
   ]
  },
  {
   "cell_type": "code",
   "execution_count": null,
   "id": "1152ec62",
   "metadata": {},
   "outputs": [],
   "source": [
    "sonuç = map(fonksiyonum, iterable)"
   ]
  },
  {
   "cell_type": "code",
   "execution_count": 18,
   "id": "71ec63f7",
   "metadata": {},
   "outputs": [],
   "source": [
    "sonuç_2 = map(lambda x:x**2, [1,2,3,4])"
   ]
  },
  {
   "cell_type": "code",
   "execution_count": 19,
   "id": "049fd696",
   "metadata": {},
   "outputs": [
    {
     "name": "stdout",
     "output_type": "stream",
     "text": [
      "1 4 9 16\n"
     ]
    }
   ],
   "source": [
    "print(*sonuç_2)"
   ]
  },
  {
   "cell_type": "code",
   "execution_count": 64,
   "id": "ad57a7d4",
   "metadata": {},
   "outputs": [
    {
     "name": "stdout",
     "output_type": "stream",
     "text": [
      "1 4 9 16\n"
     ]
    }
   ],
   "source": [
    "list1=[1,2,3,4]\n",
    "def a(x):\n",
    "    return x**2\n",
    "sonuç=map(a,list1)\n",
    "print(*sonuç)"
   ]
  },
  {
   "cell_type": "code",
   "execution_count": 67,
   "id": "3e83e230",
   "metadata": {},
   "outputs": [],
   "source": [
    "topla = lambda x,y,z: x+y+z"
   ]
  },
  {
   "cell_type": "code",
   "execution_count": 68,
   "id": "f6068423",
   "metadata": {},
   "outputs": [
    {
     "data": {
      "text/plain": [
       "'ali'"
      ]
     },
     "execution_count": 68,
     "metadata": {},
     "output_type": "execute_result"
    }
   ],
   "source": [
    "topla ('a', 'l', 'i')"
   ]
  },
  {
   "cell_type": "code",
   "execution_count": 69,
   "id": "3f8c699d",
   "metadata": {},
   "outputs": [],
   "source": [
    "nums1= [9,6,7,4]\n",
    "nums2= [3,6,5,8]\n",
    "summs = map(lambda x,y:(x+y)/2, nums1,nums2)"
   ]
  },
  {
   "cell_type": "code",
   "execution_count": 70,
   "id": "6c5d9613",
   "metadata": {},
   "outputs": [
    {
     "name": "stdout",
     "output_type": "stream",
     "text": [
      "[6.0, 6.0, 6.0, 6.0]\n"
     ]
    }
   ],
   "source": [
    "print(list(summs))"
   ]
  },
  {
   "cell_type": "code",
   "execution_count": 85,
   "id": "f3ffe313",
   "metadata": {},
   "outputs": [],
   "source": [
    "words1= ['you', 'much', 'hard']\n",
    "words2=['I', 'You','He']\n",
    "words3=['love', 'ate', 'works']\n",
    "words = map(lambda x,y,z:x +' '+ y + ' ' +z, words2, words3, words1)"
   ]
  },
  {
   "cell_type": "code",
   "execution_count": 86,
   "id": "8b4deb66",
   "metadata": {},
   "outputs": [
    {
     "name": "stdout",
     "output_type": "stream",
     "text": [
      "I love you\n",
      "You ate much\n",
      "He works hard\n"
     ]
    }
   ],
   "source": [
    "for i in words:\n",
    "    print(i)"
   ]
  },
  {
   "cell_type": "markdown",
   "id": "6d043dbf",
   "metadata": {},
   "source": [
    "# Lambda with FILTER()\n",
    "# filter(function, sequence) True False döndürüyor. iterebla var, şartınıza uyanları döndürüyor, True ise alır"
   ]
  },
  {
   "cell_type": "code",
   "execution_count": 91,
   "id": "23749500",
   "metadata": {},
   "outputs": [
    {
     "name": "stdout",
     "output_type": "stream",
     "text": [
      "even numbers: [0, 2, 4, 6, 8]\n"
     ]
    }
   ],
   "source": [
    "f_t = [0,1,2,3,4,5,6,7,8,9]\n",
    "even= filter(lambda x:x%2==0, f_t) # comparison operatörleri, >< ==, True yada False döndürür.\n",
    "print ('even numbers:',list(even))"
   ]
  },
  {
   "cell_type": "code",
   "execution_count": 87,
   "id": "af1e5300",
   "metadata": {},
   "outputs": [
    {
     "data": {
      "text/plain": [
       "True"
      ]
     },
     "execution_count": 87,
     "metadata": {},
     "output_type": "execute_result"
    }
   ],
   "source": [
    "4%2==0 # comparison operatörleri, >< ==, True yada False döndürür."
   ]
  },
  {
   "cell_type": "code",
   "execution_count": 88,
   "id": "de29ca47",
   "metadata": {},
   "outputs": [
    {
     "data": {
      "text/plain": [
       "False"
      ]
     },
     "execution_count": 88,
     "metadata": {},
     "output_type": "execute_result"
    }
   ],
   "source": [
    "5%3==0"
   ]
  },
  {
   "cell_type": "code",
   "execution_count": 90,
   "id": "ac0c39d9",
   "metadata": {},
   "outputs": [
    {
     "data": {
      "text/plain": [
       "True"
      ]
     },
     "execution_count": 90,
     "metadata": {},
     "output_type": "execute_result"
    }
   ],
   "source": [
    "4/2==2"
   ]
  },
  {
   "cell_type": "code",
   "execution_count": 94,
   "id": "c7e00075",
   "metadata": {},
   "outputs": [
    {
     "name": "stdout",
     "output_type": "stream",
     "text": [
      "odd numbers: [1, 3, 5, 7, 9]\n"
     ]
    }
   ],
   "source": [
    "f_t = [0,1,2,3,4,5,6,7,8,9]\n",
    "odds= filter(lambda x:x%2!=0, f_t) # comparison operatörleri, >< ==, True yada False döndürür.\n",
    "print ('odd numbers:',list(odds))"
   ]
  },
  {
   "cell_type": "code",
   "execution_count": 95,
   "id": "13dd0af4",
   "metadata": {},
   "outputs": [
    {
     "data": {
      "text/plain": [
       "True"
      ]
     },
     "execution_count": 95,
     "metadata": {},
     "output_type": "execute_result"
    }
   ],
   "source": [
    "4<6"
   ]
  },
  {
   "cell_type": "code",
   "execution_count": 104,
   "id": "b94b7519",
   "metadata": {},
   "outputs": [
    {
     "name": "stdout",
     "output_type": "stream",
     "text": [
      "['swim', 'me', 'kiwi']\n"
     ]
    }
   ],
   "source": [
    "words = ['apple', 'swim', 'clock', 'me', 'kiwi', 'banana']\n",
    "chars= filter (lambda x: len(x) < 5 , words)\n",
    "print(list(chars))"
   ]
  },
  {
   "cell_type": "code",
   "execution_count": 105,
   "id": "063ba706",
   "metadata": {},
   "outputs": [
    {
     "name": "stdout",
     "output_type": "stream",
     "text": [
      "swim me kiwi\n"
     ]
    }
   ],
   "source": [
    "words = ['apple', 'swim', 'clock', 'me', 'kiwi', 'banana']\n",
    "chars= filter (lambda x: len(x) < 5 , words)\n",
    "print(*chars)"
   ]
  },
  {
   "cell_type": "code",
   "execution_count": 107,
   "id": "4650ad17",
   "metadata": {},
   "outputs": [
    {
     "name": "stdout",
     "output_type": "stream",
     "text": [
      "swim\n",
      "me\n",
      "kiwi\n"
     ]
    }
   ],
   "source": [
    "words = ['apple', 'swim', 'clock', 'me', 'kiwi', 'banana']\n",
    "for i in filter (lambda x: len(x) < 5 , words):\n",
    "    print(i)\n"
   ]
  },
  {
   "cell_type": "code",
   "execution_count": 108,
   "id": "ef2190f6",
   "metadata": {},
   "outputs": [
    {
     "name": "stdout",
     "output_type": "stream",
     "text": [
      "('a', 'x')\n",
      "('b', 'y')\n",
      "('c', 'z')\n"
     ]
    }
   ],
   "source": [
    "letter1   = ['a', 'b', 'c']\n",
    "letter2   = ['x', 'y','z']\n",
    "birleştir = map(zip, letter1, letter2)\n",
    "for i in birleştir:\n",
    "    for j in i :\n",
    "        print(j)\n"
   ]
  },
  {
   "cell_type": "code",
   "execution_count": 110,
   "id": "4ea09e9d",
   "metadata": {},
   "outputs": [
    {
     "data": {
      "text/plain": [
       "[('a', 'x'), ('b', 'y'), ('c', 'z')]"
      ]
     },
     "execution_count": 110,
     "metadata": {},
     "output_type": "execute_result"
    }
   ],
   "source": [
    "yapıştur = zip(letter1,letter2)\n",
    "list(yapıştur)"
   ]
  },
  {
   "cell_type": "code",
   "execution_count": 23,
   "id": "2bd9abd9",
   "metadata": {},
   "outputs": [
    {
     "name": "stdout",
     "output_type": "stream",
     "text": [
      "[<zip object at 0x106c1e1c0>, <zip object at 0x106c1f6c0>, <zip object at 0x106c1e840>]\n"
     ]
    }
   ],
   "source": [
    "letter1   = ['a', 'b', 'c']\n",
    "letter2   = ['x', 'y','z']\n",
    "birleştir = map(zip, letter1, letter2)\n",
    "print(list(birleştir))"
   ]
  },
  {
   "cell_type": "code",
   "execution_count": null,
   "id": "a4d52b0c",
   "metadata": {},
   "outputs": [],
   "source": [
    "Python\n",
    "1\n",
    "2\n",
    "3\n",
    "4\n",
    "5\n",
    "6\n",
    "7\n",
    "8\n",
    " "
   ]
  }
 ],
 "metadata": {
  "kernelspec": {
   "display_name": "Python 3 (ipykernel)",
   "language": "python",
   "name": "python3"
  },
  "language_info": {
   "codemirror_mode": {
    "name": "ipython",
    "version": 3
   },
   "file_extension": ".py",
   "mimetype": "text/x-python",
   "name": "python",
   "nbconvert_exporter": "python",
   "pygments_lexer": "ipython3",
   "version": "3.10.1"
  }
 },
 "nbformat": 4,
 "nbformat_minor": 5
}
