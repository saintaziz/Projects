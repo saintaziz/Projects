{
 "cells": [
  {
   "cell_type": "markdown",
   "id": "ebee727c",
   "metadata": {},
   "source": [
    "Q1 : A number is said to be Harshad if it's exactly divisible by the sum of its digits. Create a function that determines whether a number is a Harshad or not.\n",
    "Examples is_harshad(75) ➞ False 7 + 5 = 12 75 is not exactly divisible by 12\n",
    "is_harshad(171) ➞ True 1 + 7 + 1 = 9 9 exactly divides 171 is_harshad(481) ➞ True is_harshad(89) ➞ False is_harshad(516) ➞ True is_harshad(200) ➞ True (edited) "
   ]
  },
  {
   "cell_type": "code",
   "execution_count": 6,
   "id": "03c82d98",
   "metadata": {},
   "outputs": [
    {
     "name": "stdout",
     "output_type": "stream",
     "text": [
      "enter number: 171\n",
      "True is_harshad 171\n"
     ]
    }
   ],
   "source": [
    "num = input('enter number: ')\n",
    "summ=0\n",
    "for i in num:\n",
    "    summ+=int(i)\n",
    "if int(num)%summ==0:\n",
    "    print(True, 'is_harshad',(num))\n",
    "else:\n",
    "    print(False, 'is_harshad',(num))\n",
    "    "
   ]
  },
  {
   "cell_type": "code",
   "execution_count": 13,
   "id": "b4c7e305",
   "metadata": {},
   "outputs": [
    {
     "data": {
      "text/plain": [
       "True"
      ]
     },
     "execution_count": 13,
     "metadata": {},
     "output_type": "execute_result"
    }
   ],
   "source": [
    "def is_harshard (num):\n",
    "    summ=0\n",
    "    for i in str(num):\n",
    "        summ+=int(i)\n",
    "        if num%summ==0:\n",
    "            return True\n",
    "        else:\n",
    "            False\n",
    "is_harshard (171)"
   ]
  },
  {
   "cell_type": "code",
   "execution_count": null,
   "id": "6603991b",
   "metadata": {},
   "outputs": [],
   "source": [
    "Q2: Write a function that takes in a list of integers and returns True if it contains 007 in order."
   ]
  },
  {
   "cell_type": "code",
   "execution_count": null,
   "id": "e6723a90",
   "metadata": {},
   "outputs": [],
   "source": []
  },
  {
   "cell_type": "code",
   "execution_count": 42,
   "id": "c34e4a51",
   "metadata": {},
   "outputs": [
    {
     "name": "stdout",
     "output_type": "stream",
     "text": [
      "enter integer numbers:23450070\n",
      "true\n"
     ]
    }
   ],
   "source": [
    "def asd(*x):\n",
    "    x=input(\"enter integer numbers:\")\n",
    "    if \"007\" in x:\n",
    "        print(\"true\")\n",
    "    else:\n",
    "        print(\"false\")\n",
    "asd()"
   ]
  },
  {
   "cell_type": "code",
   "execution_count": null,
   "id": "c1841f45",
   "metadata": {},
   "outputs": [],
   "source": []
  },
  {
   "cell_type": "code",
   "execution_count": null,
   "id": "87974670",
   "metadata": {},
   "outputs": [],
   "source": []
  },
  {
   "cell_type": "markdown",
   "id": "4ea57b67",
   "metadata": {},
   "source": [
    "Q3 :The integers 14 and 15, are contiguous (1 the difference between them, obvious) and have the same number of divisors.\n",
    "\n",
    "14 ----> 1, 2, 7, 14 (4 divisors)\n",
    "15 ----> 1, 3, 5, 15 (4 divisors)\n",
    "The next pair of contiguous integers with this property is 21 and 22.\n",
    "\n",
    "21 -----> 1, 3, 7, 21 (4 divisors)\n",
    "22 -----> 1, 2, 11, 22 (4 divisors)\n",
    "We have 8 pairs of integers below 50 having this property, they are:\n",
    "\n",
    "[[2, 3], [14, 15], [21, 22], [26, 27], [33, 34], [34, 35], [38, 39], [44, 45]]\n",
    "Let's see now the integers that have a difference of 3 between them. There are seven pairs below 100:\n",
    "\n",
    "[[2, 5], [35, 38], [55, 58], [62, 65], [74, 77], [82, 85], [91, 94]]\n",
    "Let's name, diff, the difference between two integers, next and prev, (diff = next - prev) and nMax, an upper bound of the range.\n",
    "\n",
    "We need a special function, count_pairsInt(), that receives two arguments, diff and nMax and outputs the amount of pairs of integers that fulfill this property, all of them being smaller (not smaller or equal) than nMax.\n",
    "\n",
    "Let's see it more clearly with examples.\n",
    "\n",
    "count_pairsInt(1, 50) -----> 8 (See case above)\n",
    "count_pairsInt(3, 100) -----> 7 (See case above)\n",
    "Happy coding!!!"
   ]
  },
  {
   "cell_type": "code",
   "execution_count": 50,
   "id": "be56a44c",
   "metadata": {},
   "outputs": [
    {
     "data": {
      "text/plain": [
       "[1,\n",
       " 2,\n",
       " 3,\n",
       " 4,\n",
       " 5,\n",
       " 6,\n",
       " 7,\n",
       " 8,\n",
       " 9,\n",
       " 10,\n",
       " 11,\n",
       " 12,\n",
       " 13,\n",
       " 14,\n",
       " 15,\n",
       " 16,\n",
       " 17,\n",
       " 18,\n",
       " 19,\n",
       " 20,\n",
       " 21,\n",
       " 22,\n",
       " 23,\n",
       " 24,\n",
       " 25,\n",
       " 26,\n",
       " 27,\n",
       " 28,\n",
       " 29,\n",
       " 30,\n",
       " 31,\n",
       " 32,\n",
       " 33,\n",
       " 34,\n",
       " 35,\n",
       " 36,\n",
       " 37,\n",
       " 38,\n",
       " 39,\n",
       " 40,\n",
       " 41,\n",
       " 42,\n",
       " 43,\n",
       " 44,\n",
       " 45,\n",
       " 46,\n",
       " 47,\n",
       " 48,\n",
       " 49,\n",
       " 50]"
      ]
     },
     "execution_count": 50,
     "metadata": {},
     "output_type": "execute_result"
    }
   ],
   "source": [
    "list1=[]\n",
    "for i in range(1,51):\n",
    "    n=1\n",
    "    if i%n==0:\n",
    "        list1.append(i)\n",
    "        n+=1\n",
    "list1"
   ]
  },
  {
   "cell_type": "code",
   "execution_count": null,
   "id": "d386d41f",
   "metadata": {},
   "outputs": [],
   "source": []
  },
  {
   "cell_type": "markdown",
   "id": "6585086c",
   "metadata": {},
   "source": [
    "Elinizde bir teste ait cevap anahtarı ve öğrenci cevaplarının olduğu listeler var.\n",
    "Siz bu cevapları anahtar ile kontrol ederek sonuçları doğru veya yanlış olarak çıktı almak istiyorsunuz.\n",
    "Bunu yapacak kodları lambda ve map fonksiyonları ile nasıl yaparsınız.\n",
    "Örnek: cevap_anahtarı=[“a”,“c”,“e”,“b”,“a”] ogrenci_1=[“a”,“d”,“d”,“b”,“a”]\n",
    "İstenen çıktı Çıktı: [‘doğru’, ‘yanlıs’, ‘yanlıs’, ‘doğru’, ‘doğru’]\n",
    "\n"
   ]
  },
  {
   "cell_type": "code",
   "execution_count": 58,
   "id": "4a8fc245",
   "metadata": {},
   "outputs": [
    {
     "name": "stdout",
     "output_type": "stream",
     "text": [
      "[True, False, False, True, True]\n"
     ]
    }
   ],
   "source": [
    "answer_key = ['a','c','e','b','a']\n",
    "student_1_ak=['a','d','d','b','a']\n",
    "function= (lambda x,y: True if x==y else False)\n",
    "result = map(function, answer_key, student_1_ak)\n",
    "print(list(result))"
   ]
  },
  {
   "cell_type": "markdown",
   "id": "e9387e59",
   "metadata": {},
   "source": [
    "Given a string containing just the characters '(', ')', '{', '}', '[' and ']',\n",
    "determine if the input string is valid.\n",
    "An input string is valid if:\n",
    "Open brackets must be closed by the same type of brackets.\n",
    "Open brackets must be closed in the correct order.\n",
    "Note that an empty string is also considered valid.\n",
    "Example 1:\n",
    "Input: \"()\"\n",
    "Output: True\n",
    "Example 2:\n",
    "Input: \"()[]{}\"\n",
    "Output: True\n",
    "Example 3:\n",
    "Input: \"(]\"\n",
    "Output: False\n",
    "Example 4:\n",
    "Input: \"([)]\"\n",
    "Output: False\n",
    "Example 5:\n",
    "Input: \"{[]}\"\n",
    "Output: True"
   ]
  },
  {
   "cell_type": "code",
   "execution_count": null,
   "id": "451b4e6b",
   "metadata": {},
   "outputs": [],
   "source": []
  },
  {
   "cell_type": "markdown",
   "id": "f5d97cb0",
   "metadata": {},
   "source": [
    "Problem :\n",
    "Given a collection of distinct integers, return all possible permutations.\n",
    "Example:\n",
    "Input: [1,2,3]\n",
    "Output:\n",
    "[\n",
    "  [1,2,3],\n",
    "  [1,3,2],\n",
    "  [2,1,3],\n",
    "  [2,3,1],\n",
    "  [3,1,2],\n",
    "  [3,2,1]\n",
    "]\n",
    "Yukardaki üç elemanlı bir örnektir. Sorunun çözümü eleman sayısından bağımsız olmalıdır. 2 elemanlı 4 elemanlı gibi.."
   ]
  },
  {
   "cell_type": "code",
   "execution_count": null,
   "id": "dbcf8d2b",
   "metadata": {},
   "outputs": [],
   "source": []
  },
  {
   "cell_type": "code",
   "execution_count": null,
   "id": "9906c0f1",
   "metadata": {},
   "outputs": [],
   "source": []
  }
 ],
 "metadata": {
  "kernelspec": {
   "display_name": "Python 3 (ipykernel)",
   "language": "python",
   "name": "python3"
  },
  "language_info": {
   "codemirror_mode": {
    "name": "ipython",
    "version": 3
   },
   "file_extension": ".py",
   "mimetype": "text/x-python",
   "name": "python",
   "nbconvert_exporter": "python",
   "pygments_lexer": "ipython3",
   "version": "3.10.1"
  }
 },
 "nbformat": 4,
 "nbformat_minor": 5
}
