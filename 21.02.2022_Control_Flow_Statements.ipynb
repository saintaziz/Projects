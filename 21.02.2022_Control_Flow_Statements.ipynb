{
 "cells": [
  {
   "cell_type": "code",
   "execution_count": 1,
   "id": "ca519e92",
   "metadata": {},
   "outputs": [
    {
     "data": {
      "text/plain": [
       "True"
      ]
     },
     "execution_count": 1,
     "metadata": {},
     "output_type": "execute_result"
    }
   ],
   "source": [
    "minced_meat = True\n",
    "hamburger_bread = True\n",
    "lettuce= True\n",
    "pepper = False\n",
    "grocery_store = True\n",
    "hamburger = minced_meat and hamburger_bread and grocery_store and (lettuce or onion)\n",
    "hamburger "
   ]
  },
  {
   "cell_type": "code",
   "execution_count": 2,
   "id": "b6bef681",
   "metadata": {},
   "outputs": [
    {
     "name": "stdout",
     "output_type": "stream",
     "text": [
      "Bon Appetit\n"
     ]
    }
   ],
   "source": [
    "if hamburger :\n",
    "    print('Bon Appetit')"
   ]
  },
  {
   "cell_type": "code",
   "execution_count": 3,
   "id": "be1906ae",
   "metadata": {},
   "outputs": [
    {
     "name": "stdout",
     "output_type": "stream",
     "text": [
      "We are same\n"
     ]
    }
   ],
   "source": [
    "a = set(\"TWELVE PLUS ONE\")\n",
    "b = set(\"ELEVEN PLUS TWO\")\n",
    "if a==b:\n",
    "    print('We are same')"
   ]
  },
  {
   "cell_type": "code",
   "execution_count": 9,
   "id": "c92a9ac9",
   "metadata": {},
   "outputs": [
    {
     "name": "stdout",
     "output_type": "stream",
     "text": [
      "Yes or No: No\n",
      "True\n"
     ]
    }
   ],
   "source": [
    "a = input('Yes or No: ')\n",
    "Yes = True\n",
    "No = False\n",
    "print(bool(a))"
   ]
  },
  {
   "cell_type": "code",
   "execution_count": 11,
   "id": "e538a467",
   "metadata": {},
   "outputs": [
    {
     "name": "stdout",
     "output_type": "stream",
     "text": [
      "Emter Yes or No :no\n"
     ]
    },
    {
     "data": {
      "text/plain": [
       "False"
      ]
     },
     "execution_count": 11,
     "metadata": {},
     "output_type": "execute_result"
    }
   ],
   "source": [
    "convert = input('Emter Yes or No :').title().strip() == 'Yes'\n",
    "convert"
   ]
  },
  {
   "cell_type": "code",
   "execution_count": 12,
   "id": "c683a30f",
   "metadata": {},
   "outputs": [
    {
     "data": {
      "text/plain": [
       "bool"
      ]
     },
     "execution_count": 12,
     "metadata": {},
     "output_type": "execute_result"
    }
   ],
   "source": [
    "type(convert)"
   ]
  },
  {
   "cell_type": "code",
   "execution_count": 13,
   "id": "486125a4",
   "metadata": {},
   "outputs": [
    {
     "name": "stdout",
     "output_type": "stream",
     "text": [
      "Emter Yes or No :Yes\n",
      "You entered True\n"
     ]
    }
   ],
   "source": [
    "print(f\"You entered {input('Emter Yes or No :').title().strip() == 'Yes'}\")"
   ]
  },
  {
   "cell_type": "code",
   "execution_count": null,
   "id": "cb084933",
   "metadata": {},
   "outputs": [],
   "source": []
  }
 ],
 "metadata": {
  "kernelspec": {
   "display_name": "Python 3 (ipykernel)",
   "language": "python",
   "name": "python3"
  },
  "language_info": {
   "codemirror_mode": {
    "name": "ipython",
    "version": 3
   },
   "file_extension": ".py",
   "mimetype": "text/x-python",
   "name": "python",
   "nbconvert_exporter": "python",
   "pygments_lexer": "ipython3",
   "version": "3.10.1"
  }
 },
 "nbformat": 4,
 "nbformat_minor": 5
}
