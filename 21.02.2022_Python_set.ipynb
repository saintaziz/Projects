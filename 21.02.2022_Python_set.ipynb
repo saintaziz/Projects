{
 "cells": [
  {
   "cell_type": "code",
   "execution_count": 1,
   "id": "e236f341",
   "metadata": {},
   "outputs": [
    {
     "data": {
      "text/plain": [
       "{'blue', 'pink', 'red'}"
      ]
     },
     "execution_count": 1,
     "metadata": {},
     "output_type": "execute_result"
    }
   ],
   "source": [
    "colors = 'red', 'blue', 'pink', 'red'\n",
    "set2 = set(colors)\n",
    "set2"
   ]
  },
  {
   "cell_type": "code",
   "execution_count": 2,
   "id": "2164c223",
   "metadata": {},
   "outputs": [
    {
     "data": {
      "text/plain": [
       "{0, 1, 2}"
      ]
     },
     "execution_count": 2,
     "metadata": {},
     "output_type": "execute_result"
    }
   ],
   "source": [
    "i_k ={1,1,2,0,1}\n",
    "i_k"
   ]
  },
  {
   "cell_type": "code",
   "execution_count": 3,
   "id": "db2eb5f8",
   "metadata": {},
   "outputs": [
    {
     "data": {
      "text/plain": [
       "['a',\n",
       " 'b',\n",
       " 'c',\n",
       " 'd',\n",
       " 'e',\n",
       " 'f',\n",
       " 'g',\n",
       " 'h',\n",
       " 'i',\n",
       " 'j',\n",
       " 'k',\n",
       " 'l',\n",
       " 'm',\n",
       " 'n',\n",
       " 'o',\n",
       " 'p']"
      ]
     },
     "execution_count": 3,
     "metadata": {},
     "output_type": "execute_result"
    }
   ],
   "source": [
    "letter = \"a b c d e f g h i j k l m n o p\".split()\n",
    "letter"
   ]
  },
  {
   "cell_type": "code",
   "execution_count": 4,
   "id": "beb5d393",
   "metadata": {},
   "outputs": [
    {
     "name": "stdout",
     "output_type": "stream",
     "text": [
      "{'p', 'd', 'h', 'l', 'c', 'g', 'o', 'e', 'f', 'k', 'n', 'a', 'm', 'i', 'j', 'b'}\n"
     ]
    }
   ],
   "source": [
    "print(set(letter))"
   ]
  },
  {
   "cell_type": "code",
   "execution_count": 7,
   "id": "a47ff62d",
   "metadata": {},
   "outputs": [
    {
     "data": {
      "text/plain": [
       "{'carnation', 'orchid', 'rose', 'violet'}"
      ]
     },
     "execution_count": 7,
     "metadata": {},
     "output_type": "execute_result"
    }
   ],
   "source": [
    "a = {'carnation', 'orchid', 'rose', 'violet'} \n",
    "b = {'rose', 'orchid', 'rose', 'violet', 'carnation'} \n",
    "\n",
    "b"
   ]
  },
  {
   "cell_type": "code",
   "execution_count": 9,
   "id": "305dca80",
   "metadata": {},
   "outputs": [
    {
     "data": {
      "text/plain": [
       "{'carnation', 'orchid', 'violet'}"
      ]
     },
     "execution_count": 9,
     "metadata": {},
     "output_type": "execute_result"
    }
   ],
   "source": [
    "a = {'carnation', 'orchid', 'rose', 'violet'} \n",
    "a.remove('rose')\n",
    "a"
   ]
  },
  {
   "cell_type": "code",
   "execution_count": 10,
   "id": "845b3bcd",
   "metadata": {},
   "outputs": [
    {
     "name": "stdout",
     "output_type": "stream",
     "text": [
      "{'e', 'P', 'a'}\n"
     ]
    }
   ],
   "source": [
    "a=set('Philadelphia')\n",
    "b= set('dolphin')\n",
    "print(a-b)"
   ]
  },
  {
   "cell_type": "code",
   "execution_count": 11,
   "id": "3a7d0777",
   "metadata": {},
   "outputs": [
    {
     "name": "stdout",
     "output_type": "stream",
     "text": [
      "{'n', 'o'}\n"
     ]
    }
   ],
   "source": [
    "a=set('Philadelphia')\n",
    "b= set('dolphin')\n",
    "print(b-a)"
   ]
  },
  {
   "cell_type": "code",
   "execution_count": 12,
   "id": "148d16d7",
   "metadata": {},
   "outputs": [
    {
     "name": "stdout",
     "output_type": "stream",
     "text": [
      "{'p', 'd', 'P', 'h', 'l', 'o', 'e', 'n', 'a', 'i'}\n"
     ]
    }
   ],
   "source": [
    "a=set('Philadelphia')\n",
    "b= set('dolphin')\n",
    "print(a|b)"
   ]
  },
  {
   "cell_type": "code",
   "execution_count": 13,
   "id": "e663b879",
   "metadata": {},
   "outputs": [
    {
     "name": "stdout",
     "output_type": "stream",
     "text": [
      "{'p', 'd', 'h', 'l', 'i'}\n"
     ]
    }
   ],
   "source": [
    "a=set('Philadelphia')\n",
    "b= set('dolphin')\n",
    "print(a.intersection(b))"
   ]
  },
  {
   "cell_type": "code",
   "execution_count": 15,
   "id": "0bf8daea",
   "metadata": {},
   "outputs": [
    {
     "data": {
      "text/plain": [
       "{'02/21/2022'}"
      ]
     },
     "execution_count": 15,
     "metadata": {},
     "output_type": "execute_result"
    }
   ],
   "source": [
    "date = set('02/21/2022')\n",
    "date2 = {'02/21/2022'}\n",
    "date\n",
    "date2"
   ]
  },
  {
   "cell_type": "code",
   "execution_count": 16,
   "id": "2eae4374",
   "metadata": {},
   "outputs": [
    {
     "data": {
      "text/plain": [
       "1"
      ]
     },
     "execution_count": 16,
     "metadata": {},
     "output_type": "execute_result"
    }
   ],
   "source": [
    "len(date2)"
   ]
  },
  {
   "cell_type": "code",
   "execution_count": 21,
   "id": "fc0f87d1",
   "metadata": {},
   "outputs": [
    {
     "name": "stdout",
     "output_type": "stream",
     "text": [
      "{'w', 't', 's', 'h', 'l', 'g', 'o', 'e', 'n', 'a', 'i'}\n",
      "{'t', 'w', 'o', 'g', 'n', 'i'}\n",
      "{'s', 'h', 'a'}\n"
     ]
    }
   ],
   "source": [
    "C_USA = 'washington'\n",
    "c_NZ = 'wellington'\n",
    "A = set(C_USA)\n",
    "B = set(c_NZ)\n",
    "print(A|B)\n",
    "print(A&B)\n",
    "print(A-B)"
   ]
  },
  {
   "cell_type": "code",
   "execution_count": null,
   "id": "f3efdfd9",
   "metadata": {},
   "outputs": [],
   "source": []
  }
 ],
 "metadata": {
  "kernelspec": {
   "display_name": "Python 3 (ipykernel)",
   "language": "python",
   "name": "python3"
  },
  "language_info": {
   "codemirror_mode": {
    "name": "ipython",
    "version": 3
   },
   "file_extension": ".py",
   "mimetype": "text/x-python",
   "name": "python",
   "nbconvert_exporter": "python",
   "pygments_lexer": "ipython3",
   "version": "3.10.1"
  }
 },
 "nbformat": 4,
 "nbformat_minor": 5
}
