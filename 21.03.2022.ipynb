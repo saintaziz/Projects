{
 "cells": [
  {
   "cell_type": "markdown",
   "id": "68634040",
   "metadata": {},
   "source": [
    "# Lambda within Filter Function"
   ]
  },
  {
   "cell_type": "code",
   "execution_count": 2,
   "id": "322fb4ca",
   "metadata": {},
   "outputs": [
    {
     "name": "stdout",
     "output_type": "stream",
     "text": [
      "['a', 'e', 'i']\n"
     ]
    }
   ],
   "source": [
    "vowel_list = ['a', 'e', 'i', 'o', 'u']\n",
    "first_ten = ['a', 'b', 'c', 'd', 'e', 'f', 'g', 'h', 'i', 'j']\n",
    "\n",
    "print(list(filter(lambda x: True if x in vowel_list else False, first_ten)))\n",
    "\n"
   ]
  },
  {
   "cell_type": "code",
   "execution_count": 3,
   "id": "b731a034",
   "metadata": {},
   "outputs": [
    {
     "name": "stdout",
     "output_type": "stream",
     "text": [
      "['a', 'e', 'i']\n"
     ]
    }
   ],
   "source": [
    "vowel_list = ['a', 'e', 'i', 'o', 'u']\n",
    "first_ten = ['a', 'b', 'c', 'd', 'e', 'f', 'g', 'h', 'i', 'j']\n",
    "print(list(filter(lambda x: x in vowel_list, first_ten)))\n",
    "# bir yerde 'in' varsa lambda body  true or false çeviriir. çok kısa olarak yaparsın bunu."
   ]
  },
  {
   "cell_type": "markdown",
   "id": "3262b264",
   "metadata": {},
   "source": [
    "# Lambda within User-Defined Function"
   ]
  },
  {
   "cell_type": "code",
   "execution_count": 4,
   "id": "c7c304ca",
   "metadata": {},
   "outputs": [
    {
     "data": {
      "text/plain": [
       "<function __main__.modular.<locals>.<lambda>(x)>"
      ]
     },
     "execution_count": 4,
     "metadata": {},
     "output_type": "execute_result"
    }
   ],
   "source": [
    "def modular(n):\n",
    "    return lambda x: x**n\n",
    "kupunual= modular(3)\n",
    "kupunual #fonksiyon ismini verir."
   ]
  },
  {
   "cell_type": "code",
   "execution_count": 5,
   "id": "baf4a18d",
   "metadata": {},
   "outputs": [
    {
     "data": {
      "text/plain": [
       "64"
      ]
     },
     "execution_count": 5,
     "metadata": {},
     "output_type": "execute_result"
    }
   ],
   "source": [
    "kupunual(4)"
   ]
  },
  {
   "cell_type": "code",
   "execution_count": 16,
   "id": "b7a87871",
   "metadata": {
    "scrolled": true
   },
   "outputs": [
    {
     "name": "stdout",
     "output_type": "stream",
     "text": [
      "aziz aziz aziz \n"
     ]
    }
   ],
   "source": [
    "def repeater(n):\n",
    "    return lambda x : x * n\n",
    "tekraret=repeater(3)\n",
    "print(tekraret('aziz '))\n"
   ]
  },
  {
   "cell_type": "code",
   "execution_count": 20,
   "id": "8691c0d4",
   "metadata": {},
   "outputs": [
    {
     "name": "stdout",
     "output_type": "stream",
     "text": [
      "HELLO:)\n",
      "HELLO:(\n",
      "HELLO:|\n"
     ]
    }
   ],
   "source": [
    "def smile(n):\n",
    "    return lambda x: x + n\n",
    "smile_face = smile(':)')\n",
    "print (smile_face('HELLO'))\n",
    "\n",
    "def sad_face (n):\n",
    "    return lambda x: x + n\n",
    "sad_face = sad_face(':(')\n",
    "print (sad_face('HELLO'))\n",
    "\n",
    "def neutral_face (n):\n",
    "    return lambda x: x + n\n",
    "neutral_face = neutral_face(':|')\n",
    "print (neutral_face('HELLO'))"
   ]
  },
  {
   "cell_type": "code",
   "execution_count": 22,
   "id": "6df3fd55",
   "metadata": {},
   "outputs": [
    {
     "name": "stdout",
     "output_type": "stream",
     "text": [
      "Hello :)\n"
     ]
    }
   ],
   "source": [
    "def functioner(emoji=None):\n",
    "    return lambda message : print (message, emoji)\n",
    "print ('Hello', ':)')"
   ]
  },
  {
   "cell_type": "code",
   "execution_count": 23,
   "id": "8ae8cd18",
   "metadata": {},
   "outputs": [
    {
     "name": "stdout",
     "output_type": "stream",
     "text": [
      "ali :)\n"
     ]
    }
   ],
   "source": [
    "smile_face = functioner (':)')\n",
    "smile_face('ali')"
   ]
  },
  {
   "cell_type": "code",
   "execution_count": 24,
   "id": "1d93b7dc",
   "metadata": {},
   "outputs": [
    {
     "name": "stdout",
     "output_type": "stream",
     "text": [
      "[1, 2, 3, 4] :)\n"
     ]
    }
   ],
   "source": [
    "smile_face([1,2,3,4])"
   ]
  },
  {
   "cell_type": "code",
   "execution_count": 27,
   "id": "a362bd35",
   "metadata": {},
   "outputs": [
    {
     "name": "stdout",
     "output_type": "stream",
     "text": [
      "aziz :(\n"
     ]
    }
   ],
   "source": [
    "sad_face = functioner (':(')\n",
    "sad_face ('aziz')"
   ]
  },
  {
   "cell_type": "code",
   "execution_count": 28,
   "id": "1b95ce58",
   "metadata": {},
   "outputs": [
    {
     "name": "stdout",
     "output_type": "stream",
     "text": [
      "aziz :|\n"
     ]
    }
   ],
   "source": [
    "neutral_face = functioner (':|')\n",
    "neutral_face ('aziz')"
   ]
  },
  {
   "cell_type": "code",
   "execution_count": 29,
   "id": "4701c9d1",
   "metadata": {},
   "outputs": [
    {
     "name": "stdout",
     "output_type": "stream",
     "text": [
      "aziz :(\n"
     ]
    }
   ],
   "source": [
    "(lambda x : print(x, ':('))('aziz') # çok güzel ve ksıa"
   ]
  },
  {
   "cell_type": "code",
   "execution_count": 45,
   "id": "97163f38",
   "metadata": {},
   "outputs": [
    {
     "name": "stdout",
     "output_type": "stream",
     "text": [
      "aziz\n"
     ]
    }
   ],
   "source": [
    "def function_generator():\n",
    "    return lambda x:print(x)\n",
    "function_generator()('aziz')"
   ]
  },
  {
   "cell_type": "code",
   "execution_count": 41,
   "id": "ac812c27",
   "metadata": {},
   "outputs": [],
   "source": [
    "def function_generator(function_name):\n",
    "    return lambda x:function_name(x)\n",
    "print_function = function_generator(print)\n",
    "sorted_function = function_generator(sorted)\n",
    "max_function = function_generator(max)\n",
    "bool_function = function_generator(bool)"
   ]
  },
  {
   "cell_type": "code",
   "execution_count": 40,
   "id": "b188a725",
   "metadata": {},
   "outputs": [
    {
     "name": "stdout",
     "output_type": "stream",
     "text": [
      "aziz\n"
     ]
    }
   ],
   "source": [
    "print_function('aziz')"
   ]
  },
  {
   "cell_type": "code",
   "execution_count": 38,
   "id": "0962e976",
   "metadata": {},
   "outputs": [
    {
     "data": {
      "text/plain": [
       "[1, 4, 5, 8, 12]"
      ]
     },
     "execution_count": 38,
     "metadata": {},
     "output_type": "execute_result"
    }
   ],
   "source": [
    "sorted_function([4,5,1,8,12])"
   ]
  },
  {
   "cell_type": "code",
   "execution_count": 39,
   "id": "baa3cdfb",
   "metadata": {},
   "outputs": [
    {
     "data": {
      "text/plain": [
       "999"
      ]
     },
     "execution_count": 39,
     "metadata": {},
     "output_type": "execute_result"
    }
   ],
   "source": [
    "max_function([41,1,26,123,999])"
   ]
  },
  {
   "cell_type": "code",
   "execution_count": 42,
   "id": "6d702934",
   "metadata": {},
   "outputs": [
    {
     "data": {
      "text/plain": [
       "False"
      ]
     },
     "execution_count": 42,
     "metadata": {},
     "output_type": "execute_result"
    }
   ],
   "source": [
    "bool_function(0)"
   ]
  },
  {
   "cell_type": "code",
   "execution_count": 46,
   "id": "f9036b5e",
   "metadata": {},
   "outputs": [],
   "source": [
    "def x():\n",
    "    return 1,2,3,4"
   ]
  },
  {
   "cell_type": "code",
   "execution_count": 47,
   "id": "71e71d2f",
   "metadata": {},
   "outputs": [
    {
     "data": {
      "text/plain": [
       "tuple"
      ]
     },
     "execution_count": 47,
     "metadata": {},
     "output_type": "execute_result"
    }
   ],
   "source": [
    "type(x())"
   ]
  },
  {
   "cell_type": "code",
   "execution_count": 50,
   "id": "5f006f9e",
   "metadata": {},
   "outputs": [
    {
     "data": {
      "text/plain": [
       "1"
      ]
     },
     "execution_count": 50,
     "metadata": {},
     "output_type": "execute_result"
    }
   ],
   "source": [
    "a,b,c,d = x()\n",
    "a"
   ]
  },
  {
   "cell_type": "code",
   "execution_count": 57,
   "id": "083b4b28",
   "metadata": {},
   "outputs": [
    {
     "data": {
      "text/plain": [
       "4"
      ]
     },
     "execution_count": 57,
     "metadata": {},
     "output_type": "execute_result"
    }
   ],
   "source": [
    "num = [1,4,4]\n",
    "max (num, key=num.count) # key=num.count prensibine göre max al, yani üretilmiş değerlerin max ını alır."
   ]
  },
  {
   "cell_type": "code",
   "execution_count": 53,
   "id": "6cd188b5",
   "metadata": {},
   "outputs": [
    {
     "data": {
      "text/plain": [
       "1"
      ]
     },
     "execution_count": 53,
     "metadata": {},
     "output_type": "execute_result"
    }
   ],
   "source": [
    "num.count(1)"
   ]
  },
  {
   "cell_type": "code",
   "execution_count": 54,
   "id": "9715322e",
   "metadata": {},
   "outputs": [
    {
     "data": {
      "text/plain": [
       "2"
      ]
     },
     "execution_count": 54,
     "metadata": {},
     "output_type": "execute_result"
    }
   ],
   "source": [
    "num.count(4)"
   ]
  },
  {
   "cell_type": "code",
   "execution_count": 60,
   "id": "4da47252",
   "metadata": {},
   "outputs": [
    {
     "data": {
      "text/plain": [
       "2"
      ]
     },
     "execution_count": 60,
     "metadata": {},
     "output_type": "execute_result"
    }
   ],
   "source": [
    "tekrar_sayısı = num.count(max (num, key=num.count))\n",
    "tekrar_sayısı"
   ]
  },
  {
   "cell_type": "code",
   "execution_count": 98,
   "id": "c14c9303",
   "metadata": {},
   "outputs": [
    {
     "data": {
      "text/plain": [
       "1"
      ]
     },
     "execution_count": 98,
     "metadata": {},
     "output_type": "execute_result"
    }
   ],
   "source": [
    "def functioner():\n",
    "    return lambda x : list(x).count(max (list(x), key=list(x).count))\n",
    "functioner()([1,2,3])"
   ]
  },
  {
   "cell_type": "code",
   "execution_count": 108,
   "id": "3ec40306",
   "metadata": {},
   "outputs": [],
   "source": [
    "def equal (a,b,c):\n",
    "    num = [a,b,c]\n",
    "    sonuc = num.count(max (num, key=num.count))\n",
    "    if sonuc >1:\n",
    "        return sonuc\n",
    "    else:\n",
    "        return 0"
   ]
  },
  {
   "cell_type": "code",
   "execution_count": 107,
   "id": "99ce4437",
   "metadata": {},
   "outputs": [
    {
     "data": {
      "text/plain": [
       "0"
      ]
     },
     "execution_count": 107,
     "metadata": {},
     "output_type": "execute_result"
    }
   ],
   "source": [
    "equal(1,2,3)"
   ]
  },
  {
   "cell_type": "code",
   "execution_count": 76,
   "id": "d24ca6c9",
   "metadata": {},
   "outputs": [],
   "source": [
    "def equall (*arg):\n",
    "    num = list(arg)\n",
    "    sonuc = num.count(max (num, key=num.count))\n",
    "    if sonuc >1:\n",
    "        return sonuc\n",
    "    else:\n",
    "        return 0"
   ]
  },
  {
   "cell_type": "code",
   "execution_count": 104,
   "id": "1b50162e",
   "metadata": {},
   "outputs": [
    {
     "data": {
      "text/plain": [
       "3"
      ]
     },
     "execution_count": 104,
     "metadata": {},
     "output_type": "execute_result"
    }
   ],
   "source": [
    "equall (1,1,1,22,33,44,3,4,4,4)"
   ]
  },
  {
   "cell_type": "code",
   "execution_count": 99,
   "id": "42434112",
   "metadata": {},
   "outputs": [
    {
     "data": {
      "text/plain": [
       "0"
      ]
     },
     "execution_count": 99,
     "metadata": {},
     "output_type": "execute_result"
    }
   ],
   "source": [
    "equallambda = lambda x,y,z : [x,y,z].count(max ([x,y,z], key=[x,y,z].count)) if [x,y,z].count(max ([x,y,z], key=[x,y,z].count)) >1 else 0\n",
    "equallambda (1,2,3)"
   ]
  },
  {
   "cell_type": "code",
   "execution_count": 102,
   "id": "c485cda3",
   "metadata": {},
   "outputs": [
    {
     "data": {
      "text/plain": [
       "0"
      ]
     },
     "execution_count": 102,
     "metadata": {},
     "output_type": "execute_result"
    }
   ],
   "source": [
    "equallambda = lambda *x : [*x].count(max ([*x], key=[*x].count)) if [*x].count(max ([*x], key=[*x].count)) >1 else 0\n",
    "equallambda (1,2,3,4,5,6,7,8,9)"
   ]
  },
  {
   "cell_type": "code",
   "execution_count": 103,
   "id": "08cc2b0d",
   "metadata": {},
   "outputs": [
    {
     "data": {
      "text/plain": [
       "0"
      ]
     },
     "execution_count": 103,
     "metadata": {},
     "output_type": "execute_result"
    }
   ],
   "source": [
    "equallambda = lambda *x : x.count(max (x, key=x.count)) if x.count(max (x, key=x.count)) >1 else 0\n",
    "equallambda (1,2,3,4,5,6,7,8,9)"
   ]
  },
  {
   "cell_type": "code",
   "execution_count": null,
   "id": "aa846de5",
   "metadata": {},
   "outputs": [],
   "source": []
  }
 ],
 "metadata": {
  "kernelspec": {
   "display_name": "Python 3 (ipykernel)",
   "language": "python",
   "name": "python3"
  },
  "language_info": {
   "codemirror_mode": {
    "name": "ipython",
    "version": 3
   },
   "file_extension": ".py",
   "mimetype": "text/x-python",
   "name": "python",
   "nbconvert_exporter": "python",
   "pygments_lexer": "ipython3",
   "version": "3.10.1"
  }
 },
 "nbformat": 4,
 "nbformat_minor": 5
}
