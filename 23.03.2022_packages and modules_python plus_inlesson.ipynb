{
 "cells": [
  {
   "cell_type": "markdown",
   "id": "9b6eecca",
   "metadata": {},
   "source": [
    "# MODULES&PACKAGES\n",
    "1. Yapılan tüm işler package ve moduller ile yapılacak, kütüphanelerden import edilerek kullanılacaktır. Package lar apayrı python gibi.\n",
    "2. Python kodları py uzantılı dosyada çalışır.py uzantılı dosya Jupyter notebook da çalışmıyor.\n",
    "3. bir txt dosyasında kodu yazdın, sonra py koda çevirdin. Bunu vision studio kod da yapabilirsin.\n",
    "4. jupyter her hücresi python dosyası gibidir. Sonsuz sayıda .py dosyası çalışaıtıyor gibiyiz. her bir hücrede py dosyası oluşturyor ve çalıştırıyor.\n",
    "5. py dosyasını import edip kullanıytorsan \"MODUL\" denir. Script \n",
    "6. If you open and use this file (with a .py extension) directly, that is script, and If you load (import) this file (with a .py extension) and call any function from it, that's a module this time.\n",
    "7. Packages klasör içerisinde klasörür. Package kütüphanedir aslında. package-alt_package_python_files\n",
    "8. /* Math module -- standard C math library functions,\n",
    "9. ilk çıkışta built_in function lar C dili ile yazılmış,\n",
    "10. python geliştikçe Python ile yazılmıştır.\n",
    "11. built_in function ayrı built_in module ayrı..\n",
    "12. her satırda başka bir modul import etmelisin\n"
   ]
  },
  {
   "cell_type": "markdown",
   "id": "5c88c417",
   "metadata": {},
   "source": [
    "import my_module as mym \n",
    "mym.my_function()\n",
    "print(mym.my_variable)\n",
    "\n",
    "from my_module import my_function #sadece bir fonkisyou import etmek istiyorum.\n"
   ]
  },
  {
   "cell_type": "code",
   "execution_count": 2,
   "id": "7d1ee082",
   "metadata": {},
   "outputs": [],
   "source": [
    "import math"
   ]
  },
  {
   "cell_type": "code",
   "execution_count": 7,
   "id": "72dc33e7",
   "metadata": {},
   "outputs": [
    {
     "name": "stdout",
     "output_type": "stream",
     "text": [
      "['__doc__', '__file__', '__loader__', '__name__', '__package__', '__spec__', 'acos', 'acosh', 'asin', 'asinh', 'atan', 'atan2', 'atanh', 'ceil', 'comb', 'copysign', 'cos', 'cosh', 'degrees', 'dist', 'e', 'erf', 'erfc', 'exp', 'expm1', 'fabs', 'factorial', 'floor', 'fmod', 'frexp', 'fsum', 'gamma', 'gcd', 'hypot', 'inf', 'isclose', 'isfinite', 'isinf', 'isnan', 'isqrt', 'lcm', 'ldexp', 'lgamma', 'log', 'log10', 'log1p', 'log2', 'modf', 'nan', 'nextafter', 'perm', 'pi', 'pow', 'prod', 'radians', 'remainder', 'sin', 'sinh', 'sqrt', 'tan', 'tanh', 'tau', 'trunc', 'ulp']\n"
     ]
    }
   ],
   "source": [
    "print(dir(math))"
   ]
  },
  {
   "cell_type": "code",
   "execution_count": 8,
   "id": "0fb51af5",
   "metadata": {},
   "outputs": [
    {
     "name": "stdout",
     "output_type": "stream",
     "text": [
      "ModuleSpec(name='math', loader=<_frozen_importlib_external.ExtensionFileLoader object at 0x1031c29b0>, origin='/Library/Frameworks/Python.framework/Versions/3.10/lib/python3.10/lib-dynload/math.cpython-310-darwin.so')\n"
     ]
    }
   ],
   "source": [
    "print(math.__spec__)"
   ]
  },
  {
   "cell_type": "code",
   "execution_count": 10,
   "id": "231d4f7b",
   "metadata": {},
   "outputs": [
    {
     "name": "stdout",
     "output_type": "stream",
     "text": [
      "math\n"
     ]
    }
   ],
   "source": [
    "print(math.__name__)"
   ]
  },
  {
   "cell_type": "code",
   "execution_count": 16,
   "id": "3d5d3d2e",
   "metadata": {},
   "outputs": [
    {
     "data": {
      "text/plain": [
       "3.0"
      ]
     },
     "execution_count": 16,
     "metadata": {},
     "output_type": "execute_result"
    }
   ],
   "source": [
    "math.log10(1000)"
   ]
  },
  {
   "cell_type": "code",
   "execution_count": 17,
   "id": "29525ccb",
   "metadata": {},
   "outputs": [
    {
     "data": {
      "text/plain": [
       "24"
      ]
     },
     "execution_count": 17,
     "metadata": {},
     "output_type": "execute_result"
    }
   ],
   "source": [
    "math.factorial(4)"
   ]
  },
  {
   "cell_type": "code",
   "execution_count": 21,
   "id": "6c37e1a2",
   "metadata": {},
   "outputs": [
    {
     "data": {
      "text/plain": [
       "3.141592653589793"
      ]
     },
     "execution_count": 21,
     "metadata": {},
     "output_type": "execute_result"
    }
   ],
   "source": [
    "math.pi"
   ]
  },
  {
   "cell_type": "code",
   "execution_count": 22,
   "id": "b95f2484",
   "metadata": {},
   "outputs": [],
   "source": [
    "from math import pi, factorial, log10"
   ]
  },
  {
   "cell_type": "code",
   "execution_count": 23,
   "id": "89898574",
   "metadata": {},
   "outputs": [
    {
     "data": {
      "text/plain": [
       "3.141592653589793"
      ]
     },
     "execution_count": 23,
     "metadata": {},
     "output_type": "execute_result"
    }
   ],
   "source": [
    "pi"
   ]
  },
  {
   "cell_type": "code",
   "execution_count": 24,
   "id": "e8a26bf2",
   "metadata": {},
   "outputs": [
    {
     "data": {
      "text/plain": [
       "24"
      ]
     },
     "execution_count": 24,
     "metadata": {},
     "output_type": "execute_result"
    }
   ],
   "source": [
    "factorial(4)"
   ]
  },
  {
   "cell_type": "code",
   "execution_count": 25,
   "id": "c2fe4e4f",
   "metadata": {},
   "outputs": [
    {
     "data": {
      "text/plain": [
       "3.0"
      ]
     },
     "execution_count": 25,
     "metadata": {},
     "output_type": "execute_result"
    }
   ],
   "source": [
    "log10(1000)"
   ]
  },
  {
   "cell_type": "code",
   "execution_count": 37,
   "id": "03f3443a",
   "metadata": {},
   "outputs": [
    {
     "name": "stdout",
     "output_type": "stream",
     "text": [
      "1\n"
     ]
    }
   ],
   "source": [
    "fact=1\n",
    "for i in range(0):\n",
    "    fact += fact*i\n",
    "print(fact)"
   ]
  },
  {
   "cell_type": "code",
   "execution_count": null,
   "id": "4dcdd3ec",
   "metadata": {},
   "outputs": [],
   "source": [
    "def my_fact(n):\n",
    "    if n==0 or n==1:\n",
    "        return 1\n",
    "    else:\n",
    "        return n*my_fact(n-1)"
   ]
  },
  {
   "cell_type": "code",
   "execution_count": 48,
   "id": "eaeb0968",
   "metadata": {},
   "outputs": [],
   "source": [
    "def my_fact2(n):\n",
    "    return n * my_fact2(n-1)\n"
   ]
  },
  {
   "cell_type": "code",
   "execution_count": 49,
   "id": "3c1d5a5f",
   "metadata": {},
   "outputs": [
    {
     "ename": "RecursionError",
     "evalue": "maximum recursion depth exceeded",
     "output_type": "error",
     "traceback": [
      "\u001b[0;31m---------------------------------------------------------------------------\u001b[0m",
      "\u001b[0;31mRecursionError\u001b[0m                            Traceback (most recent call last)",
      "Input \u001b[0;32mIn [49]\u001b[0m, in \u001b[0;36m<module>\u001b[0;34m\u001b[0m\n\u001b[0;32m----> 1\u001b[0m \u001b[43mmy_fact2\u001b[49m\u001b[43m(\u001b[49m\u001b[38;5;241;43m5\u001b[39;49m\u001b[43m)\u001b[49m\n",
      "Input \u001b[0;32mIn [48]\u001b[0m, in \u001b[0;36mmy_fact2\u001b[0;34m(n)\u001b[0m\n\u001b[1;32m      1\u001b[0m \u001b[38;5;28;01mdef\u001b[39;00m \u001b[38;5;21mmy_fact2\u001b[39m(n):\n\u001b[0;32m----> 2\u001b[0m     \u001b[38;5;28;01mreturn\u001b[39;00m n \u001b[38;5;241m*\u001b[39m \u001b[43mmy_fact2\u001b[49m\u001b[43m(\u001b[49m\u001b[43mn\u001b[49m\u001b[38;5;241;43m-\u001b[39;49m\u001b[38;5;241;43m1\u001b[39;49m\u001b[43m)\u001b[49m\n",
      "Input \u001b[0;32mIn [48]\u001b[0m, in \u001b[0;36mmy_fact2\u001b[0;34m(n)\u001b[0m\n\u001b[1;32m      1\u001b[0m \u001b[38;5;28;01mdef\u001b[39;00m \u001b[38;5;21mmy_fact2\u001b[39m(n):\n\u001b[0;32m----> 2\u001b[0m     \u001b[38;5;28;01mreturn\u001b[39;00m n \u001b[38;5;241m*\u001b[39m \u001b[43mmy_fact2\u001b[49m\u001b[43m(\u001b[49m\u001b[43mn\u001b[49m\u001b[38;5;241;43m-\u001b[39;49m\u001b[38;5;241;43m1\u001b[39;49m\u001b[43m)\u001b[49m\n",
      "    \u001b[0;31m[... skipping similar frames: my_fact2 at line 2 (2970 times)]\u001b[0m\n",
      "Input \u001b[0;32mIn [48]\u001b[0m, in \u001b[0;36mmy_fact2\u001b[0;34m(n)\u001b[0m\n\u001b[1;32m      1\u001b[0m \u001b[38;5;28;01mdef\u001b[39;00m \u001b[38;5;21mmy_fact2\u001b[39m(n):\n\u001b[0;32m----> 2\u001b[0m     \u001b[38;5;28;01mreturn\u001b[39;00m n \u001b[38;5;241m*\u001b[39m \u001b[43mmy_fact2\u001b[49m\u001b[43m(\u001b[49m\u001b[43mn\u001b[49m\u001b[38;5;241;43m-\u001b[39;49m\u001b[38;5;241;43m1\u001b[39;49m\u001b[43m)\u001b[49m\n",
      "\u001b[0;31mRecursionError\u001b[0m: maximum recursion depth exceeded"
     ]
    }
   ],
   "source": [
    "my_fact2(5)"
   ]
  },
  {
   "cell_type": "code",
   "execution_count": null,
   "id": "015724ff",
   "metadata": {},
   "outputs": [],
   "source": [
    "import string as stg"
   ]
  },
  {
   "cell_type": "code",
   "execution_count": 50,
   "id": "1a826f9a",
   "metadata": {},
   "outputs": [
    {
     "ename": "NameError",
     "evalue": "name 'stg' is not defined",
     "output_type": "error",
     "traceback": [
      "\u001b[0;31m---------------------------------------------------------------------------\u001b[0m",
      "\u001b[0;31mNameError\u001b[0m                                 Traceback (most recent call last)",
      "Input \u001b[0;32mIn [50]\u001b[0m, in \u001b[0;36m<module>\u001b[0;34m\u001b[0m\n\u001b[0;32m----> 1\u001b[0m \u001b[38;5;28mprint\u001b[39m(\u001b[43mstg\u001b[49m\u001b[38;5;241m.\u001b[39mpunctuation)\n",
      "\u001b[0;31mNameError\u001b[0m: name 'stg' is not defined"
     ]
    }
   ],
   "source": [
    "print(stg.punctuation)"
   ]
  },
  {
   "cell_type": "code",
   "execution_count": 52,
   "id": "f7f005d2",
   "metadata": {},
   "outputs": [],
   "source": [
    "import datetime"
   ]
  },
  {
   "cell_type": "code",
   "execution_count": 53,
   "id": "2d173d02",
   "metadata": {},
   "outputs": [
    {
     "data": {
      "text/plain": [
       "['MAXYEAR',\n",
       " 'MINYEAR',\n",
       " '__all__',\n",
       " '__builtins__',\n",
       " '__cached__',\n",
       " '__doc__',\n",
       " '__file__',\n",
       " '__loader__',\n",
       " '__name__',\n",
       " '__package__',\n",
       " '__spec__',\n",
       " 'date',\n",
       " 'datetime',\n",
       " 'datetime_CAPI',\n",
       " 'sys',\n",
       " 'time',\n",
       " 'timedelta',\n",
       " 'timezone',\n",
       " 'tzinfo']"
      ]
     },
     "execution_count": 53,
     "metadata": {},
     "output_type": "execute_result"
    }
   ],
   "source": [
    "dir(datetime)"
   ]
  },
  {
   "cell_type": "code",
   "execution_count": 60,
   "id": "76e2ae15",
   "metadata": {},
   "outputs": [
    {
     "name": "stdout",
     "output_type": "stream",
     "text": [
      "2022-03-23\n"
     ]
    }
   ],
   "source": [
    "print(datetime.date.today())"
   ]
  },
  {
   "cell_type": "code",
   "execution_count": 62,
   "id": "6510d53c",
   "metadata": {},
   "outputs": [
    {
     "name": "stdout",
     "output_type": "stream",
     "text": [
      "2022-03-23 22:35:17.220166\n"
     ]
    }
   ],
   "source": [
    "print(datetime.datetime.now())"
   ]
  },
  {
   "cell_type": "code",
   "execution_count": 69,
   "id": "1520c3cc",
   "metadata": {},
   "outputs": [],
   "source": [
    "from datetime import date"
   ]
  },
  {
   "cell_type": "code",
   "execution_count": 70,
   "id": "c8213cea",
   "metadata": {},
   "outputs": [
    {
     "data": {
      "text/plain": [
       "22327"
      ]
     },
     "execution_count": 70,
     "metadata": {},
     "output_type": "execute_result"
    }
   ],
   "source": [
    "birth = date(571,4,22)\n",
    "death = date(632,6,8)\n",
    "date.toordinal(death)-date.toordinal(birth)"
   ]
  },
  {
   "cell_type": "code",
   "execution_count": null,
   "id": "846d0920",
   "metadata": {},
   "outputs": [],
   "source": [
    "birth = date(571,4,22)\n",
    "death = date(632,6,8)\n",
    "date-birth"
   ]
  },
  {
   "cell_type": "code",
   "execution_count": 73,
   "id": "32f2a1f6",
   "metadata": {},
   "outputs": [
    {
     "data": {
      "text/plain": [
       "14835"
      ]
     },
     "execution_count": 73,
     "metadata": {},
     "output_type": "execute_result"
    }
   ],
   "source": [
    "birth = date(1981,8,10)\n",
    "death = date(2022,3,23)\n",
    "date.toordinal(death)-date.toordinal(birth)"
   ]
  },
  {
   "cell_type": "code",
   "execution_count": 74,
   "id": "a8167616",
   "metadata": {},
   "outputs": [
    {
     "data": {
      "text/plain": [
       "14607"
      ]
     },
     "execution_count": 74,
     "metadata": {},
     "output_type": "execute_result"
    }
   ],
   "source": [
    "birth = date(1982,3,26)\n",
    "death = date(2022,3,23)\n",
    "date.toordinal(death)-date.toordinal(birth)"
   ]
  },
  {
   "cell_type": "code",
   "execution_count": 77,
   "id": "e49189eb",
   "metadata": {},
   "outputs": [
    {
     "data": {
      "text/plain": [
       "228"
      ]
     },
     "execution_count": 77,
     "metadata": {},
     "output_type": "execute_result"
    }
   ],
   "source": [
    "x= 14835-14607\n",
    "x"
   ]
  },
  {
   "cell_type": "code",
   "execution_count": 78,
   "id": "94aa6707",
   "metadata": {},
   "outputs": [
    {
     "data": {
      "text/plain": [
       "22872"
      ]
     },
     "execution_count": 78,
     "metadata": {},
     "output_type": "execute_result"
    }
   ],
   "source": [
    "birth = date(1959,8,9)\n",
    "death = date(2022,3,23)\n",
    "date.toordinal(death)-date.toordinal(birth)"
   ]
  },
  {
   "cell_type": "code",
   "execution_count": 79,
   "id": "624dbdf5",
   "metadata": {},
   "outputs": [
    {
     "data": {
      "text/plain": [
       "4130"
      ]
     },
     "execution_count": 79,
     "metadata": {},
     "output_type": "execute_result"
    }
   ],
   "source": [
    "birth = date(2010,12,1)\n",
    "death = date(2022,3,23)\n",
    "date.toordinal(death)-date.toordinal(birth)"
   ]
  },
  {
   "cell_type": "code",
   "execution_count": 80,
   "id": "8b0b7e8e",
   "metadata": {},
   "outputs": [
    {
     "data": {
      "text/plain": [
       "1144"
      ]
     },
     "execution_count": 80,
     "metadata": {},
     "output_type": "execute_result"
    }
   ],
   "source": [
    "birth = date(2019,2,3)\n",
    "death = date(2022,3,23)\n",
    "date.toordinal(death)-date.toordinal(birth)"
   ]
  },
  {
   "cell_type": "code",
   "execution_count": 81,
   "id": "e8da0f9e",
   "metadata": {},
   "outputs": [],
   "source": [
    "import random"
   ]
  },
  {
   "cell_type": "code",
   "execution_count": 86,
   "id": "475e6bc1",
   "metadata": {},
   "outputs": [
    {
     "data": {
      "text/plain": [
       "'Stockhom'"
      ]
     },
     "execution_count": 86,
     "metadata": {},
     "output_type": "execute_result"
    }
   ],
   "source": [
    "city=['Stockhom', 'İstanbul','Seul','Cape Town']\n",
    "random.choice(city)"
   ]
  },
  {
   "cell_type": "markdown",
   "id": "dbfde384",
   "metadata": {},
   "source": [
    "pip"
   ]
  },
  {
   "cell_type": "code",
   "execution_count": 88,
   "id": "9ee7f48a",
   "metadata": {},
   "outputs": [
    {
     "name": "stdout",
     "output_type": "stream",
     "text": [
      "pip 21.3.1 from /Library/Frameworks/Python.framework/Versions/3.10/lib/python3.10/site-packages/pip (python 3.10)\n",
      "Note: you may need to restart the kernel to use updated packages.\n"
     ]
    }
   ],
   "source": [
    "pip --version"
   ]
  },
  {
   "cell_type": "code",
   "execution_count": 93,
   "id": "b667767d",
   "metadata": {},
   "outputs": [
    {
     "ename": "ModuleNotFoundError",
     "evalue": "No module named 'numpy'",
     "output_type": "error",
     "traceback": [
      "\u001b[0;31m---------------------------------------------------------------------------\u001b[0m",
      "\u001b[0;31mModuleNotFoundError\u001b[0m                       Traceback (most recent call last)",
      "Input \u001b[0;32mIn [93]\u001b[0m, in \u001b[0;36m<module>\u001b[0;34m\u001b[0m\n\u001b[0;32m----> 1\u001b[0m \u001b[38;5;28;01mimport\u001b[39;00m \u001b[38;5;21;01mnumpy\u001b[39;00m\n",
      "\u001b[0;31mModuleNotFoundError\u001b[0m: No module named 'numpy'"
     ]
    }
   ],
   "source": [
    "import numpy"
   ]
  },
  {
   "cell_type": "code",
   "execution_count": 94,
   "id": "63b10eeb",
   "metadata": {},
   "outputs": [
    {
     "name": "stdout",
     "output_type": "stream",
     "text": [
      "Collecting numpy\n",
      "  Downloading numpy-1.22.3-cp310-cp310-macosx_11_0_arm64.whl (12.8 MB)\n",
      "     |████████████████████████████████| 12.8 MB 2.0 MB/s            \n",
      "\u001b[?25hInstalling collected packages: numpy\n",
      "Successfully installed numpy-1.22.3\n",
      "\u001b[33mWARNING: You are using pip version 21.3.1; however, version 22.0.4 is available.\n",
      "You should consider upgrading via the '/Library/Frameworks/Python.framework/Versions/3.10/bin/python3.10 -m pip install --upgrade pip' command.\u001b[0m\n",
      "Note: you may need to restart the kernel to use updated packages.\n"
     ]
    }
   ],
   "source": [
    "pip install numpy"
   ]
  },
  {
   "cell_type": "code",
   "execution_count": 95,
   "id": "91beff0b",
   "metadata": {},
   "outputs": [],
   "source": [
    "import numpy"
   ]
  },
  {
   "cell_type": "code",
   "execution_count": 96,
   "id": "34ceadd5",
   "metadata": {},
   "outputs": [
    {
     "name": "stdout",
     "output_type": "stream",
     "text": [
      "Package              Version\n",
      "-------------------- ---------\n",
      "appnope              0.1.2\n",
      "argon2-cffi          21.3.0\n",
      "argon2-cffi-bindings 21.2.0\n",
      "asttokens            2.0.5\n",
      "attrs                21.4.0\n",
      "backcall             0.2.0\n",
      "black                21.12b0\n",
      "bleach               4.1.0\n",
      "certifi              2021.10.8\n",
      "cffi                 1.15.0\n",
      "charset-normalizer   2.0.12\n",
      "click                8.0.3\n",
      "debugpy              1.5.1\n",
      "decorator            5.1.1\n",
      "defusedxml           0.7.1\n",
      "entrypoints          0.3\n",
      "executing            0.8.2\n",
      "idna                 3.3\n",
      "ipykernel            6.7.0\n",
      "ipython              8.0.0\n",
      "ipython-genutils     0.2.0\n",
      "ipywidgets           7.6.5\n",
      "jedi                 0.18.1\n",
      "Jinja2               3.0.3\n",
      "jsonschema           4.4.0\n",
      "jupyter              1.0.0\n",
      "jupyter-client       7.1.1\n",
      "jupyter-console      6.4.0\n",
      "jupyter-core         4.9.1\n",
      "jupyterlab-pygments  0.1.2\n",
      "jupyterlab-widgets   1.0.2\n",
      "kaggle               1.5.12\n",
      "MarkupSafe           2.0.1\n",
      "matplotlib-inline    0.1.3\n",
      "mistune              0.8.4\n",
      "mypy-extensions      0.4.3\n",
      "nbclient             0.5.10\n",
      "nbconvert            6.4.0\n",
      "nbformat             5.1.3\n",
      "nest-asyncio         1.5.4\n",
      "notebook             6.4.7\n",
      "numpy                1.22.3\n",
      "packaging            21.3\n",
      "pandocfilters        1.5.0\n",
      "parso                0.8.3\n",
      "pathspec             0.9.0\n",
      "pexpect              4.8.0\n",
      "pickleshare          0.7.5\n",
      "pip                  21.3.1\n",
      "platformdirs         2.4.1\n",
      "prometheus-client    0.12.0\n",
      "prompt-toolkit       3.0.24\n",
      "ptyprocess           0.7.0\n",
      "pure-eval            0.2.1\n",
      "pycparser            2.21\n",
      "Pygments             2.11.2\n",
      "pyparsing            3.0.6\n",
      "pyrsistent           0.18.1\n",
      "python-dateutil      2.8.2\n",
      "python-slugify       6.1.1\n",
      "pyzmq                22.3.0\n",
      "qtconsole            5.2.2\n",
      "QtPy                 2.0.0\n",
      "requests             2.27.1\n",
      "Send2Trash           1.8.0\n",
      "setuptools           58.1.0\n",
      "six                  1.16.0\n",
      "stack-data           0.1.4\n",
      "terminado            0.12.1\n",
      "testpath             0.5.0\n",
      "text-unidecode       1.3\n",
      "tomli                1.2.3\n",
      "tornado              6.1\n",
      "tqdm                 4.63.0\n",
      "traitlets            5.1.1\n",
      "typing_extensions    4.0.1\n",
      "urllib3              1.26.9\n",
      "wcwidth              0.2.5\n",
      "webencodings         0.5.1\n",
      "widgetsnbextension   3.5.2\n",
      "\u001b[33mWARNING: You are using pip version 21.3.1; however, version 22.0.4 is available.\n",
      "You should consider upgrading via the '/Library/Frameworks/Python.framework/Versions/3.10/bin/python3.10 -m pip install --upgrade pip' command.\u001b[0m\n",
      "Note: you may need to restart the kernel to use updated packages.\n"
     ]
    }
   ],
   "source": [
    "pip list"
   ]
  },
  {
   "cell_type": "code",
   "execution_count": 11,
   "id": "27183a4a",
   "metadata": {},
   "outputs": [
    {
     "name": "stdout",
     "output_type": "stream",
     "text": [
      "num:22\n",
      "lower the number\n",
      "new_num:33\n",
      "lower the number\n",
      "new_num:20\n",
      "increase the number\n",
      "new_num:21\n",
      "You are awesome\n",
      "You are awesome\n",
      "your right is finished\n",
      "21\n"
     ]
    }
   ],
   "source": [
    "import random\n",
    "n = random.randint (0,100)\n",
    "i = 0\n",
    "num= int(input('num:'))\n",
    "i=0\n",
    "for i in range (5):\n",
    "    if num < n:\n",
    "        print('increase the number')\n",
    "        num = int(input('new_num:'))\n",
    "    elif num > n:\n",
    "        print('lower the number')\n",
    "        num = int(input('new_num:'))\n",
    "    elif num == n:\n",
    "        print('You are awesome')\n",
    "    i+=1\n",
    "print('your right is finished')\n",
    "print (n)"
   ]
  },
  {
   "cell_type": "code",
   "execution_count": null,
   "id": "98e59364",
   "metadata": {},
   "outputs": [],
   "source": []
  }
 ],
 "metadata": {
  "kernelspec": {
   "display_name": "Python 3 (ipykernel)",
   "language": "python",
   "name": "python3"
  },
  "language_info": {
   "codemirror_mode": {
    "name": "ipython",
    "version": 3
   },
   "file_extension": ".py",
   "mimetype": "text/x-python",
   "name": "python",
   "nbconvert_exporter": "python",
   "pygments_lexer": "ipython3",
   "version": "3.10.1"
  }
 },
 "nbformat": 4,
 "nbformat_minor": 5
}
