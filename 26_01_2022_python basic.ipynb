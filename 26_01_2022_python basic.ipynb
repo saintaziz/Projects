{
 "cells": [
  {
   "cell_type": "code",
   "execution_count": 1,
   "id": "79580b25",
   "metadata": {},
   "outputs": [
    {
     "name": "stdout",
     "output_type": "stream",
     "text": [
      "I will have started a new job in 6 months\n"
     ]
    }
   ],
   "source": [
    "print (\"{6} {5} {0} {1} {3} {4} {2}\".format (\"a new\", \"job\", \"months\",\"in\", 6, \"have started\", \"I will\"))"
   ]
  },
  {
   "cell_type": "code",
   "execution_count": 3,
   "id": "1bf9e142",
   "metadata": {},
   "outputs": [
    {
     "name": "stdout",
     "output_type": "stream",
     "text": [
      "generosity wins in all circumstances\n"
     ]
    }
   ],
   "source": [
    "phrase ='{2} {3} {1} {0}'.format (\"circumstances\", \"in all\", \"generosity\", \"wins\")\n",
    "print(phrase)"
   ]
  },
  {
   "cell_type": "code",
   "execution_count": 4,
   "id": "c5ade0ac",
   "metadata": {},
   "outputs": [
    {
     "name": "stdout",
     "output_type": "stream",
     "text": [
      "fruit\n"
     ]
    }
   ],
   "source": [
    "fruit = 'orange'\n",
    "vegetable = 'tomato'\n",
    "amaount = 62\n",
    "output = print ('fruit')"
   ]
  },
  {
   "cell_type": "code",
   "execution_count": 10,
   "id": "9357f75d",
   "metadata": {},
   "outputs": [
    {
     "name": "stdout",
     "output_type": "stream",
     "text": [
      "my name is Mariam\n"
     ]
    }
   ],
   "source": [
    "name = \"MARIAM\"\n",
    "output = f\"my name is {name.capitalize()}\"\n",
    "print(output)\n"
   ]
  },
  {
   "cell_type": "code",
   "execution_count": 18,
   "id": "520147fe",
   "metadata": {},
   "outputs": [
    {
     "ename": "SyntaxError",
     "evalue": "f-string: invalid syntax (3191669453.py, line 4)",
     "output_type": "error",
     "traceback": [
      "\u001b[0;36m  Input \u001b[0;32mIn [18]\u001b[0;36m\u001b[0m\n\u001b[0;31m    message = f\" Hi {name.}. \\\u001b[0m\n\u001b[0m          ^\u001b[0m\n\u001b[0;31mSyntaxError\u001b[0m\u001b[0;31m:\u001b[0m f-string: invalid syntax\n"
     ]
    }
   ],
   "source": [
    "name = \"Aziz\"\n",
    "job = \"student\"\n",
    "domain = \"Data Science\"\n",
    "message = f\" Hi {name.}. \\\n",
    "You are one of {job} \\\n",
    "in the {domain} section.\"\n",
    "print(message)"
   ]
  },
  {
   "cell_type": "code",
   "execution_count": 22,
   "id": "d8af8716",
   "metadata": {},
   "outputs": [
    {
     "name": "stdout",
     "output_type": "stream",
     "text": [
      "susan is younglady and she is a studentat the CLRWY IT university.\n"
     ]
    }
   ],
   "source": [
    "name = \"susan\"\n",
    "age = \"young\"\n",
    "gender = \"lady\"\n",
    "school = \"CLRWY IT university\"\n",
    "OUTPUT = (\n",
    "f\"{name} is {age}\"\n",
    "   f\"{gender} and she is a student\"\n",
    "    f\"at the {school}.\")\n",
    "print (OUTPUT)"
   ]
  },
  {
   "cell_type": "code",
   "execution_count": 25,
   "id": "c7a9a439",
   "metadata": {},
   "outputs": [
    {
     "name": "stdout",
     "output_type": "stream",
     "text": [
      "clarusway\n",
      "Clarusway\n",
      "clarusway\n"
     ]
    }
   ],
   "source": [
    "var_string = 'Clarusway'\n",
    "print (var_string.lower())\n",
    "print (var_string)\n",
    "var_string = 'Clarusway'.lower()\n",
    "print(var_string)"
   ]
  },
  {
   "cell_type": "code",
   "execution_count": 26,
   "id": "e4725867",
   "metadata": {},
   "outputs": [
    {
     "data": {
      "text/plain": [
       "'ali̇ VELI'"
      ]
     },
     "execution_count": 26,
     "metadata": {},
     "output_type": "execute_result"
    }
   ],
   "source": [
    "isim=\"ALİ veli\"\n",
    "isim.swapcase()"
   ]
  },
  {
   "cell_type": "code",
   "execution_count": 27,
   "id": "39b76e9c",
   "metadata": {},
   "outputs": [
    {
     "data": {
      "text/plain": [
       "'ali̇ VELI'"
      ]
     },
     "execution_count": 27,
     "metadata": {},
     "output_type": "execute_result"
    }
   ],
   "source": [
    "isim=isim.swapcase()\n",
    "isim"
   ]
  },
  {
   "cell_type": "code",
   "execution_count": 28,
   "id": "8da76b8d",
   "metadata": {},
   "outputs": [
    {
     "name": "stdout",
     "output_type": "stream",
     "text": [
      "In God we Trust\n"
     ]
    }
   ],
   "source": [
    "var_str = 'In God we Trust'\n",
    "var_str.lower()\n",
    "print(var_str)"
   ]
  },
  {
   "cell_type": "code",
   "execution_count": 30,
   "id": "69850e6c",
   "metadata": {},
   "outputs": [
    {
     "name": "stdout",
     "output_type": "stream",
     "text": [
      "True\n",
      "False\n"
     ]
    }
   ],
   "source": [
    "text ='www.clarusway.com'\n",
    "print(text.endswith('.com'))\n",
    "print (text.startswith('http:'))"
   ]
  },
  {
   "cell_type": "code",
   "execution_count": 32,
   "id": "50f63edf",
   "metadata": {},
   "outputs": [
    {
     "name": "stdout",
     "output_type": "stream",
     "text": [
      "clarusway\n"
     ]
    }
   ],
   "source": [
    "text = \"Clarusway\"\n",
    "print (text.replace(\"C\", \"c\"))"
   ]
  },
  {
   "cell_type": "code",
   "execution_count": 33,
   "id": "8621358a",
   "metadata": {},
   "outputs": [
    {
     "data": {
      "text/plain": [
       "'Clarusway'"
      ]
     },
     "execution_count": 33,
     "metadata": {},
     "output_type": "execute_result"
    }
   ],
   "source": [
    "text"
   ]
  },
  {
   "cell_type": "code",
   "execution_count": 34,
   "id": "e8a57b26",
   "metadata": {},
   "outputs": [
    {
     "name": "stdout",
     "output_type": "stream",
     "text": [
      "Cl**rusw**y\n"
     ]
    }
   ],
   "source": [
    "print (text.replace(\"a\", \"**\"))"
   ]
  },
  {
   "cell_type": "code",
   "execution_count": 35,
   "id": "362f440e",
   "metadata": {},
   "outputs": [
    {
     "data": {
      "text/plain": [
       "str"
      ]
     },
     "execution_count": 35,
     "metadata": {},
     "output_type": "execute_result"
    }
   ],
   "source": [
    "type(text.replace(\"a\", \"**\"))"
   ]
  },
  {
   "cell_type": "code",
   "execution_count": 36,
   "id": "84d66719",
   "metadata": {},
   "outputs": [
    {
     "data": {
      "text/plain": [
       "'Clarusway'"
      ]
     },
     "execution_count": 36,
     "metadata": {},
     "output_type": "execute_result"
    }
   ],
   "source": [
    "text = \"Clarusway\"\n",
    "text"
   ]
  },
  {
   "cell_type": "code",
   "execution_count": 38,
   "id": "afba1c3b",
   "metadata": {},
   "outputs": [
    {
     "data": {
      "text/plain": [
       "'CL--RUW--Y'"
      ]
     },
     "execution_count": 38,
     "metadata": {},
     "output_type": "execute_result"
    }
   ],
   "source": [
    "text.replace (\"a\", \"--\").replace(\"s\", \"\").upper()"
   ]
  },
  {
   "cell_type": "code",
   "execution_count": 39,
   "id": "084761bf",
   "metadata": {},
   "outputs": [
    {
     "name": "stdout",
     "output_type": "stream",
     "text": [
      "I Am He Man\n"
     ]
    }
   ],
   "source": [
    "text = 'ı am he man'\n",
    "text = text.title()\n",
    "print (text)"
   ]
  },
  {
   "cell_type": "code",
   "execution_count": 40,
   "id": "a1829036",
   "metadata": {},
   "outputs": [
    {
     "data": {
      "text/plain": [
       "'Sodome and Gomore'"
      ]
     },
     "execution_count": 40,
     "metadata": {},
     "output_type": "execute_result"
    }
   ],
   "source": [
    "text = 'S0dome and G0m0re'\n",
    "new_text = text.replace (\"0\", \"o\")\n",
    "new_text"
   ]
  },
  {
   "cell_type": "code",
   "execution_count": 41,
   "id": "9e2e39b9",
   "metadata": {},
   "outputs": [
    {
     "name": "stdout",
     "output_type": "stream",
     "text": [
      "nteroperabilit\n"
     ]
    }
   ],
   "source": [
    "string = \"interoperability\"\n",
    "print (string.strip(\"yi\"))"
   ]
  },
  {
   "cell_type": "code",
   "execution_count": 44,
   "id": "61659972",
   "metadata": {},
   "outputs": [
    {
     "name": "stdout",
     "output_type": "stream",
     "text": [
      "s0DOME AND g0M0RE\n"
     ]
    }
   ],
   "source": [
    "print (text.rstrip( \"z\").lstrip (\"t\").swapcase())"
   ]
  },
  {
   "cell_type": "code",
   "execution_count": 48,
   "id": "287fd4dd",
   "metadata": {},
   "outputs": [
    {
     "name": "stdout",
     "output_type": "stream",
     "text": [
      "YOU LEARN ALMOST EVER IN PRE-CLASS\n"
     ]
    }
   ],
   "source": [
    "text ='zyou learn almost ever in pre-classt'\n",
    "text = text.lstrip(\"z\").rstrip (\"t\").swapcase()\n",
    "print (text)"
   ]
  },
  {
   "cell_type": "code",
   "execution_count": null,
   "id": "68db830e",
   "metadata": {},
   "outputs": [],
   "source": []
  }
 ],
 "metadata": {
  "kernelspec": {
   "display_name": "Python 3 (ipykernel)",
   "language": "python",
   "name": "python3"
  },
  "language_info": {
   "codemirror_mode": {
    "name": "ipython",
    "version": 3
   },
   "file_extension": ".py",
   "mimetype": "text/x-python",
   "name": "python",
   "nbconvert_exporter": "python",
   "pygments_lexer": "ipython3",
   "version": "3.10.1"
  }
 },
 "nbformat": 4,
 "nbformat_minor": 5
}
