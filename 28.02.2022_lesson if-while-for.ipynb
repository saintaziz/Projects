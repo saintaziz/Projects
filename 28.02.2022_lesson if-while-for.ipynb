{
 "cells": [
  {
   "cell_type": "code",
   "execution_count": 2,
   "id": "63373a45",
   "metadata": {},
   "outputs": [
    {
     "name": "stdout",
     "output_type": "stream",
     "text": [
      "Minute : 53.\n",
      "This is odd minute\n"
     ]
    }
   ],
   "source": [
    "minute = 53\n",
    "if minute%2 ==1:\n",
    "    print(f\"Minute : {minute}.\")\n",
    "    print('This is odd minute')"
   ]
  },
  {
   "cell_type": "code",
   "execution_count": 7,
   "id": "044b5291",
   "metadata": {},
   "outputs": [
    {
     "name": "stdout",
     "output_type": "stream",
     "text": [
      "Enter todaysunday\n",
      "rest rest rest\n"
     ]
    }
   ],
   "source": [
    "day = input ('Enter today')\n",
    "\n",
    "if day == 'monday' or day =='tuesday' or day=='wednesday' or day=='thursday' or day == 'friday':\n",
    "    print('work work work!')\n",
    "elif day == 'saturday':\n",
    "    print('party')\n",
    "else:\n",
    "    print('rest rest rest')"
   ]
  },
  {
   "cell_type": "code",
   "execution_count": 13,
   "id": "2897756c",
   "metadata": {},
   "outputs": [
    {
     "name": "stdout",
     "output_type": "stream",
     "text": [
      "2002,2009,2016,2023,2030,2037,2044,2051,2058,2065,2072,2079,2086,2093,2100,2107,2114,2121,2128,2135,2142,2149,2156,2163,2170,2177,2184,2191,2198,2205,2212,2219,2226,2233,2240,2247,2254,2261,2268,2275,2282,2289,2296,2303,2310,2317,2324,2331,2338,2345,2352,2359,2366,2373,2380,2387,2394,2401,2408,2415,2422,2429,2436,2443,2450,2457,2464,2471,2478,2485,2492,2499,2506,2513,2520,2527,2534,2541,2548,2555,2562,2569,2576,2583,2590,2597,2604,2611,2618,2625,2632,2639,2646,2653,2660,2667,2674,2681,2688,2695,2702,2709,2716,2723,2730,2737,2744,2751,2758,2765,2772,2779,2786,2793,2800,2807,2814,2821,2828,2835,2842,2849,2856,2863,2870,2877,2884,2891,2898,2905,2912,2919,2926,2933,2940,2947,2954,2961,2968,2975,2982,2989,2996,3003,3010,3017,3024,3031,3038,3045,3052,3059,3066,3073,3080,3087,3094,3101,3108,3115,3122,3129,3136,3143,3150,3157,3164,3171,3178,3185,3192,3199,"
     ]
    }
   ],
   "source": [
    "for i in range (2000, 3201):\n",
    "    if i%7 ==0:\n",
    "        print(i, end=',')"
   ]
  },
  {
   "cell_type": "code",
   "execution_count": 17,
   "id": "e51eebfd",
   "metadata": {},
   "outputs": [
    {
     "name": "stdout",
     "output_type": "stream",
     "text": [
      "enter number100\n",
      "100!= 93326215443944152681699238856266700490715968264381621468592963895217599993229915608941463976156518286253697920827223758251185210916864000000000000000000000000\n"
     ]
    }
   ],
   "source": [
    "num =int(input('enter number'))\n",
    "fact =1;\n",
    "for i in range(1, num+1):\n",
    "    fact = fact*i;\n",
    "print(\"{}!=\".format(num),fact)\n"
   ]
  },
  {
   "cell_type": "code",
   "execution_count": 20,
   "id": "0d123e36",
   "metadata": {},
   "outputs": [
    {
     "name": "stdout",
     "output_type": "stream",
     "text": [
      "Enter a number:8\n",
      "{1: 1, 2: 4, 3: 9, 4: 16, 5: 25, 6: 36, 7: 49, 8: 64}\n"
     ]
    }
   ],
   "source": [
    "num = int(input('Enter a number:'))\n",
    "dict1 = {}\n",
    "for i in range (1, num+1):\n",
    "    dict2 = {i:i**2}\n",
    "    dict1.update(dict2)\n",
    "print(dict1)"
   ]
  },
  {
   "cell_type": "code",
   "execution_count": 26,
   "id": "7467e264",
   "metadata": {},
   "outputs": [
    {
     "name": "stdout",
     "output_type": "stream",
     "text": [
      "age-44\n",
      "you entered incorrectly\n",
      "age80\n",
      "great\n"
     ]
    }
   ],
   "source": [
    "age = input('age')\n",
    "while not age.isdigit():\n",
    "    print('you entered incorrectly')\n",
    "    age = input ('age')\n",
    "print('great')"
   ]
  },
  {
   "cell_type": "code",
   "execution_count": 25,
   "id": "93196226",
   "metadata": {},
   "outputs": [
    {
     "data": {
      "text/plain": [
       "True"
      ]
     },
     "execution_count": 25,
     "metadata": {},
     "output_type": "execute_result"
    }
   ],
   "source": [
    "'42'.isdigit()"
   ]
  },
  {
   "cell_type": "code",
   "execution_count": 31,
   "id": "2d4c1306",
   "metadata": {},
   "outputs": [
    {
     "name": "stdout",
     "output_type": "stream",
     "text": [
      "Lets start\n",
      "enter22\n",
      "are you a mindreader\n"
     ]
    }
   ],
   "source": [
    "answer = 22\n",
    "print ('Lets start')\n",
    "while True :\n",
    "    guess = int(input('enter'))\n",
    "    if guess < answer:\n",
    "        print ('higher')\n",
    "    elif guess > answer:\n",
    "        print('lower')\n",
    "    else :\n",
    "        print('are you a mindreader')\n",
    "        break"
   ]
  },
  {
   "cell_type": "code",
   "execution_count": 42,
   "id": "fcd47c3e",
   "metadata": {},
   "outputs": [
    {
     "name": "stdout",
     "output_type": "stream",
     "text": [
      "the lenght of longest is 9\n"
     ]
    }
   ],
   "source": [
    "sentence = 'The best course is Clarusway'\n",
    "word_list = sentence.split()\n",
    "longest = 0\n",
    "i=0\n",
    "\n",
    "while i < len(word_list):\n",
    "    if len(word_list[i])>longest:\n",
    "        longest = len(word_list[i])\n",
    "    i+=1\n",
    "print ('the lenght of longest is', longest)"
   ]
  },
  {
   "cell_type": "code",
   "execution_count": 47,
   "id": "9d909421",
   "metadata": {},
   "outputs": [
    {
     "name": "stdout",
     "output_type": "stream",
     "text": [
      "Hello A\n",
      "Hello Ai\n",
      "Hello Ad\n",
      "Hello J\n",
      "Hello S\n"
     ]
    }
   ],
   "source": [
    "names = [\"A\", \"Ai\", 'Ad','J','S']\n",
    "for i in names:\n",
    "    print('Hello',i)"
   ]
  },
  {
   "cell_type": "code",
   "execution_count": 53,
   "id": "e96d4fd9",
   "metadata": {},
   "outputs": [
    {
     "data": {
      "text/plain": [
       "[1, 2, 3, 4, 5]"
      ]
     },
     "execution_count": 53,
     "metadata": {},
     "output_type": "execute_result"
    }
   ],
   "source": [
    "x = list(range (1,6))\n",
    "x"
   ]
  },
  {
   "cell_type": "code",
   "execution_count": 56,
   "id": "87507f9f",
   "metadata": {
    "scrolled": true
   },
   "outputs": [
    {
     "name": "stdout",
     "output_type": "stream",
     "text": [
      "[1]\n",
      "[1, 2]\n",
      "[1, 2, 3]\n",
      "[1, 2, 3, 4]\n",
      "[1, 2, 3, 4, 5]\n"
     ]
    }
   ],
   "source": [
    "numbers =[]\n",
    "for i in range(1,6):\n",
    "    numbers.append(i)\n",
    "    print(numbers)"
   ]
  },
  {
   "cell_type": "code",
   "execution_count": 84,
   "id": "c278c377",
   "metadata": {},
   "outputs": [
    {
     "ename": "SyntaxError",
     "evalue": "unterminated string literal (detected at line 3) (3551234688.py, line 3)",
     "output_type": "error",
     "traceback": [
      "\u001b[0;36m  Input \u001b[0;32mIn [84]\u001b[0;36m\u001b[0m\n\u001b[0;31m    print(i, end='-','b\\')\u001b[0m\n\u001b[0m                     ^\u001b[0m\n\u001b[0;31mSyntaxError\u001b[0m\u001b[0;31m:\u001b[0m unterminated string literal (detected at line 3)\n"
     ]
    }
   ],
   "source": [
    "sentence = \"Clarusway\"\n",
    "for i in sentence:\n",
    "    print(i, end='-','b\\')"
   ]
  },
  {
   "cell_type": "code",
   "execution_count": 86,
   "id": "ab6dfaf4",
   "metadata": {},
   "outputs": [
    {
     "name": "stdout",
     "output_type": "stream",
     "text": [
      "give a wordclarusway\n",
      "c- l- a- r- u- s- w- a- y "
     ]
    }
   ],
   "source": [
    "word =input('give a word')\n",
    "counter = 0\n",
    "for i in word:\n",
    "    counter +=1\n",
    "    if counter < len(word):\n",
    "        i+='-'\n",
    "    print (i, end=\" \")"
   ]
  },
  {
   "cell_type": "code",
   "execution_count": 100,
   "id": "d507abd6",
   "metadata": {},
   "outputs": [
    {
     "name": "stdout",
     "output_type": "stream",
     "text": [
      "The longest one is 3\n",
      "The longest one is 4\n",
      "The longest one is 6\n",
      "The longest one is 6\n",
      "The longest one is 9\n"
     ]
    }
   ],
   "source": [
    "sentence = 'The best course is Clarusway'\n",
    "x =sentence.split()\n",
    "longest = 0\n",
    "i=0\n",
    "\n",
    "while i < len(x):\n",
    "    if len(x[i])>longest:\n",
    "        longest = len(x[i])\n",
    "    i+=1\n",
    "    print ('The longest one is', longest)"
   ]
  },
  {
   "cell_type": "code",
   "execution_count": 102,
   "id": "caac9b8d",
   "metadata": {},
   "outputs": [
    {
     "name": "stdout",
     "output_type": "stream",
     "text": [
      "the lenght of longest is 9\n"
     ]
    }
   ],
   "source": [
    "sentence = 'The best course is Clarusway'\n",
    "word_list = sentence.split()\n",
    "longest = 0\n",
    "i=0\n",
    "\n",
    "while i < len(word_list):\n",
    "    if len(word_list[i])>longest:\n",
    "        longest = len(word_list[i])\n",
    "    i+=1\n",
    "print ('the lenght of longest is', longest)"
   ]
  },
  {
   "cell_type": "code",
   "execution_count": 112,
   "id": "5275cd09",
   "metadata": {},
   "outputs": [
    {
     "name": "stdout",
     "output_type": "stream",
     "text": [
      "your ageonr\n",
      "incorrect\n",
      "onr80\n",
      "correct\n"
     ]
    }
   ],
   "source": [
    "age = input('your age')\n",
    "\n",
    "while not age.isdigit():\n",
    "    print('incorrect')\n",
    "    age = input(age)\n",
    "print('correct')"
   ]
  },
  {
   "cell_type": "code",
   "execution_count": 122,
   "id": "d5ed7567",
   "metadata": {},
   "outputs": [
    {
     "name": "stdout",
     "output_type": "stream",
     "text": [
      "Lets start\n",
      "number24\n",
      "higher\n",
      "number28\n",
      "lower\n",
      "number26\n",
      "great\n"
     ]
    }
   ],
   "source": [
    "number = 26\n",
    "print('Lets start')\n",
    "while True:\n",
    "    guess = int(input('number'))\n",
    "    if guess < number:\n",
    "        print('higher')\n",
    "    elif guess >number:\n",
    "        print('lower')\n",
    "    else:\n",
    "        print('great')\n",
    "        break"
   ]
  },
  {
   "cell_type": "code",
   "execution_count": null,
   "id": "4e16a55c",
   "metadata": {},
   "outputs": [],
   "source": []
  }
 ],
 "metadata": {
  "kernelspec": {
   "display_name": "Python 3 (ipykernel)",
   "language": "python",
   "name": "python3"
  },
  "language_info": {
   "codemirror_mode": {
    "name": "ipython",
    "version": 3
   },
   "file_extension": ".py",
   "mimetype": "text/x-python",
   "name": "python",
   "nbconvert_exporter": "python",
   "pygments_lexer": "ipython3",
   "version": "3.10.1"
  }
 },
 "nbformat": 4,
 "nbformat_minor": 5
}
