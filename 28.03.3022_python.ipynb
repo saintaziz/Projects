{
 "cells": [
  {
   "cell_type": "markdown",
   "id": "51bf26e2",
   "metadata": {},
   "source": [
    "# show me my way please, bir robota yukarı-aşağı, sağa-sola komutu verme.\n",
    "\n",
    "x-y düzleminde hareket etme aşağıdaki hareketlerden sonra y=-10 oldu."
   ]
  },
  {
   "cell_type": "code",
   "execution_count": 3,
   "id": "ac4d4637",
   "metadata": {},
   "outputs": [
    {
     "data": {
      "text/plain": [
       "['right 20', 'right 30', 'left 50', 'up 10', 'down 20']"
      ]
     },
     "execution_count": 3,
     "metadata": {},
     "output_type": "execute_result"
    }
   ],
   "source": [
    "command = [\"right 20\", \"right 30\", \"left 50\", \"up 10\", \"down 20\"]\n",
    "command  # [x ,y]--- [0, -10]"
   ]
  },
  {
   "cell_type": "code",
   "execution_count": null,
   "id": "9cab230c",
   "metadata": {},
   "outputs": [],
   "source": [
    "x = y = 0"
   ]
  },
  {
   "cell_type": "code",
   "execution_count": 4,
   "id": "b6d86f0c",
   "metadata": {},
   "outputs": [
    {
     "data": {
      "text/plain": [
       "'down 20'"
      ]
     },
     "execution_count": 4,
     "metadata": {},
     "output_type": "execute_result"
    }
   ],
   "source": [
    "command[-1]"
   ]
  },
  {
   "cell_type": "code",
   "execution_count": 5,
   "id": "a1cc684c",
   "metadata": {},
   "outputs": [
    {
     "data": {
      "text/plain": [
       "['down', '20']"
      ]
     },
     "execution_count": 5,
     "metadata": {},
     "output_type": "execute_result"
    }
   ],
   "source": [
    "command[-1].split()"
   ]
  },
  {
   "cell_type": "code",
   "execution_count": 6,
   "id": "0650bcb1",
   "metadata": {},
   "outputs": [
    {
     "data": {
      "text/plain": [
       "'down'"
      ]
     },
     "execution_count": 6,
     "metadata": {},
     "output_type": "execute_result"
    }
   ],
   "source": [
    "command[-1].split()[0]"
   ]
  },
  {
   "cell_type": "code",
   "execution_count": 7,
   "id": "08d8ae7c",
   "metadata": {},
   "outputs": [
    {
     "data": {
      "text/plain": [
       "'20'"
      ]
     },
     "execution_count": 7,
     "metadata": {},
     "output_type": "execute_result"
    }
   ],
   "source": [
    "command[-1].split()[1]"
   ]
  },
  {
   "cell_type": "code",
   "execution_count": 15,
   "id": "7017471d",
   "metadata": {},
   "outputs": [
    {
     "data": {
      "text/plain": [
       "[0, -10]"
      ]
     },
     "execution_count": 15,
     "metadata": {},
     "output_type": "execute_result"
    }
   ],
   "source": [
    "x=0\n",
    "y=0\n",
    "for i in range (len(command)):\n",
    "    if command[i].startswith(\"r\"): x=x+ int(command[i].split()[1])\n",
    "    elif command[i].startswith(\"l\"): x=x- int(command[i].split()[1])\n",
    "    elif command[i].startswith(\"u\"): y=y+ int(command[i].split()[1])\n",
    "    elif command[i].startswith(\"d\"): y=y- int(command[i].split()[1])\n",
    "[x, y]"
   ]
  },
  {
   "cell_type": "markdown",
   "id": "420504c5",
   "metadata": {},
   "source": [
    "# VALID PARANTHESIS QUESTION\n",
    "    input = \"()[]{}\" Output=True"
   ]
  },
  {
   "cell_type": "code",
   "execution_count": null,
   "id": "b17e8263",
   "metadata": {},
   "outputs": [],
   "source": [
    "\"([{({})}]({}))\""
   ]
  },
  {
   "cell_type": "code",
   "execution_count": null,
   "id": "f32e82fe",
   "metadata": {},
   "outputs": [],
   "source": [
    "\"([{()}]())\""
   ]
  },
  {
   "cell_type": "code",
   "execution_count": null,
   "id": "ffd35b56",
   "metadata": {},
   "outputs": [],
   "source": [
    "\"([{}])\""
   ]
  },
  {
   "cell_type": "code",
   "execution_count": null,
   "id": "a074befb",
   "metadata": {},
   "outputs": [],
   "source": [
    "\"([])\""
   ]
  },
  {
   "cell_type": "code",
   "execution_count": null,
   "id": "4e7ff9fc",
   "metadata": {},
   "outputs": [],
   "source": [
    "\"()\""
   ]
  },
  {
   "cell_type": "code",
   "execution_count": null,
   "id": "40f14364",
   "metadata": {},
   "outputs": [],
   "source": [
    "\"\""
   ]
  },
  {
   "cell_type": "code",
   "execution_count": null,
   "id": "50b6d223",
   "metadata": {},
   "outputs": [],
   "source": [
    "\"([{({})}]({}))\""
   ]
  },
  {
   "cell_type": "code",
   "execution_count": 16,
   "id": "c0df4d3f",
   "metadata": {},
   "outputs": [
    {
     "data": {
      "text/plain": [
       "'ali+veli+deli'"
      ]
     },
     "execution_count": 16,
     "metadata": {},
     "output_type": "execute_result"
    }
   ],
   "source": [
    "x = \"([{({})}]({}))\"\n",
    "\"ali-veli-deli\".replace(\"-\", \"+\")"
   ]
  },
  {
   "cell_type": "code",
   "execution_count": 17,
   "id": "efb3297e",
   "metadata": {},
   "outputs": [
    {
     "data": {
      "text/plain": [
       "'alivelideli'"
      ]
     },
     "execution_count": 17,
     "metadata": {},
     "output_type": "execute_result"
    }
   ],
   "source": [
    "x = \"([{({})}]({}))\"\n",
    "\"ali-veli-deli\".replace(\"-\", \"\")"
   ]
  },
  {
   "cell_type": "code",
   "execution_count": 18,
   "id": "5b30ceac",
   "metadata": {},
   "outputs": [
    {
     "data": {
      "text/plain": [
       "'lveldel'"
      ]
     },
     "execution_count": 18,
     "metadata": {},
     "output_type": "execute_result"
    }
   ],
   "source": [
    "\"ali-veli-deli\".replace(\"-\", \"\").replace(\"a\",\"\").replace(\"i\",\"\")"
   ]
  },
  {
   "cell_type": "code",
   "execution_count": 21,
   "id": "2954ffbd",
   "metadata": {},
   "outputs": [],
   "source": [
    "def isValid(s):\n",
    "    while \"()\" in s or \"[]\"in s or \"{}\" in s :\n",
    "        s = s.replace(\"()\", \"\").replace(\"[]\",\"\").replace(\"{}\", \"\")\n",
    "    return s==\"\""
   ]
  },
  {
   "cell_type": "code",
   "execution_count": 22,
   "id": "c617aeb6",
   "metadata": {},
   "outputs": [
    {
     "data": {
      "text/plain": [
       "True"
      ]
     },
     "execution_count": 22,
     "metadata": {},
     "output_type": "execute_result"
    }
   ],
   "source": [
    "isValid(x)"
   ]
  },
  {
   "cell_type": "code",
   "execution_count": 23,
   "id": "3f20f8a7",
   "metadata": {},
   "outputs": [
    {
     "data": {
      "text/plain": [
       "True"
      ]
     },
     "execution_count": 23,
     "metadata": {},
     "output_type": "execute_result"
    }
   ],
   "source": [
    "y=\"([{({})}]({}))\"\n",
    "isValid(y)"
   ]
  },
  {
   "cell_type": "markdown",
   "id": "1c1f8814",
   "metadata": {},
   "source": [
    "# building a calculator using dict with lambda expression"
   ]
  },
  {
   "cell_type": "code",
   "execution_count": null,
   "id": "2859bfd4",
   "metadata": {},
   "outputs": [],
   "source": []
  },
  {
   "cell_type": "code",
   "execution_count": 24,
   "id": "4b98515b",
   "metadata": {},
   "outputs": [
    {
     "data": {
      "text/plain": [
       "9"
      ]
     },
     "execution_count": 24,
     "metadata": {},
     "output_type": "execute_result"
    }
   ],
   "source": [
    "(lambda x, y:x+y) (4,5)"
   ]
  },
  {
   "cell_type": "code",
   "execution_count": 34,
   "id": "f8df29d0",
   "metadata": {},
   "outputs": [],
   "source": [
    "sözlük = {\"bir\":44,\n",
    "          \"iki\":[\"ali\",\"veli\",\"deli\"]}"
   ]
  },
  {
   "cell_type": "code",
   "execution_count": 37,
   "id": "461e674b",
   "metadata": {},
   "outputs": [
    {
     "data": {
      "text/plain": [
       "44"
      ]
     },
     "execution_count": 37,
     "metadata": {},
     "output_type": "execute_result"
    }
   ],
   "source": [
    "sözlük[\"bir\"]"
   ]
  },
  {
   "cell_type": "code",
   "execution_count": 35,
   "id": "00181292",
   "metadata": {},
   "outputs": [
    {
     "data": {
      "text/plain": [
       "['ali', 'veli', 'deli']"
      ]
     },
     "execution_count": 35,
     "metadata": {},
     "output_type": "execute_result"
    }
   ],
   "source": [
    "sözlük[\"iki\"]"
   ]
  },
  {
   "cell_type": "code",
   "execution_count": 36,
   "id": "ebd2b6c6",
   "metadata": {},
   "outputs": [
    {
     "data": {
      "text/plain": [
       "list"
      ]
     },
     "execution_count": 36,
     "metadata": {},
     "output_type": "execute_result"
    }
   ],
   "source": [
    "type(sözlük[\"iki\"])"
   ]
  },
  {
   "cell_type": "code",
   "execution_count": 30,
   "id": "aa95a66f",
   "metadata": {},
   "outputs": [],
   "source": [
    "calculator = {\"x\": (lambda x,y : x+y),\n",
    "             \"-\": (lambda x,y : x-y),\n",
    "             \"*\": (lambda x,y : x*y),\n",
    "             \"/\": (lambda x,y : x/y),\n",
    "             }"
   ]
  },
  {
   "cell_type": "code",
   "execution_count": 31,
   "id": "604c300b",
   "metadata": {},
   "outputs": [
    {
     "data": {
      "text/plain": [
       "<function __main__.<lambda>(x, y)>"
      ]
     },
     "execution_count": 31,
     "metadata": {},
     "output_type": "execute_result"
    }
   ],
   "source": [
    "calculator[\"/\"]"
   ]
  },
  {
   "cell_type": "code",
   "execution_count": 32,
   "id": "4bdfb862",
   "metadata": {},
   "outputs": [
    {
     "data": {
      "text/plain": [
       "<function __main__.<lambda>(x, y)>"
      ]
     },
     "execution_count": 32,
     "metadata": {},
     "output_type": "execute_result"
    }
   ],
   "source": [
    "(lambda x,y:x/y)"
   ]
  },
  {
   "cell_type": "code",
   "execution_count": 33,
   "id": "a2f3db7c",
   "metadata": {},
   "outputs": [
    {
     "data": {
      "text/plain": [
       "2.0"
      ]
     },
     "execution_count": 33,
     "metadata": {},
     "output_type": "execute_result"
    }
   ],
   "source": [
    "calculator [\"/\"] (6,3)"
   ]
  },
  {
   "cell_type": "markdown",
   "id": "e7b4c147",
   "metadata": {},
   "source": [
    "## Password Generator"
   ]
  },
  {
   "cell_type": "code",
   "execution_count": 38,
   "id": "d7e79f53",
   "metadata": {},
   "outputs": [],
   "source": [
    "import random"
   ]
  },
  {
   "cell_type": "code",
   "execution_count": 39,
   "id": "1989c4ea",
   "metadata": {},
   "outputs": [
    {
     "data": {
      "text/plain": [
       "11"
      ]
     },
     "execution_count": 39,
     "metadata": {},
     "output_type": "execute_result"
    }
   ],
   "source": [
    "random.randint(10,30)"
   ]
  },
  {
   "cell_type": "code",
   "execution_count": 40,
   "id": "5cb571fe",
   "metadata": {},
   "outputs": [
    {
     "data": {
      "text/plain": [
       "'o'"
      ]
     },
     "execution_count": 40,
     "metadata": {},
     "output_type": "execute_result"
    }
   ],
   "source": [
    "chr(111)"
   ]
  },
  {
   "cell_type": "code",
   "execution_count": 46,
   "id": "bd8f2be9",
   "metadata": {},
   "outputs": [
    {
     "data": {
      "text/plain": [
       "'L'"
      ]
     },
     "execution_count": 46,
     "metadata": {},
     "output_type": "execute_result"
    }
   ],
   "source": [
    "chr(random.randint(65,90))"
   ]
  },
  {
   "cell_type": "code",
   "execution_count": 42,
   "id": "256e922b",
   "metadata": {},
   "outputs": [
    {
     "data": {
      "text/plain": [
       "'h'"
      ]
     },
     "execution_count": 42,
     "metadata": {},
     "output_type": "execute_result"
    }
   ],
   "source": [
    "chr(random.randint(97,122))"
   ]
  },
  {
   "cell_type": "code",
   "execution_count": null,
   "id": "e364a948",
   "metadata": {},
   "outputs": [],
   "source": []
  },
  {
   "cell_type": "code",
   "execution_count": 43,
   "id": "01fe3310",
   "metadata": {},
   "outputs": [
    {
     "data": {
      "text/plain": [
       "'<'"
      ]
     },
     "execution_count": 43,
     "metadata": {},
     "output_type": "execute_result"
    }
   ],
   "source": [
    "chr(random.randint(58,64))"
   ]
  },
  {
   "cell_type": "code",
   "execution_count": 44,
   "id": "2504fc39",
   "metadata": {},
   "outputs": [
    {
     "data": {
      "text/plain": [
       "\"'\""
      ]
     },
     "execution_count": 44,
     "metadata": {},
     "output_type": "execute_result"
    }
   ],
   "source": [
    "chr(random.randint(33,47))"
   ]
  },
  {
   "cell_type": "code",
   "execution_count": 54,
   "id": "df90f359",
   "metadata": {},
   "outputs": [
    {
     "data": {
      "text/plain": [
       "'#:'"
      ]
     },
     "execution_count": 54,
     "metadata": {},
     "output_type": "execute_result"
    }
   ],
   "source": [
    "uppers= [chr(random.randint(65,90)) for i in range(3)]\n",
    "lowers= [chr(random.randint(97,122)) for i in range(3)]\n",
    "numbers = [chr(random.randint(48,57)) for i in range(3)]\n",
    "chars = chr(random.randint(33,47))+ chr(random.randint(58,64))\n",
    "chars"
   ]
  },
  {
   "cell_type": "code",
   "execution_count": 55,
   "id": "3c24f272",
   "metadata": {},
   "outputs": [
    {
     "data": {
      "text/plain": [
       "'3-1-6'"
      ]
     },
     "execution_count": 55,
     "metadata": {},
     "output_type": "execute_result"
    }
   ],
   "source": [
    "\"-\".join(numbers)"
   ]
  },
  {
   "cell_type": "code",
   "execution_count": 56,
   "id": "86171076",
   "metadata": {},
   "outputs": [
    {
     "data": {
      "text/plain": [
       "'316'"
      ]
     },
     "execution_count": 56,
     "metadata": {},
     "output_type": "execute_result"
    }
   ],
   "source": [
    "\"\".join(numbers)"
   ]
  },
  {
   "cell_type": "code",
   "execution_count": 69,
   "id": "d1156d3f",
   "metadata": {},
   "outputs": [
    {
     "data": {
      "text/plain": [
       "['C', 'B', 'Y', 'p', 'l', 'n', '3', '1', '6', '#', ':']"
      ]
     },
     "execution_count": 69,
     "metadata": {},
     "output_type": "execute_result"
    }
   ],
   "source": [
    "password = \"\".join(uppers)+\"\".join(lowers)+\"\".join(numbers) + chars\n",
    "pass_list = list(password)\n",
    "pass_list"
   ]
  },
  {
   "cell_type": "code",
   "execution_count": 72,
   "id": "0299bb0c",
   "metadata": {},
   "outputs": [
    {
     "data": {
      "text/plain": [
       "['#', 'n', '1', 'C', ':', '6', 'Y', 'B', 'l', 'p', '3']"
      ]
     },
     "execution_count": 72,
     "metadata": {},
     "output_type": "execute_result"
    }
   ],
   "source": [
    "random.shuffle(pass_list)\n",
    "pass_list"
   ]
  },
  {
   "cell_type": "code",
   "execution_count": 73,
   "id": "5dc3b73c",
   "metadata": {},
   "outputs": [
    {
     "data": {
      "text/plain": [
       "'#n1C:6YBlp3'"
      ]
     },
     "execution_count": 73,
     "metadata": {},
     "output_type": "execute_result"
    }
   ],
   "source": [
    "\"\".join(pass_list)"
   ]
  },
  {
   "cell_type": "code",
   "execution_count": 74,
   "id": "5cd7b769",
   "metadata": {},
   "outputs": [],
   "source": [
    "def mixed(password):\n",
    "    templist = list(password)\n",
    "    random.shuffle(templist)\n",
    "    return \"\".join(templist)"
   ]
  },
  {
   "cell_type": "code",
   "execution_count": 76,
   "id": "6895c9d0",
   "metadata": {},
   "outputs": [
    {
     "name": "stdout",
     "output_type": "stream",
     "text": [
      "B16Y3n#pC:l\n"
     ]
    }
   ],
   "source": [
    "print (mixed(password))"
   ]
  },
  {
   "cell_type": "code",
   "execution_count": null,
   "id": "a4379a56",
   "metadata": {},
   "outputs": [],
   "source": []
  },
  {
   "cell_type": "code",
   "execution_count": 81,
   "id": "2c7c90ae",
   "metadata": {},
   "outputs": [],
   "source": [
    "import timeit"
   ]
  },
  {
   "cell_type": "code",
   "execution_count": 82,
   "id": "8f7ed250",
   "metadata": {},
   "outputs": [],
   "source": [
    "from timeit import timeit"
   ]
  },
  {
   "cell_type": "code",
   "execution_count": 83,
   "id": "0fc8c3e5",
   "metadata": {},
   "outputs": [
    {
     "data": {
      "text/plain": [
       "0.018540416000178084"
      ]
     },
     "execution_count": 83,
     "metadata": {},
     "output_type": "execute_result"
    }
   ],
   "source": [
    "timeit()"
   ]
  },
  {
   "cell_type": "code",
   "execution_count": 84,
   "id": "b19b09b3",
   "metadata": {},
   "outputs": [],
   "source": [
    "def for_loop ():\n",
    "    result = []\n",
    "    \n",
    "    for i in range (1000000):\n",
    "        result.append(i)\n",
    "    return result"
   ]
  },
  {
   "cell_type": "code",
   "execution_count": 79,
   "id": "9bbca895",
   "metadata": {},
   "outputs": [],
   "source": [
    "def list_comp():\n",
    "    return[i for i in range (1000000)]"
   ]
  },
  {
   "cell_type": "code",
   "execution_count": 86,
   "id": "35d5f319",
   "metadata": {},
   "outputs": [
    {
     "ename": "KeyboardInterrupt",
     "evalue": "",
     "output_type": "error",
     "traceback": [
      "\u001b[0;31m---------------------------------------------------------------------------\u001b[0m",
      "\u001b[0;31mKeyboardInterrupt\u001b[0m                         Traceback (most recent call last)",
      "Input \u001b[0;32mIn [86]\u001b[0m, in \u001b[0;36m<module>\u001b[0;34m\u001b[0m\n\u001b[0;32m----> 1\u001b[0m time_for \u001b[38;5;241m=\u001b[39m \u001b[43mtimeit\u001b[49m\u001b[43m(\u001b[49m\u001b[43mfor_loop\u001b[49m\u001b[43m,\u001b[49m\u001b[43m \u001b[49m\u001b[43mnumber\u001b[49m\u001b[38;5;241;43m=\u001b[39;49m\u001b[38;5;241;43m100\u001b[39;49m\u001b[43m)\u001b[49m\n\u001b[1;32m      2\u001b[0m time_list_comp \u001b[38;5;241m=\u001b[39m timeit(list_comp, number\u001b[38;5;241m=\u001b[39m\u001b[38;5;241m100\u001b[39m)\n\u001b[1;32m      3\u001b[0m \u001b[38;5;28mprint\u001b[39m(\u001b[38;5;124mf\u001b[39m\u001b[38;5;124m\"\u001b[39m\u001b[38;5;124mList comp is \u001b[39m\u001b[38;5;132;01m{\u001b[39;00m\u001b[38;5;28mround\u001b[39m(time_for\u001b[38;5;241m/\u001b[39mtime_list_comp, \u001b[38;5;241m2\u001b[39m)\u001b[38;5;132;01m}\u001b[39;00m\u001b[38;5;124m times faster than for_loop\u001b[39m\u001b[38;5;124m\"\u001b[39m)\n",
      "File \u001b[0;32m/Library/Frameworks/Python.framework/Versions/3.10/lib/python3.10/timeit.py:234\u001b[0m, in \u001b[0;36mtimeit\u001b[0;34m(stmt, setup, timer, number, globals)\u001b[0m\n\u001b[1;32m    231\u001b[0m \u001b[38;5;28;01mdef\u001b[39;00m \u001b[38;5;21mtimeit\u001b[39m(stmt\u001b[38;5;241m=\u001b[39m\u001b[38;5;124m\"\u001b[39m\u001b[38;5;124mpass\u001b[39m\u001b[38;5;124m\"\u001b[39m, setup\u001b[38;5;241m=\u001b[39m\u001b[38;5;124m\"\u001b[39m\u001b[38;5;124mpass\u001b[39m\u001b[38;5;124m\"\u001b[39m, timer\u001b[38;5;241m=\u001b[39mdefault_timer,\n\u001b[1;32m    232\u001b[0m            number\u001b[38;5;241m=\u001b[39mdefault_number, \u001b[38;5;28mglobals\u001b[39m\u001b[38;5;241m=\u001b[39m\u001b[38;5;28;01mNone\u001b[39;00m):\n\u001b[1;32m    233\u001b[0m     \u001b[38;5;124;03m\"\"\"Convenience function to create Timer object and call timeit method.\"\"\"\u001b[39;00m\n\u001b[0;32m--> 234\u001b[0m     \u001b[38;5;28;01mreturn\u001b[39;00m \u001b[43mTimer\u001b[49m\u001b[43m(\u001b[49m\u001b[43mstmt\u001b[49m\u001b[43m,\u001b[49m\u001b[43m \u001b[49m\u001b[43msetup\u001b[49m\u001b[43m,\u001b[49m\u001b[43m \u001b[49m\u001b[43mtimer\u001b[49m\u001b[43m,\u001b[49m\u001b[43m \u001b[49m\u001b[38;5;28;43mglobals\u001b[39;49m\u001b[43m)\u001b[49m\u001b[38;5;241;43m.\u001b[39;49m\u001b[43mtimeit\u001b[49m\u001b[43m(\u001b[49m\u001b[43mnumber\u001b[49m\u001b[43m)\u001b[49m\n",
      "File \u001b[0;32m/Library/Frameworks/Python.framework/Versions/3.10/lib/python3.10/timeit.py:178\u001b[0m, in \u001b[0;36mTimer.timeit\u001b[0;34m(self, number)\u001b[0m\n\u001b[1;32m    176\u001b[0m gc\u001b[38;5;241m.\u001b[39mdisable()\n\u001b[1;32m    177\u001b[0m \u001b[38;5;28;01mtry\u001b[39;00m:\n\u001b[0;32m--> 178\u001b[0m     timing \u001b[38;5;241m=\u001b[39m \u001b[38;5;28;43mself\u001b[39;49m\u001b[38;5;241;43m.\u001b[39;49m\u001b[43minner\u001b[49m\u001b[43m(\u001b[49m\u001b[43mit\u001b[49m\u001b[43m,\u001b[49m\u001b[43m \u001b[49m\u001b[38;5;28;43mself\u001b[39;49m\u001b[38;5;241;43m.\u001b[39;49m\u001b[43mtimer\u001b[49m\u001b[43m)\u001b[49m\n\u001b[1;32m    179\u001b[0m \u001b[38;5;28;01mfinally\u001b[39;00m:\n\u001b[1;32m    180\u001b[0m     \u001b[38;5;28;01mif\u001b[39;00m gcold:\n",
      "File \u001b[0;32m<timeit-src>:6\u001b[0m, in \u001b[0;36minner\u001b[0;34m(_it, _timer, _stmt)\u001b[0m\n",
      "Input \u001b[0;32mIn [84]\u001b[0m, in \u001b[0;36mfor_loop\u001b[0;34m()\u001b[0m\n\u001b[1;32m      2\u001b[0m result \u001b[38;5;241m=\u001b[39m []\n\u001b[1;32m      4\u001b[0m \u001b[38;5;28;01mfor\u001b[39;00m i \u001b[38;5;129;01min\u001b[39;00m \u001b[38;5;28mrange\u001b[39m (\u001b[38;5;241m1000000\u001b[39m):\n\u001b[0;32m----> 5\u001b[0m     \u001b[43mresult\u001b[49m\u001b[38;5;241;43m.\u001b[39;49m\u001b[43mappend\u001b[49m\u001b[43m(\u001b[49m\u001b[43mi\u001b[49m\u001b[43m)\u001b[49m\n\u001b[1;32m      6\u001b[0m \u001b[38;5;28;01mreturn\u001b[39;00m result\n",
      "\u001b[0;31mKeyboardInterrupt\u001b[0m: "
     ]
    }
   ],
   "source": [
    "time_for = timeit(for_loop, number=100)\n",
    "time_list_comp = timeit(list_comp, number=100)\n",
    "print(f\"List comp is {round(time_for/time_list_comp, 2)} times faster than for_loop\")"
   ]
  },
  {
   "cell_type": "code",
   "execution_count": 91,
   "id": "0747495a",
   "metadata": {},
   "outputs": [
    {
     "ename": "NameError",
     "evalue": "name 'pint' is not defined",
     "output_type": "error",
     "traceback": [
      "\u001b[0;31m---------------------------------------------------------------------------\u001b[0m",
      "\u001b[0;31mNameError\u001b[0m                                 Traceback (most recent call last)",
      "Input \u001b[0;32mIn [91]\u001b[0m, in \u001b[0;36m<module>\u001b[0;34m\u001b[0m\n\u001b[0;32m----> 1\u001b[0m \u001b[43mpint\u001b[49m(\u001b[38;5;124m\"\u001b[39m\u001b[38;5;124mhello\u001b[39m\u001b[38;5;124m\"\u001b[39m)\n",
      "\u001b[0;31mNameError\u001b[0m: name 'pint' is not defined"
     ]
    }
   ],
   "source": [
    "pint(\"hello\")"
   ]
  },
  {
   "cell_type": "code",
   "execution_count": 89,
   "id": "0ffced91",
   "metadata": {},
   "outputs": [
    {
     "ename": "ValueError",
     "evalue": "invalid literal for int() with base 10: 'k'",
     "output_type": "error",
     "traceback": [
      "\u001b[0;31m---------------------------------------------------------------------------\u001b[0m",
      "\u001b[0;31mValueError\u001b[0m                                Traceback (most recent call last)",
      "Input \u001b[0;32mIn [89]\u001b[0m, in \u001b[0;36m<module>\u001b[0;34m\u001b[0m\n\u001b[0;32m----> 1\u001b[0m \u001b[38;5;28mprint\u001b[39m(\u001b[38;5;28;43mint\u001b[39;49m\u001b[43m(\u001b[49m\u001b[38;5;124;43m\"\u001b[39;49m\u001b[38;5;124;43mk\u001b[39;49m\u001b[38;5;124;43m\"\u001b[39;49m\u001b[43m)\u001b[49m)\n",
      "\u001b[0;31mValueError\u001b[0m: invalid literal for int() with base 10: 'k'"
     ]
    }
   ],
   "source": [
    "print(int(\"k\"))"
   ]
  },
  {
   "cell_type": "code",
   "execution_count": 90,
   "id": "e6dc6bd5",
   "metadata": {},
   "outputs": [
    {
     "ename": "TypeError",
     "evalue": "unsupported operand type(s) for +: 'int' and 'str'",
     "output_type": "error",
     "traceback": [
      "\u001b[0;31m---------------------------------------------------------------------------\u001b[0m",
      "\u001b[0;31mTypeError\u001b[0m                                 Traceback (most recent call last)",
      "Input \u001b[0;32mIn [90]\u001b[0m, in \u001b[0;36m<module>\u001b[0;34m\u001b[0m\n\u001b[0;32m----> 1\u001b[0m \u001b[38;5;28mprint\u001b[39m(\u001b[38;5;241;43m1\u001b[39;49m\u001b[38;5;241;43m+\u001b[39;49m\u001b[38;5;124;43m'\u001b[39;49m\u001b[38;5;124;43m2\u001b[39;49m\u001b[38;5;124;43m'\u001b[39;49m)\n",
      "\u001b[0;31mTypeError\u001b[0m: unsupported operand type(s) for +: 'int' and 'str'"
     ]
    }
   ],
   "source": [
    "print(1+'2')"
   ]
  },
  {
   "cell_type": "code",
   "execution_count": 93,
   "id": "b9010ad8",
   "metadata": {},
   "outputs": [
    {
     "ename": "NameError",
     "evalue": "name 'z' is not defined",
     "output_type": "error",
     "traceback": [
      "\u001b[0;31m---------------------------------------------------------------------------\u001b[0m",
      "\u001b[0;31mNameError\u001b[0m                                 Traceback (most recent call last)",
      "Input \u001b[0;32mIn [93]\u001b[0m, in \u001b[0;36m<module>\u001b[0;34m\u001b[0m\n\u001b[1;32m      1\u001b[0m x\u001b[38;5;241m=\u001b[39m\u001b[38;5;124m\"\u001b[39m\u001b[38;5;124m2\u001b[39m\u001b[38;5;124m\"\u001b[39m\n\u001b[0;32m----> 2\u001b[0m \u001b[38;5;28mprint\u001b[39m(\u001b[43mz\u001b[49m)\n",
      "\u001b[0;31mNameError\u001b[0m: name 'z' is not defined"
     ]
    }
   ],
   "source": [
    "x=\"2\"\n",
    "print(z)"
   ]
  },
  {
   "cell_type": "code",
   "execution_count": null,
   "id": "37691753",
   "metadata": {},
   "outputs": [],
   "source": []
  },
  {
   "cell_type": "code",
   "execution_count": null,
   "id": "435ebc72",
   "metadata": {},
   "outputs": [],
   "source": []
  }
 ],
 "metadata": {
  "kernelspec": {
   "display_name": "Python 3 (ipykernel)",
   "language": "python",
   "name": "python3"
  },
  "language_info": {
   "codemirror_mode": {
    "name": "ipython",
    "version": 3
   },
   "file_extension": ".py",
   "mimetype": "text/x-python",
   "name": "python",
   "nbconvert_exporter": "python",
   "pygments_lexer": "ipython3",
   "version": "3.10.1"
  }
 },
 "nbformat": 4,
 "nbformat_minor": 5
}
