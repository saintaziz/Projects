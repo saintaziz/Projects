{
 "cells": [
  {
   "cell_type": "code",
   "execution_count": 1,
   "id": "f6e991d2",
   "metadata": {},
   "outputs": [
    {
     "name": "stdout",
     "output_type": "stream",
     "text": [
      "joseph@clarusway.com\n"
     ]
    }
   ],
   "source": [
    "e_mail = 'joseph@clarusway.com' # surrounded with single quotes\n",
    "print(e_mail)"
   ]
  },
  {
   "cell_type": "code",
   "execution_count": 2,
   "id": "d33c44b2",
   "metadata": {},
   "outputs": [
    {
     "name": "stdout",
     "output_type": "stream",
     "text": [
      "sometimes what you say is less important than how you sat it\n"
     ]
    }
   ],
   "source": [
    "example1 = \"sometimes what you say is less important than how you sat it\"\n",
    "print(example1)"
   ]
  },
  {
   "cell_type": "code",
   "execution_count": 3,
   "id": "73893d0e",
   "metadata": {},
   "outputs": [
    {
     "name": "stdout",
     "output_type": "stream",
     "text": [
      "<class 'str'>\n"
     ]
    }
   ],
   "source": [
    "print(type(example1))"
   ]
  },
  {
   "cell_type": "code",
   "execution_count": 4,
   "id": "d914ca0a",
   "metadata": {},
   "outputs": [
    {
     "name": "stdout",
     "output_type": "stream",
     "text": [
      "<class 'str'>\n"
     ]
    }
   ],
   "source": [
    "example2 = '72'\n",
    "print (type(example2))"
   ]
  },
  {
   "cell_type": "code",
   "execution_count": 5,
   "id": "a6f1491f",
   "metadata": {},
   "outputs": [
    {
     "name": "stdout",
     "output_type": "stream",
     "text": [
      "<class 'int'>\n"
     ]
    }
   ],
   "source": [
    "example3 = 73\n",
    "print (type(example3))"
   ]
  },
  {
   "cell_type": "code",
   "execution_count": 8,
   "id": "ac9c9cd8",
   "metadata": {},
   "outputs": [
    {
     "name": "stdout",
     "output_type": "stream",
     "text": [
      "<class 'float'>\n"
     ]
    }
   ],
   "source": [
    "example4 = 74.0\n",
    "print (type(example4))"
   ]
  },
  {
   "cell_type": "code",
   "execution_count": 9,
   "id": "9d508afc",
   "metadata": {},
   "outputs": [
    {
     "name": "stdout",
     "output_type": "stream",
     "text": [
      "<class 'complex'>\n"
     ]
    }
   ],
   "source": [
    "ex5 = 3.14j\n",
    "print (type(ex5))"
   ]
  },
  {
   "cell_type": "code",
   "execution_count": 12,
   "id": "1ed18637",
   "metadata": {},
   "outputs": [
    {
     "name": "stdout",
     "output_type": "stream",
     "text": [
      "<class 'bool'>\n"
     ]
    }
   ],
   "source": [
    "ex6 = True\n",
    "print (type(ex6))"
   ]
  },
  {
   "cell_type": "code",
   "execution_count": 13,
   "id": "acb01a5d",
   "metadata": {},
   "outputs": [
    {
     "name": "stdout",
     "output_type": "stream",
     "text": [
      "<class 'str'>\n"
     ]
    }
   ],
   "source": [
    "f = 3.14\n",
    "s = str (f)\n",
    "print (type(s))"
   ]
  },
  {
   "cell_type": "code",
   "execution_count": 14,
   "id": "a95f2899",
   "metadata": {},
   "outputs": [
    {
     "name": "stdout",
     "output_type": "stream",
     "text": [
      "3.14\n"
     ]
    }
   ],
   "source": [
    "print (s)"
   ]
  },
  {
   "cell_type": "code",
   "execution_count": 15,
   "id": "19f006cf",
   "metadata": {},
   "outputs": [
    {
     "name": "stdout",
     "output_type": "stream",
     "text": [
      "3 \n",
      "\n"
     ]
    }
   ],
   "source": [
    "f = 3.14\n",
    "i = int (f)\n",
    "print (i, '\\n')"
   ]
  },
  {
   "cell_type": "code",
   "execution_count": 16,
   "id": "e0a20be9",
   "metadata": {},
   "outputs": [
    {
     "name": "stdout",
     "output_type": "stream",
     "text": [
      "3 \n",
      "\n",
      "<class 'int'>\n"
     ]
    }
   ],
   "source": [
    "f = 3.14\n",
    "i = int (f)\n",
    "print (i, '\\n')\n",
    "print(type(i))"
   ]
  },
  {
   "cell_type": "code",
   "execution_count": 17,
   "id": "15dfb304",
   "metadata": {},
   "outputs": [
    {
     "name": "stdout",
     "output_type": "stream",
     "text": [
      "3.0 \n",
      "\n",
      "<class 'float'>\n"
     ]
    }
   ],
   "source": [
    "i = 3\n",
    "\n",
    "f=float(i)\n",
    "print(f, '\\n')\n",
    "print(type(f))"
   ]
  },
  {
   "cell_type": "code",
   "execution_count": 21,
   "id": "d1020ace",
   "metadata": {},
   "outputs": [
    {
     "name": "stdout",
     "output_type": "stream",
     "text": [
      "28\n",
      "36.5\n",
      "Iam at_39\n"
     ]
    }
   ],
   "source": [
    "x = 39\n",
    "v = '11'\n",
    "y = \"2.5\"\n",
    "z = \"Iam at_\"\n",
    "\n",
    "print (x-int(v))\n",
    "print (x-float(y))\n",
    "print (z+str(x))"
   ]
  },
  {
   "cell_type": "code",
   "execution_count": 24,
   "id": "dccd446f",
   "metadata": {},
   "outputs": [
    {
     "name": "stdout",
     "output_type": "stream",
     "text": [
      "3\n"
     ]
    }
   ],
   "source": [
    "pi = 3.14\n",
    "converted_pi = int(pi)\n",
    "print(converted_pi)"
   ]
  },
  {
   "cell_type": "code",
   "execution_count": 25,
   "id": "cf3b6ed0",
   "metadata": {},
   "outputs": [
    {
     "name": "stdout",
     "output_type": "stream",
     "text": [
      "15\n"
     ]
    }
   ],
   "source": [
    "print(4+11)"
   ]
  },
  {
   "cell_type": "code",
   "execution_count": 26,
   "id": "d7882a7f",
   "metadata": {},
   "outputs": [
    {
     "name": "stdout",
     "output_type": "stream",
     "text": [
      "43.0\n"
     ]
    }
   ],
   "source": [
    "print(39+4.0)"
   ]
  },
  {
   "cell_type": "code",
   "execution_count": 27,
   "id": "fd4e3918",
   "metadata": {},
   "outputs": [
    {
     "name": "stdout",
     "output_type": "stream",
     "text": [
      "-6\n"
     ]
    }
   ],
   "source": [
    "no1 ,no2 = 46, 52\n",
    "no3 = no1 - no2\n",
    "print (no3)"
   ]
  },
  {
   "cell_type": "code",
   "execution_count": 28,
   "id": "1165263b",
   "metadata": {},
   "outputs": [
    {
     "name": "stdout",
     "output_type": "stream",
     "text": [
      "2.0\n"
     ]
    }
   ],
   "source": [
    "no1 = 46\n",
    "print (no1/23) # division gives float"
   ]
  },
  {
   "cell_type": "code",
   "execution_count": 29,
   "id": "a4f8e5be",
   "metadata": {},
   "outputs": [
    {
     "name": "stdout",
     "output_type": "stream",
     "text": [
      "6.0\n"
     ]
    }
   ],
   "source": [
    "print ((3 * 4)/2 # parentheses are used as in normal mathematics operations"
   ]
  },
  {
   "cell_type": "code",
   "execution_count": 30,
   "id": "e2c987ee",
   "metadata": {},
   "outputs": [
    {
     "name": "stdout",
     "output_type": "stream",
     "text": [
      "3\n"
     ]
    }
   ],
   "source": [
    "print (7//2) # it gives integer part of division"
   ]
  },
  {
   "cell_type": "code",
   "execution_count": 31,
   "id": "6a10f8ff",
   "metadata": {},
   "outputs": [
    {
     "name": "stdout",
     "output_type": "stream",
     "text": [
      "1\n"
     ]
    }
   ],
   "source": [
    "print (9 % 2) # remainder of this division is 1\n",
    "# it means 9 is an odd number"
   ]
  },
  {
   "cell_type": "code",
   "execution_count": 32,
   "id": "9d65f6bd",
   "metadata": {},
   "outputs": [
    {
     "name": "stdout",
     "output_type": "stream",
     "text": [
      "9\n"
     ]
    }
   ],
   "source": [
    "print (3**2)"
   ]
  },
  {
   "cell_type": "code",
   "execution_count": 33,
   "id": "4134e2fa",
   "metadata": {},
   "outputs": [
    {
     "name": "stdout",
     "output_type": "stream",
     "text": [
      "8.0\n"
     ]
    }
   ],
   "source": [
    "print(64**0.5)"
   ]
  },
  {
   "cell_type": "code",
   "execution_count": 35,
   "id": "6d91e8b7",
   "metadata": {},
   "outputs": [
    {
     "name": "stdout",
     "output_type": "stream",
     "text": [
      "childeren deserve respect as much as adults in 2020\n"
     ]
    }
   ],
   "source": [
    "number = 2020\n",
    "text = 'childeren deserve respect as much as adults in'\n",
    "print (text, number)"
   ]
  },
  {
   "cell_type": "code",
   "execution_count": 37,
   "id": "fa46dbb4",
   "metadata": {},
   "outputs": [
    {
     "name": "stdout",
     "output_type": "stream",
     "text": [
      "yesterday I ate 2 apples\n"
     ]
    }
   ],
   "source": [
    "print (\"yesterday I ate\", 2, \"apples\")"
   ]
  },
  {
   "cell_type": "code",
   "execution_count": 41,
   "id": "b14d5217",
   "metadata": {},
   "outputs": [
    {
     "name": "stdout",
     "output_type": "stream",
     "text": [
      "i will say i missed you to my mother\n"
     ]
    }
   ],
   "source": [
    "print('i', end=' ')\n",
    "print('will say', end=' ')\n",
    "print(\"i missed you\", end=' ')\n",
    "print('to my mother')"
   ]
  },
  {
   "cell_type": "code",
   "execution_count": 42,
   "id": "64a9f515",
   "metadata": {},
   "outputs": [
    {
     "name": "stdout",
     "output_type": "stream",
     "text": [
      "i\n",
      "will say\n",
      "i missed you\n",
      "to my mother\n"
     ]
    }
   ],
   "source": [
    "print('i')\n",
    "print('will say')\n",
    "print(\"i missed you\")\n",
    "print('to my mother')"
   ]
  },
  {
   "cell_type": "code",
   "execution_count": 44,
   "id": "0632e9dd",
   "metadata": {},
   "outputs": [
    {
     "name": "stdout",
     "output_type": "stream",
     "text": [
      "i\n",
      "will say\n",
      "i missed you\n",
      "to my mother\n"
     ]
    }
   ],
   "source": [
    "print('i')\n",
    "print('will say')\n",
    "print(\"i missed you\")\n",
    "print('to my mother')"
   ]
  },
  {
   "cell_type": "code",
   "execution_count": 47,
   "id": "63ffef7f",
   "metadata": {},
   "outputs": [
    {
     "name": "stdout",
     "output_type": "stream",
     "text": [
      "smoking    +    kill    +    you    +    slowly\n"
     ]
    }
   ],
   "source": [
    "print ('smoking', 'kill', 'you', 'slowly', sep='    +    ')"
   ]
  },
  {
   "cell_type": "code",
   "execution_count": 49,
   "id": "35b2e64f",
   "metadata": {},
   "outputs": [
    {
     "name": "stdout",
     "output_type": "stream",
     "text": [
      "value of x  : 5\n",
      "2 more of x  : 7 \n",
      "\n"
     ]
    }
   ],
   "source": [
    "x = 5\n",
    "print ('value of x  :', x)\n",
    "\n",
    "x += 2\n",
    "print (\"2 more of x  :\", x, \"\\n\")\n"
   ]
  },
  {
   "cell_type": "code",
   "execution_count": 51,
   "id": "afc05cd3",
   "metadata": {},
   "outputs": [
    {
     "name": "stdout",
     "output_type": "stream",
     "text": [
      "value of y       :  10\n",
      "2 minus y        :  8 \n",
      "\n"
     ]
    }
   ],
   "source": [
    "y = 10\n",
    "print ('value of y       : ', y)\n",
    "\n",
    "y -= 2\n",
    "print (\"2 minus y        : \", y, \"\\n\")"
   ]
  },
  {
   "cell_type": "code",
   "execution_count": 52,
   "id": "7d1de7b5",
   "metadata": {},
   "outputs": [
    {
     "name": "stdout",
     "output_type": "stream",
     "text": [
      "value of x  : 5\n",
      "2 more of x  : 7 \n",
      "\n",
      "value of y       :  10\n",
      "2 minus y        :  8 \n",
      "\n",
      "value of z  : 6\n",
      "2 times z : 12 \n",
      "\n"
     ]
    }
   ],
   "source": [
    "x = 5\n",
    "print ('value of x  :', x)\n",
    "\n",
    "x += 2\n",
    "print (\"2 more of x  :\", x, \"\\n\")\n",
    "\n",
    "y = 10\n",
    "print ('value of y       : ', y)\n",
    "\n",
    "y -= 2\n",
    "print (\"2 minus y        : \", y, \"\\n\")\n",
    "\n",
    "z = 6\n",
    "print ('value of z  :', z)\n",
    "z *=2\n",
    "print (\"2 times z :\", z, \"\\n\")"
   ]
  },
  {
   "cell_type": "code",
   "execution_count": 60,
   "id": "5811eca7",
   "metadata": {},
   "outputs": [
    {
     "name": "stdout",
     "output_type": "stream",
     "text": [
      "3\n"
     ]
    }
   ],
   "source": [
    "x=9\n",
    "x //=3\n",
    "print(x)"
   ]
  },
  {
   "cell_type": "code",
   "execution_count": 61,
   "id": "63015ba8",
   "metadata": {},
   "outputs": [
    {
     "name": "stdout",
     "output_type": "stream",
     "text": [
      "C:\\november\n",
      "umber_expenditure.txt\n"
     ]
    }
   ],
   "source": [
    "print ('C:\\\\november\\number_expenditure.txt')"
   ]
  },
  {
   "cell_type": "code",
   "execution_count": 62,
   "id": "1634e350",
   "metadata": {},
   "outputs": [
    {
     "name": "stdout",
     "output_type": "stream",
     "text": [
      "one\ttwo\tthree\n"
     ]
    }
   ],
   "source": [
    "print (\"one\", \"two\", \"three\", sep=\"\\t\")"
   ]
  },
  {
   "cell_type": "code",
   "execution_count": 64,
   "id": "fa0c2497",
   "metadata": {},
   "outputs": [
    {
     "name": "stdout",
     "output_type": "stream",
     "text": [
      "we \bare \bunited\n"
     ]
    }
   ],
   "source": [
    "print('we', '\\bare', '\\bunited')"
   ]
  },
  {
   "cell_type": "code",
   "execution_count": 75,
   "id": "df43ff18",
   "metadata": {},
   "outputs": [
    {
     "name": "stdout",
     "output_type": "stream",
     "text": [
      "a'ziz\n"
     ]
    }
   ],
   "source": [
    "print('a\\'ziz')"
   ]
  },
  {
   "cell_type": "code",
   "execution_count": 76,
   "id": "c5acffcc",
   "metadata": {},
   "outputs": [
    {
     "name": "stdout",
     "output_type": "stream",
     "text": [
      "a'ziz\n"
     ]
    }
   ],
   "source": [
    "print('a\\'ziz')"
   ]
  },
  {
   "cell_type": "code",
   "execution_count": 77,
   "id": "adae8eb3",
   "metadata": {},
   "outputs": [
    {
     "name": "stdout",
     "output_type": "stream",
     "text": [
      "a'ziz\n"
     ]
    }
   ],
   "source": [
    "print('a\\'ziz')"
   ]
  },
  {
   "cell_type": "code",
   "execution_count": 78,
   "id": "da9818e6",
   "metadata": {},
   "outputs": [
    {
     "name": "stdout",
     "output_type": "stream",
     "text": [
      "True\n"
     ]
    }
   ],
   "source": [
    "logic = True and False or not False or False\n",
    "print(logic)"
   ]
  },
  {
   "cell_type": "code",
   "execution_count": 79,
   "id": "156c598a",
   "metadata": {},
   "outputs": [
    {
     "name": "stdout",
     "output_type": "stream",
     "text": [
      "3\n"
     ]
    }
   ],
   "source": [
    "print (2 and 3)"
   ]
  },
  {
   "cell_type": "code",
   "execution_count": 80,
   "id": "34d825d2",
   "metadata": {},
   "outputs": [
    {
     "name": "stdout",
     "output_type": "stream",
     "text": [
      "2\n"
     ]
    }
   ],
   "source": [
    "print(2 or 3)"
   ]
  },
  {
   "cell_type": "code",
   "execution_count": 82,
   "id": "1cd80baa",
   "metadata": {},
   "outputs": [
    {
     "name": "stdout",
     "output_type": "stream",
     "text": [
      "0\n"
     ]
    }
   ],
   "source": [
    "print(0 and \" \" and [ ])"
   ]
  },
  {
   "cell_type": "code",
   "execution_count": 85,
   "id": "3ed2ed46",
   "metadata": {},
   "outputs": [
    {
     "name": "stdout",
     "output_type": "stream",
     "text": [
      "2\n"
     ]
    }
   ],
   "source": [
    "print(2 or 3)"
   ]
  },
  {
   "cell_type": "code",
   "execution_count": 86,
   "id": "abad5005",
   "metadata": {},
   "outputs": [
    {
     "name": "stdout",
     "output_type": "stream",
     "text": [
      "0\n"
     ]
    }
   ],
   "source": [
    "print (1 and 0)"
   ]
  },
  {
   "cell_type": "code",
   "execution_count": 87,
   "id": "671216f7",
   "metadata": {},
   "outputs": [
    {
     "name": "stdout",
     "output_type": "stream",
     "text": [
      "I am do,ng good!\n"
     ]
    }
   ],
   "source": [
    "print (1 and \"I am do,ng good!\")"
   ]
  },
  {
   "cell_type": "code",
   "execution_count": 88,
   "id": "c77ce878",
   "metadata": {},
   "outputs": [
    {
     "name": "stdout",
     "output_type": "stream",
     "text": [
      "[]\n"
     ]
    }
   ],
   "source": [
    "print ([] and \"hello\")"
   ]
  },
  {
   "cell_type": "code",
   "execution_count": 89,
   "id": "dac07aeb",
   "metadata": {},
   "outputs": [
    {
     "name": "stdout",
     "output_type": "stream",
     "text": [
      "2\n"
     ]
    }
   ],
   "source": [
    "print (2 or 3)"
   ]
  },
  {
   "cell_type": "code",
   "execution_count": 91,
   "id": "caf96a21",
   "metadata": {},
   "outputs": [
    {
     "name": "stdout",
     "output_type": "stream",
     "text": [
      "1\n"
     ]
    }
   ],
   "source": [
    "print(None or 1)"
   ]
  },
  {
   "cell_type": "code",
   "execution_count": 97,
   "id": "64ad3836",
   "metadata": {},
   "outputs": [
    {
     "name": "stdout",
     "output_type": "stream",
     "text": [
      "Word    :  Orange\n",
      "First Letter : O\n",
      "Second Letter :  r\n",
      "3rd to 5rd Letter: ang\n",
      "Letter all after 3rd: ange\n"
     ]
    }
   ],
   "source": [
    "fruit = 'Orange'\n",
    "\n",
    "print ('Word    : ', fruit)\n",
    "print ('First Letter :', fruit [0])\n",
    "print ('Second Letter : ', fruit[1])\n",
    "print (\"3rd to 5rd Letter:\", fruit[2:5])\n",
    "print(\"Letter all after 3rd:\", fruit[2:])"
   ]
  },
  {
   "cell_type": "code",
   "execution_count": 105,
   "id": "38470de6",
   "metadata": {},
   "outputs": [
    {
     "name": "stdout",
     "output_type": "stream",
     "text": [
      "hoenix\n",
      "Phoeni\n",
      "Ponx\n",
      "hei\n",
      "nix\n",
      "xineohP\n"
     ]
    }
   ],
   "source": [
    "city = 'Phoenix'\n",
    "print(city[1:])\n",
    "print(city[:6])\n",
    "print(city[::2])\n",
    "print(city[1::2])\n",
    "print(city[-3:])\n",
    "print(city[::-1])"
   ]
  },
  {
   "cell_type": "code",
   "execution_count": 107,
   "id": "bd01d450",
   "metadata": {},
   "outputs": [
    {
     "name": "stdout",
     "output_type": "stream",
     "text": [
      "lenght of the word Tomato is : 6\n"
     ]
    }
   ],
   "source": [
    "vegetable='Tomato'\n",
    "\n",
    "print('lenght of the word', vegetable, 'is :', len(vegetable))"
   ]
  },
  {
   "cell_type": "code",
   "execution_count": 108,
   "id": "c5b124af",
   "metadata": {},
   "outputs": [
    {
     "name": "stdout",
     "output_type": "stream",
     "text": [
      "clarusway\n"
     ]
    }
   ],
   "source": [
    "print ('clarus'+'way')"
   ]
  },
  {
   "cell_type": "code",
   "execution_count": 113,
   "id": "85958bf3",
   "metadata": {},
   "outputs": [
    {
     "name": "stdout",
     "output_type": "stream",
     "text": [
      "no way!,no way!,no way!,\n"
     ]
    }
   ],
   "source": [
    "print (3 * 'no way!,', sep=' ')"
   ]
  },
  {
   "cell_type": "code",
   "execution_count": 115,
   "id": "f1a852d0",
   "metadata": {},
   "outputs": [
    {
     "name": "stdout",
     "output_type": "stream",
     "text": [
      "using + : OrangeTomato\n",
      "using * : OrangeOrangeOrange\n"
     ]
    }
   ],
   "source": [
    "fruit = 'Orange'\n",
    "vegetable = 'Tomato'\n",
    "print (\"using + :\", fruit + vegetable)\n",
    "print (\"using * :\", 3* fruit)"
   ]
  },
  {
   "cell_type": "code",
   "execution_count": 117,
   "id": "f486f4ad",
   "metadata": {},
   "outputs": [
    {
     "name": "stdout",
     "output_type": "stream",
     "text": [
      "orangeapple\n"
     ]
    }
   ],
   "source": [
    "fruit = 'orange'\n",
    "fruit += 'apple'\n",
    "print(fruit)"
   ]
  },
  {
   "cell_type": "code",
   "execution_count": 120,
   "id": "73f1886f",
   "metadata": {},
   "outputs": [
    {
     "name": "stdout",
     "output_type": "stream",
     "text": [
      "I have 4 children and 5.00 brothers\n"
     ]
    }
   ],
   "source": [
    "phrase = 'I have %d %s and %.2f brothers' % (4, \"children\" , 5)\n",
    "print (phrase)"
   ]
  },
  {
   "cell_type": "code",
   "execution_count": 121,
   "id": "c060ccdb",
   "metadata": {},
   "outputs": [
    {
     "name": "stdout",
     "output_type": "stream",
     "text": [
      "apologizing\n"
     ]
    }
   ],
   "source": [
    "sentence = \"apologizing is a virtue\"\n",
    "print (\"%.11s\" % sentence)"
   ]
  },
  {
   "cell_type": "code",
   "execution_count": 124,
   "id": "549ee397",
   "metadata": {},
   "outputs": [
    {
     "name": "stdout",
     "output_type": "stream",
     "text": [
      "33 pounds of bananas left\n"
     ]
    }
   ],
   "source": [
    "print('%(amount)d pounds of %(fruit)s left' % {'amount':33, 'fruit':'bananas'})"
   ]
  },
  {
   "cell_type": "code",
   "execution_count": 125,
   "id": "e9ac36d1",
   "metadata": {},
   "outputs": [
    {
     "name": "stdout",
     "output_type": "stream",
     "text": [
      "The amount of Orange we bought is 4 pounds\n"
     ]
    }
   ],
   "source": [
    "fruit = 'Orange'\n",
    "vegetable = 'Tomato'\n",
    "amount = 4\n",
    "print ('The amount of {} we bought is {} pounds'.format(fruit,amount))"
   ]
  },
  {
   "cell_type": "code",
   "execution_count": 127,
   "id": "f1605401",
   "metadata": {},
   "outputs": [
    {
     "name": "stdout",
     "output_type": "stream",
     "text": [
      "cf is the most crowded state of the usa\n"
     ]
    }
   ],
   "source": [
    "print ('{state} is the most {adjective} state of the {country}' .format (state='cf', country = 'usa', adjective='crowded'))"
   ]
  },
  {
   "cell_type": "code",
   "execution_count": 130,
   "id": "99e649bf",
   "metadata": {},
   "outputs": [
    {
     "name": "stdout",
     "output_type": "stream",
     "text": [
      "Good teachers know how to bring out the best in students.\n"
     ]
    }
   ],
   "source": [
    "print (\"{9} {7} {1} {10} {3} {2} {5} {8} {6} {0} {4}\" .format ('in', 'know', 'bring', 'to', 'students.', 'out', 'best', 'teachers', 'the', 'Good', 'how'))"
   ]
  },
  {
   "cell_type": "code",
   "execution_count": 132,
   "id": "fe6a4309",
   "metadata": {},
   "outputs": [
    {
     "name": "stdout",
     "output_type": "stream",
     "text": [
      "Good teachers know how to bring out the best in students.\n"
     ]
    }
   ],
   "source": [
    "print (\"{9} {7} {1} {10} {3} {2} {5} {8} {6} {0} {4}\" .format ('in', 'know', 'bring', 'to', 'students.', 'out', 'best', 'teachers', 'the', 'Good', 'how'))"
   ]
  },
  {
   "cell_type": "code",
   "execution_count": 133,
   "id": "9fb7c9a1",
   "metadata": {},
   "outputs": [
    {
     "name": "stdout",
     "output_type": "stream",
     "text": [
      "The amount of Orange and Tomato we bought are totally 6 pounds\n"
     ]
    }
   ],
   "source": [
    "fruit = 'Orange'\n",
    "vegetable = 'Tomato'\n",
    "amount = 6\n",
    "output = f\"The amount of {fruit} and {vegetable} we bought are totally {amount} pounds\"\n",
    "print(output)"
   ]
  },
  {
   "cell_type": "code",
   "execution_count": 137,
   "id": "5792fcf7",
   "metadata": {},
   "outputs": [
    {
     "name": "stdout",
     "output_type": "stream",
     "text": [
      "20\n"
     ]
    }
   ],
   "source": [
    "result = f\"{4 * 5}\"\n",
    "print(result)"
   ]
  },
  {
   "cell_type": "code",
   "execution_count": 139,
   "id": "2a1cb82f",
   "metadata": {},
   "outputs": [
    {
     "name": "stdout",
     "output_type": "stream",
     "text": [
      "My name is Joseph\n"
     ]
    }
   ],
   "source": [
    "my_name= 'Joseph'\n",
    "output = f\"My name is {my_name.capitalize()}\"\n",
    "\n",
    "print(output)"
   ]
  },
  {
   "cell_type": "code",
   "execution_count": 141,
   "id": "be5d22df",
   "metadata": {},
   "outputs": [
    {
     "name": "stdout",
     "output_type": "stream",
     "text": [
      "True\n",
      "False\n"
     ]
    }
   ],
   "source": [
    "text = 'www.clarusway.com'\n",
    "print (text.endswith('.com'))\n",
    "print (text.startswith('http:'))"
   ]
  },
  {
   "cell_type": "code",
   "execution_count": 142,
   "id": "62aef23c",
   "metadata": {},
   "outputs": [
    {
     "name": "stdout",
     "output_type": "stream",
     "text": [
      "www.clarusway.com will open your path."
     ]
    }
   ],
   "source": [
    "print('www', 'clarusway', \"com\", sep='.', end=' ')\n",
    "print('will', end=' ')\n",
    "print('open', end=' ')\n",
    "print('your', end=' ')\n",
    "print('path', end='.')"
   ]
  },
  {
   "cell_type": "code",
   "execution_count": 144,
   "id": "f598569d",
   "metadata": {},
   "outputs": [
    {
     "name": "stdout",
     "output_type": "stream",
     "text": [
      "clarusway2020\n"
     ]
    }
   ],
   "source": [
    "print(\"clarusway\" + \"2020\")"
   ]
  },
  {
   "cell_type": "code",
   "execution_count": 145,
   "id": "77b853cf",
   "metadata": {},
   "outputs": [
    {
     "name": "stdout",
     "output_type": "stream",
     "text": [
      "clarusway2020\n"
     ]
    }
   ],
   "source": [
    "print(\"clarusway\" + str(2020))"
   ]
  },
  {
   "cell_type": "code",
   "execution_count": null,
   "id": "cb400081",
   "metadata": {},
   "outputs": [],
   "source": []
  }
 ],
 "metadata": {
  "kernelspec": {
   "display_name": "Python 3 (ipykernel)",
   "language": "python",
   "name": "python3"
  },
  "language_info": {
   "codemirror_mode": {
    "name": "ipython",
    "version": 3
   },
   "file_extension": ".py",
   "mimetype": "text/x-python",
   "name": "python",
   "nbconvert_exporter": "python",
   "pygments_lexer": "ipython3",
   "version": "3.10.1"
  }
 },
 "nbformat": 4,
 "nbformat_minor": 5
}
