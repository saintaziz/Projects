{
 "cells": [
  {
   "cell_type": "code",
   "execution_count": 14,
   "id": "34db9639",
   "metadata": {},
   "outputs": [
    {
     "name": "stdout",
     "output_type": "stream",
     "text": [
      "What's the temprature in Celcius?\n",
      "1.0\n",
      "What about the Fahrenheit?\n"
     ]
    },
    {
     "data": {
      "text/plain": [
       "33.0"
      ]
     },
     "execution_count": 14,
     "metadata": {},
     "output_type": "execute_result"
    }
   ],
   "source": [
    "print (\"What's the temprature in Celcius?\")\n",
    "temperature = float (1)\n",
    "print (temperature)\n",
    "print ('What about the Fahrenheit?')\n",
    "temperature = temperature + 32\n",
    "temperature"
   ]
  },
  {
   "cell_type": "code",
   "execution_count": 21,
   "id": "5de9f247",
   "metadata": {},
   "outputs": [
    {
     "name": "stdout",
     "output_type": "stream",
     "text": [
      "What's the temprature in Celcius?\n",
      "1.0\n",
      "What about the Fahrenheit?\n"
     ]
    },
    {
     "data": {
      "text/plain": [
       "33.8"
      ]
     },
     "execution_count": 21,
     "metadata": {},
     "output_type": "execute_result"
    }
   ],
   "source": [
    "print (\"What's the temprature in Celcius?\")\n",
    "temperature_celcius = float (1)\n",
    "print (temperature_celcius)\n",
    "print ('What about the Fahrenheit?')\n",
    "temperature_fahrenheit = (temperature_celcius * 9/5) + 32\n",
    "temperature_fahrenheit"
   ]
  },
  {
   "cell_type": "code",
   "execution_count": 27,
   "id": "05534f1a",
   "metadata": {},
   "outputs": [
    {
     "name": "stdout",
     "output_type": "stream",
     "text": [
      "What's the distance in km?\n",
      "128.0\n",
      "What about the miles?\n"
     ]
    },
    {
     "data": {
      "text/plain": [
       "79.5525170913611"
      ]
     },
     "execution_count": 27,
     "metadata": {},
     "output_type": "execute_result"
    }
   ],
   "source": [
    "print (\"What's the distance in km?\")\n",
    "distance_km = float (128)\n",
    "print (distance_km)\n",
    "print ('What about the miles?')\n",
    "destance_miles = distance_km /1.609\n",
    "destance_miles"
   ]
  },
  {
   "cell_type": "code",
   "execution_count": null,
   "id": "73e9e929",
   "metadata": {},
   "outputs": [],
   "source": []
  }
 ],
 "metadata": {
  "kernelspec": {
   "display_name": "Python 3 (ipykernel)",
   "language": "python",
   "name": "python3"
  },
  "language_info": {
   "codemirror_mode": {
    "name": "ipython",
    "version": 3
   },
   "file_extension": ".py",
   "mimetype": "text/x-python",
   "name": "python",
   "nbconvert_exporter": "python",
   "pygments_lexer": "ipython3",
   "version": "3.10.1"
  }
 },
 "nbformat": 4,
 "nbformat_minor": 5
}
