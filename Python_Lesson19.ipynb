{
 "cells": [
  {
   "cell_type": "code",
   "execution_count": 1,
   "id": "da76cb83",
   "metadata": {},
   "outputs": [
    {
     "name": "stdout",
     "output_type": "stream",
     "text": [
      "clusway\n"
     ]
    }
   ],
   "source": [
    "word = 'clarusway'\n",
    "n = 3\n",
    "front = word.rstrip(word[n:])\n",
    "back = word.lstrip(word[:n+1])\n",
    "print(front + back)"
   ]
  },
  {
   "cell_type": "code",
   "execution_count": 12,
   "id": "f3467d27",
   "metadata": {},
   "outputs": [
    {
     "name": "stdout",
     "output_type": "stream",
     "text": [
      "clusway\n"
     ]
    }
   ],
   "source": [
    "word = 'clarusway'\n",
    "n = 3\n",
    "front = word.rstrip(word[n-1:])\n",
    "back = word.lstrip(word[:n+1])\n",
    "print(front + back)"
   ]
  },
  {
   "cell_type": "code",
   "execution_count": 13,
   "id": "97ca2aa0",
   "metadata": {},
   "outputs": [
    {
     "name": "stdout",
     "output_type": "stream",
     "text": [
      "cusway\n"
     ]
    }
   ],
   "source": [
    "word = 'clarusway'\n",
    "n = 3\n",
    "front = word.rstrip(word[n-2:])\n",
    "back = word.lstrip(word[:n+1])\n",
    "print(front + back)"
   ]
  },
  {
   "cell_type": "code",
   "execution_count": 19,
   "id": "936aaf88",
   "metadata": {},
   "outputs": [
    {
     "name": "stdout",
     "output_type": "stream",
     "text": [
      "clausway\n"
     ]
    }
   ],
   "source": [
    "word = 'clarusway'\n",
    "n = 3\n",
    "front = word[:n]\n",
    "back = word[n+1:]\n",
    "print(front + back)"
   ]
  },
  {
   "cell_type": "code",
   "execution_count": null,
   "id": "b68c0ae0",
   "metadata": {},
   "outputs": [],
   "source": []
  }
 ],
 "metadata": {
  "kernelspec": {
   "display_name": "Python 3 (ipykernel)",
   "language": "python",
   "name": "python3"
  },
  "language_info": {
   "codemirror_mode": {
    "name": "ipython",
    "version": 3
   },
   "file_extension": ".py",
   "mimetype": "text/x-python",
   "name": "python",
   "nbconvert_exporter": "python",
   "pygments_lexer": "ipython3",
   "version": "3.10.1"
  }
 },
 "nbformat": 4,
 "nbformat_minor": 5
}
