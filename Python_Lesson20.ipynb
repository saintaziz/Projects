{
 "cells": [
  {
   "cell_type": "code",
   "execution_count": 4,
   "id": "8f2195ad",
   "metadata": {},
   "outputs": [
    {
     "name": "stdout",
     "output_type": "stream",
     "text": [
      "S4 has max average grede which is 70.2, S1 has a min avarage grede which is 65.4\n"
     ]
    }
   ],
   "source": [
    "grades={'Student-1': {'Lesson-1': 57, 'Lesson-2': 46, 'Lesson-3': 58, 'Lesson-4': 81, 'Lesson-5': 85}, \n",
    "               'Student-2': {'Lesson-1': 85, 'Lesson-2': 56, 'Lesson-3': 51, 'Lesson-4': 69, 'Lesson-5': 67}, \n",
    "               'Student-3': {'Lesson-1': 68, 'Lesson-2': 76, 'Lesson-3': 87, 'Lesson-4': 57, 'Lesson-5': 56}, \n",
    "               'Student-4': {'Lesson-1': 78, 'Lesson-2': 93, 'Lesson-3': 88, 'Lesson-4': 38, 'Lesson-5': 54}, \n",
    "               'Student-5': {'Lesson-1': 50, 'Lesson-2': 46, 'Lesson-3': 78, 'Lesson-4': 81, 'Lesson-5': 75}}\n",
    "S1_Avg = sum(grades['Student-1'].values())/len(grades['Student-1'].values())\n",
    "S2_Avg = sum(grades['Student-2'].values())/len(grades['Student-2'].values())\n",
    "S3_Avg = sum(grades['Student-3'].values())/len(grades['Student-3'].values())\n",
    "S4_Avg = sum(grades['Student-4'].values())/len(grades['Student-4'].values())\n",
    "S5_Avg = sum(grades['Student-5'].values())/len(grades['Student-5'].values())\n",
    "New_Dict = {\"S1\":S1_Avg, \"S2\":S2_Avg, \"S3\":S3_Avg, \"S4\":S4_Avg, \"S5\":S5_Avg}\n",
    "max_avg_s = max(New_Dict, key = New_Dict.get)\n",
    "max_avg = max(New_Dict.values())\n",
    "min_avg_s = min(New_Dict, key = New_Dict.get)\n",
    "min_avg = min(New_Dict.values())\n",
    "print(f\"{max_avg_s} has max average grede which is {max_avg}, {min_avg_s} has a min avarage grede which is {min_avg}\")\n"
   ]
  },
  {
   "cell_type": "code",
   "execution_count": null,
   "id": "1c67b238",
   "metadata": {},
   "outputs": [],
   "source": []
  }
 ],
 "metadata": {
  "kernelspec": {
   "display_name": "Python 3 (ipykernel)",
   "language": "python",
   "name": "python3"
  },
  "language_info": {
   "codemirror_mode": {
    "name": "ipython",
    "version": 3
   },
   "file_extension": ".py",
   "mimetype": "text/x-python",
   "name": "python",
   "nbconvert_exporter": "python",
   "pygments_lexer": "ipython3",
   "version": "3.10.1"
  }
 },
 "nbformat": 4,
 "nbformat_minor": 5
}
