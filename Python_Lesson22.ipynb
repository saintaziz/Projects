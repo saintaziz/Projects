{
 "cells": [
  {
   "cell_type": "code",
   "execution_count": 7,
   "id": "64356bec",
   "metadata": {},
   "outputs": [
    {
     "name": "stdout",
     "output_type": "stream",
     "text": [
      "2\n",
      "[5, 6, 1, 2, 3, 4]\n"
     ]
    }
   ],
   "source": [
    "n = int(input(\"\"))\n",
    "list = [1,2,3,4,5,6]\n",
    "new_list = (list[len(list)-n:len(list)]+list[0:len(list)-n])\n",
    "print(new_list)"
   ]
  },
  {
   "cell_type": "code",
   "execution_count": 8,
   "id": "5b4488df",
   "metadata": {},
   "outputs": [
    {
     "data": {
      "text/plain": [
       "[1, 2, 3]"
      ]
     },
     "execution_count": 8,
     "metadata": {},
     "output_type": "execute_result"
    }
   ],
   "source": [
    "list = [1,2,3,4,5,6]\n",
    "list[0:3]"
   ]
  },
  {
   "cell_type": "code",
   "execution_count": 9,
   "id": "15d78d38",
   "metadata": {},
   "outputs": [
    {
     "name": "stdout",
     "output_type": "stream",
     "text": [
      "write a number 1 to 6: 3\n",
      "[4, 5, 6, 1, 2, 3]\n"
     ]
    }
   ],
   "source": [
    "num = int(input(\"write a number 1 to 6: \"))\n",
    "liste = [1, 2, 3, 4, 5, 6]\n",
    "y = liste[:num]\n",
    "x = liste[num:]\n",
    "print(x+y)"
   ]
  },
  {
   "cell_type": "code",
   "execution_count": 11,
   "id": "f04116da",
   "metadata": {},
   "outputs": [
    {
     "name": "stdout",
     "output_type": "stream",
     "text": [
      "a$i$\n"
     ]
    }
   ],
   "source": [
    "word = 'aziz'\n",
    "char = word[1]\n",
    "word = word.replace(char, '$')\n",
    "word = \n",
    "print(word)\n"
   ]
  },
  {
   "cell_type": "code",
   "execution_count": 29,
   "id": "0192856b",
   "metadata": {},
   "outputs": [
    {
     "name": "stdout",
     "output_type": "stream",
     "text": [
      "in put a word whatever you want: apdullalaah\n",
      "input number of the index = 0\n",
      "apdull$l$$h\n"
     ]
    }
   ],
   "source": [
    "word = str(input('in put a word whatever you want: '))\n",
    "n = int(input('input number of the index = '))\n",
    "char = word[n]\n",
    "new_word = word.replace(char,'$')\n",
    "new_word2 = word[:n+1]+new_word[n+1::]\n",
    "print(new_word2)"
   ]
  },
  {
   "cell_type": "code",
   "execution_count": 1,
   "id": "6418a987",
   "metadata": {},
   "outputs": [
    {
     "name": "stdout",
     "output_type": "stream",
     "text": [
      "a\n"
     ]
    }
   ],
   "source": [
    "print('a')"
   ]
  },
  {
   "cell_type": "code",
   "execution_count": 2,
   "id": "9fbe08d2",
   "metadata": {},
   "outputs": [
    {
     "name": "stdout",
     "output_type": "stream",
     "text": [
      "Please enter your name: aziz\n"
     ]
    }
   ],
   "source": [
    "name = input('Please enter your name: ')"
   ]
  },
  {
   "cell_type": "code",
   "execution_count": 9,
   "id": "7b3e4138",
   "metadata": {},
   "outputs": [
    {
     "name": "stdout",
     "output_type": "stream",
     "text": [
      "write a number 1 to 6: 5\n",
      "[6, 1, 2, 3, 4, 5]\n"
     ]
    }
   ],
   "source": [
    "num = int(input(\"write a number 1 to 6: \"))\n",
    "liste = [1, 2, 3, 4, 5, 6]\n",
    "y = liste[:num]\n",
    "x = liste[num:]\n",
    "print(x+y)"
   ]
  },
  {
   "cell_type": "code",
   "execution_count": 10,
   "id": "06f59f80",
   "metadata": {},
   "outputs": [
    {
     "name": "stdout",
     "output_type": "stream",
     "text": [
      "Hello\n",
      "World\n"
     ]
    }
   ],
   "source": [
    "print('Hello\\nWorld')"
   ]
  },
  {
   "cell_type": "code",
   "execution_count": 14,
   "id": "31641873",
   "metadata": {},
   "outputs": [
    {
     "data": {
      "text/plain": [
       "3.0"
      ]
     },
     "execution_count": 14,
     "metadata": {},
     "output_type": "execute_result"
    }
   ],
   "source": [
    "x = 6\n",
    "y = x / 2\n",
    "y"
   ]
  },
  {
   "cell_type": "code",
   "execution_count": 20,
   "id": "87a1cff7",
   "metadata": {},
   "outputs": [
    {
     "name": "stdout",
     "output_type": "stream",
     "text": [
      "Hello aziz  ozdemir\n"
     ]
    }
   ],
   "source": [
    "f_n='aziz'\n",
    "s_n='ozdemir'\n",
    "print( \"Hello \" + f_n + '  '+s_n)"
   ]
  },
  {
   "cell_type": "code",
   "execution_count": 25,
   "id": "80e1b079",
   "metadata": {},
   "outputs": [
    {
     "name": "stdout",
     "output_type": "stream",
     "text": [
      "Hello\n",
      "aziz  ozdemir\n"
     ]
    }
   ],
   "source": [
    "print( \"Hello\\n\" + f_n + '  '+s_n)"
   ]
  },
  {
   "cell_type": "code",
   "execution_count": 32,
   "id": "a49d6d34",
   "metadata": {},
   "outputs": [
    {
     "name": "stdout",
     "output_type": "stream",
     "text": [
      "please enter name=aziz \n",
      "pls enter surname= ozs\n"
     ]
    },
    {
     "data": {
      "text/plain": [
       "'Hello aziz  ozs'"
      ]
     },
     "execution_count": 32,
     "metadata": {},
     "output_type": "execute_result"
    }
   ],
   "source": [
    "f_n= input('please enter name=')\n",
    "s_n = input('pls enter surname= ')\n",
    "output= 'Hello {} {}'.format (f_n, s_n)\n",
    "output"
   ]
  },
  {
   "cell_type": "code",
   "execution_count": 33,
   "id": "abf00d6b",
   "metadata": {},
   "outputs": [
    {
     "name": "stdout",
     "output_type": "stream",
     "text": [
      "please enter name=a\n",
      "pls enter surname= u\n",
      "Hello a u\n"
     ]
    }
   ],
   "source": [
    "f_n= input('please enter name=')\n",
    "s_n = input('pls enter surname= ')\n",
    "print('Hello {} {}'.format (f_n, s_n))\n"
   ]
  },
  {
   "cell_type": "code",
   "execution_count": 35,
   "id": "30b73db8",
   "metadata": {},
   "outputs": [
    {
     "name": "stdout",
     "output_type": "stream",
     "text": [
      "please enter name=a\n",
      "pls enter surname= ı\n",
      "Hello a ı\n"
     ]
    }
   ],
   "source": [
    "f_n= input('please enter name=')\n",
    "s_n = input('pls enter surname= ')\n",
    "print(f\"Hello {f_n} {s_n}\")"
   ]
  },
  {
   "cell_type": "code",
   "execution_count": 36,
   "id": "a1544685",
   "metadata": {},
   "outputs": [
    {
     "name": "stdout",
     "output_type": "stream",
     "text": [
      "please enter name=a\n",
      "pls enter surname= u\n"
     ]
    },
    {
     "data": {
      "text/plain": [
       "'Hello a u'"
      ]
     },
     "execution_count": 36,
     "metadata": {},
     "output_type": "execute_result"
    }
   ],
   "source": [
    "f_n= input('please enter name=')\n",
    "s_n = input('pls enter surname= ')\n",
    "output = f\"Hello {f_n} {s_n}\"\n",
    "output"
   ]
  },
  {
   "cell_type": "code",
   "execution_count": 37,
   "id": "4c74ac08",
   "metadata": {},
   "outputs": [
    {
     "name": "stdout",
     "output_type": "stream",
     "text": [
      "please enter name=a\n",
      "pls enter surname= u\n",
      "Hello a u\n"
     ]
    }
   ],
   "source": [
    "f_n= input('please enter name=')\n",
    "s_n = input('pls enter surname= ')\n",
    "print( f\"Hello {f_n} {s_n}\")"
   ]
  },
  {
   "cell_type": "code",
   "execution_count": 38,
   "id": "b79c942a",
   "metadata": {},
   "outputs": [
    {
     "data": {
      "text/plain": [
       "8"
      ]
     },
     "execution_count": 38,
     "metadata": {},
     "output_type": "execute_result"
    }
   ],
   "source": [
    "x =5\n",
    "y = 3\n",
    "z = x+y\n",
    "z\n"
   ]
  },
  {
   "cell_type": "code",
   "execution_count": 39,
   "id": "6f6c7c6c",
   "metadata": {},
   "outputs": [
    {
     "name": "stdout",
     "output_type": "stream",
     "text": [
      "15\n"
     ]
    }
   ],
   "source": [
    "print(3*5)"
   ]
  },
  {
   "cell_type": "code",
   "execution_count": 44,
   "id": "d25bb522",
   "metadata": {},
   "outputs": [
    {
     "name": "stdout",
     "output_type": "stream",
     "text": [
      "5 days\n"
     ]
    }
   ],
   "source": [
    "d=5\n",
    "print(str(d)+' days')"
   ]
  },
  {
   "cell_type": "code",
   "execution_count": 47,
   "id": "841ddb50",
   "metadata": {},
   "outputs": [
    {
     "name": "stdout",
     "output_type": "stream",
     "text": [
      "5\n",
      "3\n"
     ]
    },
    {
     "data": {
      "text/plain": [
       "8"
      ]
     },
     "execution_count": 47,
     "metadata": {},
     "output_type": "execute_result"
    }
   ],
   "source": [
    "f=int(input())\n",
    "s=int(input())\n",
    "\n",
    "y = f+s\n",
    "y"
   ]
  },
  {
   "cell_type": "code",
   "execution_count": 48,
   "id": "33c2759e",
   "metadata": {},
   "outputs": [
    {
     "name": "stdout",
     "output_type": "stream",
     "text": [
      "8\n"
     ]
    }
   ],
   "source": [
    "f = 5\n",
    "s = 3\n",
    "print(f+s)"
   ]
  },
  {
   "cell_type": "code",
   "execution_count": null,
   "id": "122be697",
   "metadata": {},
   "outputs": [],
   "source": []
  },
  {
   "cell_type": "code",
   "execution_count": 9,
   "id": "91d28d8d",
   "metadata": {},
   "outputs": [
    {
     "name": "stdout",
     "output_type": "stream",
     "text": [
      "yes,this is canada\n"
     ]
    }
   ],
   "source": [
    "country = 'CANADA'\n",
    "if country.lower() == 'canada':\n",
    "    print('yes,this is canada')\n",
    "else :\n",
    "    print('sorry')"
   ]
  },
  {
   "cell_type": "code",
   "execution_count": 14,
   "id": "0fafe51d",
   "metadata": {},
   "outputs": [
    {
     "name": "stdout",
     "output_type": "stream",
     "text": [
      "Enter price of products : 0.8\n",
      "The tax rate is=0\n"
     ]
    }
   ],
   "source": [
    "price = float(input('Enter price of products : '))\n",
    "if price >= 1.00:\n",
    "    tax=0.7\n",
    "    print ('The tax rate is=' + str(tax))\n",
    "else:\n",
    "    tax = 0\n",
    "    print ('The tax rate is=' + str(tax))"
   ]
  },
  {
   "cell_type": "code",
   "execution_count": 93,
   "id": "68a56edb",
   "metadata": {},
   "outputs": [
    {
     "name": "stdout",
     "output_type": "stream",
     "text": [
      "enter a number : 16\n"
     ]
    },
    {
     "ename": "NameError",
     "evalue": "name 'kl' is not defined",
     "output_type": "error",
     "traceback": [
      "\u001b[0;31m---------------------------------------------------------------------------\u001b[0m",
      "\u001b[0;31mNameError\u001b[0m                                 Traceback (most recent call last)",
      "Input \u001b[0;32mIn [93]\u001b[0m, in \u001b[0;36m<module>\u001b[0;34m\u001b[0m\n\u001b[1;32m      3\u001b[0m \u001b[38;5;28;01mif\u001b[39;00m x\u001b[38;5;241m==\u001b[39m\u001b[38;5;241m1\u001b[39m:\n\u001b[1;32m      4\u001b[0m     kl\u001b[38;5;241m=\u001b[39mon\n\u001b[0;32m----> 5\u001b[0m \u001b[38;5;28mprint\u001b[39m(\u001b[38;5;28mstr\u001b[39m(\u001b[43mkl\u001b[49m))\n",
      "\u001b[0;31mNameError\u001b[0m: name 'kl' is not defined"
     ]
    }
   ],
   "source": [
    "num = input('enter a number : ')\n",
    "x = num[0]\n",
    "if x==1:\n",
    "    kl=on\n",
    "print(str(kl))"
   ]
  },
  {
   "cell_type": "code",
   "execution_count": 101,
   "id": "7d1cf940",
   "metadata": {},
   "outputs": [
    {
     "name": "stdout",
     "output_type": "stream",
     "text": [
      "enter a number = 84\n",
      "seksen dört "
     ]
    }
   ],
   "source": [
    "x = input (\"enter a number = \")\n",
    "num = x[0]\n",
    "dic = { \"1\":\"on \" , \"2\" : \"yirmi\" , \"3\" : \"otuz\" , \"4\" : \"kırk\" , \"5\" : \"elli\" , \"6\" : \"altmış\" , \"7\" : \"yetmiş\" , \"8\" : \"seksen\" , \"9\" : \"doksan\"}\n",
    "dic1 = { \"1\":\"bir \" , \"2\" : \"iki\" , \"3\" : \"üç\" , \"4\" : \"dört\" , \"5\" : \"beş\" , \"6\" : \"altı\" , \"7\" : \"yedi\" , \"8\" : \"sekiz\" , \"9\" : \"dokuz\"}\n",
    "for i in num :\n",
    "      print( dic[ i ], end = \" \")\n",
    "\n",
    "num_2= x[1]\n",
    "\n",
    "for i in num_2 :\n",
    "      print( dic1[ i ], end = \" \")\n",
    "        "
   ]
  },
  {
   "cell_type": "code",
   "execution_count": 114,
   "id": "b76bdad0",
   "metadata": {},
   "outputs": [
    {
     "name": "stdout",
     "output_type": "stream",
     "text": [
      "enter a number = 16\n",
      "on altı\n"
     ]
    }
   ],
   "source": [
    "x = input (\"enter a number = \")\n",
    "num = x[0]\n",
    "num_2= x[1]\n",
    "dic = { \"1\":\"on \" , \"2\" : \"yirmi\" , \"3\" : \"otuz\" , \"4\" : \"kırk\" , \"5\" : \"elli\" , \"6\" : \"altmış\" , \"7\" : \"yetmiş\" , \"8\" : \"seksen\" , \"9\" : \"doksan\"}\n",
    "dic1 = { \"1\":\"bir \" , \"2\" : \"iki\" , \"3\" : \"üç\" , \"4\" : \"dört\" , \"5\" : \"beş\" , \"6\" : \"altı\" , \"7\" : \"yedi\" , \"8\" : \"sekiz\" , \"9\" : \"dokuz\"}\n",
    "\n",
    "print(dic.get(num)+dic1.get(num_2))"
   ]
  },
  {
   "cell_type": "code",
   "execution_count": 115,
   "id": "00e37bba",
   "metadata": {
    "scrolled": true
   },
   "outputs": [
    {
     "name": "stdout",
     "output_type": "stream",
     "text": [
      "Bir Sayı Gİriniz  (1..99):  16\n",
      "Girmiş olduğunuz sayının okunuşu : On Altı\n"
     ]
    }
   ],
   "source": [
    "onlar = [\"\", \"On\", \"Yirmi\", \"Otuz\", \"Kırk\", \"Elli\", \"Altmış\", \"Yetmiş\", \"Seksen\", \"Doksan\"]\n",
    "birler = [\"\", \"Bir\", \"İki\", \"Üç\", \"Dört\", \"Beş\", \"Altı\", \"Yedi\", \"Sekiz\", \"Dokuz\"]\n",
    "sayı = str(input(\"Bir Sayı Gİriniz  (1..99):  \" ))\n",
    "print(\"Girmiş olduğunuz sayının okunuşu :\", onlar[int(sayı[0])],birler[int(sayı[1])])"
   ]
  },
  {
   "cell_type": "code",
   "execution_count": 6,
   "id": "15ff9e99",
   "metadata": {},
   "outputs": [
    {
     "name": "stdout",
     "output_type": "stream",
     "text": [
      "input a word : abaca\n",
      "False\n"
     ]
    }
   ],
   "source": [
    "x = input ('input a word : ')\n",
    "if x == x[::-1]:\n",
    "    print(True)\n",
    "else:\n",
    "    print(False)"
   ]
  },
  {
   "cell_type": "code",
   "execution_count": 3,
   "id": "17105760",
   "metadata": {},
   "outputs": [
    {
     "name": "stdout",
     "output_type": "stream",
     "text": [
      "dlroW olleH\n"
     ]
    }
   ],
   "source": [
    "txt = \"Hello World\"[::-1] \n",
    "print(txt)"
   ]
  },
  {
   "cell_type": "code",
   "execution_count": null,
   "id": "598f6b31",
   "metadata": {},
   "outputs": [],
   "source": [
    "Right = [y, u, i, o, p, h, j, k, l, n, m]\n",
    "\n",
    "Left = [q, w, e, r, t, a, s, d, f, g, z, x, c, v, b]"
   ]
  },
  {
   "cell_type": "code",
   "execution_count": 5,
   "id": "2230d413",
   "metadata": {},
   "outputs": [
    {
     "data": {
      "text/plain": [
       "{'b', 'd', 'r'}"
      ]
     },
     "execution_count": 5,
     "metadata": {},
     "output_type": "execute_result"
    }
   ],
   "source": [
    "a = set('abracadabra')\n",
    "b = set('alacazam')\n",
    "c = a.difference(b)\n",
    "c"
   ]
  },
  {
   "cell_type": "code",
   "execution_count": 37,
   "id": "8195b788",
   "metadata": {},
   "outputs": [
    {
     "name": "stdout",
     "output_type": "stream",
     "text": [
      "please enter : qwer\n",
      "[]\n"
     ]
    }
   ],
   "source": [
    "word = input('please enter : ')\n",
    "w = set(word)\n",
    "Right = ['y', 'u', 'i', 'o', 'p', 'h', 'j', 'k', 'l', 'n', 'm']\n",
    "x = set(Right)\n",
    "Left = ['q', 'w', 'e', 'r', 't', 'a', 's', 'd', 'f', 'g', 'z', 'x', 'c', 'v', 'b']\n",
    "y = set(Left)\n",
    "z = w.intersection(x)\n",
    "z1 = w.intersection(y)\n",
    "f = list(z)\n",
    "g = list(z1)\n",
    "print (boolf) and list(g))"
   ]
  },
  {
   "cell_type": "code",
   "execution_count": 39,
   "id": "26c0fcc7",
   "metadata": {},
   "outputs": [
    {
     "name": "stdout",
     "output_type": "stream",
     "text": [
      "please enter : aziz\n",
      "True\n"
     ]
    }
   ],
   "source": [
    "word = input('please enter : ')\n",
    "w = set(word)\n",
    "Right = ['y', 'u', 'i', 'o', 'p', 'h', 'j', 'k', 'l', 'n', 'm']\n",
    "x = set(Right)\n",
    "Left = ['q', 'w', 'e', 'r', 't', 'a', 's', 'd', 'f', 'g', 'z', 'x', 'c', 'v', 'b']\n",
    "y = set(Left)\n",
    "z = w.intersection(x)\n",
    "z1 = w.intersection(y)\n",
    "print(bool(z and z1))"
   ]
  },
  {
   "cell_type": "code",
   "execution_count": 26,
   "id": "ab038d78",
   "metadata": {},
   "outputs": [
    {
     "name": "stdout",
     "output_type": "stream",
     "text": [
      "True\n",
      "False\n"
     ]
    }
   ],
   "source": [
    "# in keyword in a set\n",
    "# initialize my_set\n",
    "my_set = set(\"apple\")\n",
    "\n",
    "# check if 'a' is present\n",
    "# Output: True\n",
    "print('a' in my_set)\n",
    "\n",
    "# check if 'p' is present\n",
    "# Output: False\n",
    "print('p' not in my_set)"
   ]
  },
  {
   "cell_type": "code",
   "execution_count": 58,
   "id": "26a857de",
   "metadata": {},
   "outputs": [
    {
     "name": "stdout",
     "output_type": "stream",
     "text": [
      "please enter : akif\n",
      "{'a', 'f'}\n"
     ]
    }
   ],
   "source": [
    "word = input('please enter : ')\n",
    "word = word.lower()\n",
    "w = set(word)\n",
    "Right = set('yuiophklnm')\n",
    "Left = set('qwertasdfgzxcvb')\n",
    "z = w.intersection(Right)\n",
    "z1 = w.intersection(Left)\n",
    "print(z and z1)"
   ]
  },
  {
   "cell_type": "code",
   "execution_count": 50,
   "id": "47061588",
   "metadata": {},
   "outputs": [
    {
     "data": {
      "text/plain": [
       "[1, 2, 4]"
      ]
     },
     "execution_count": 50,
     "metadata": {},
     "output_type": "execute_result"
    }
   ],
   "source": [
    "num = [1,2,3,4]\n",
    "num.remove(3)\n",
    "num"
   ]
  },
  {
   "cell_type": "code",
   "execution_count": 52,
   "id": "fe02c7bf",
   "metadata": {},
   "outputs": [
    {
     "data": {
      "text/plain": [
       "[1, 2, 3, 4]"
      ]
     },
     "execution_count": 52,
     "metadata": {},
     "output_type": "execute_result"
    }
   ],
   "source": [
    "num = [1,2,3,4]\n",
    "num.remove(3)\n",
    "num.insert(2,3)\n",
    "num"
   ]
  },
  {
   "cell_type": "code",
   "execution_count": 56,
   "id": "31aa39fd",
   "metadata": {},
   "outputs": [
    {
     "data": {
      "text/plain": [
       "[1, 2, 3]"
      ]
     },
     "execution_count": 56,
     "metadata": {},
     "output_type": "execute_result"
    }
   ],
   "source": [
    "num = [1,2,3,4]\n",
    "num.pop()\n",
    "num"
   ]
  },
  {
   "cell_type": "code",
   "execution_count": 57,
   "id": "e59f2ccf",
   "metadata": {},
   "outputs": [
    {
     "data": {
      "text/plain": [
       "[1, 2, 4]"
      ]
     },
     "execution_count": 57,
     "metadata": {},
     "output_type": "execute_result"
    }
   ],
   "source": [
    "num = [1,2,3,4]\n",
    "del num[2]\n",
    "num\n"
   ]
  },
  {
   "cell_type": "code",
   "execution_count": 3,
   "id": "6cb4c358",
   "metadata": {},
   "outputs": [
    {
     "name": "stdout",
     "output_type": "stream",
     "text": [
      "clarusway.com\n"
     ]
    }
   ],
   "source": [
    "mail = \"mailto: Clarusway admission@clarusway.com, 6 Haz 2021 Paz, 21:08 tarihinde şunu yazdı:\"\n",
    "mail = mail[28:41]\n",
    "print(mail)"
   ]
  },
  {
   "cell_type": "code",
   "execution_count": 6,
   "id": "fd20b58c",
   "metadata": {},
   "outputs": [
    {
     "name": "stdout",
     "output_type": "stream",
     "text": [
      "clarusway.com,\n"
     ]
    }
   ],
   "source": [
    "mail = \"mailto: Clarusway admission@clarusway.com, 6 Haz 2021 Paz, 21:08 tarihinde şunu yazdı:\"\n",
    "x = mail.find(\"@\")\n",
    "print(mail[x+1:x+15])"
   ]
  },
  {
   "cell_type": "code",
   "execution_count": 7,
   "id": "cf55802d",
   "metadata": {},
   "outputs": [
    {
     "data": {
      "text/plain": [
       "'The University of Hawaii began using radio to send digital information as early a Friedhelm Hillebrand conceptualised SMS in 1984 while working for Deutsche Telekom. Sitting Hillebrand typed out random sentences and counted every letter, number, punctuation, and sp Almost every time, the messages contained fewer than 160 characters, thus giving the basis limit one could type via text messaging. With Bernard Ghillebaert of France T\\u2002l\\u2002com, he dev a proposal for the GSM (Groupe Sp\\u2002cial Mobile) meeting in February 1985 in Oslo. The first technical solution evolved in a GSM subgroup under the leadership of Finn Trosby. It was further developed under the leadership of Kevin Holley and Ian Harris (see Short Mes SMS forms an integral part of SS7 (Signalling System No. 7). under SS7, it is a \"state\" wit coded in the ITU-T \"T.56\" text format, that has a \"sequence lead in\" to determine different and may have special character codes that permits, for example, sending simple graphs as te This was part of ISDN (Integrated Services Digital Network) and since GSM is based on this, made its way to the mobile phone. Messages could be sent and received on ISDN phones, and these can send SMS to any GSM phone. The possibility of doing something is one thing, implementing it another, but systems existed from 1988 that sent SMS messages to mobile phophones (compare ND-NOTIS).'"
      ]
     },
     "execution_count": 7,
     "metadata": {},
     "output_type": "execute_result"
    }
   ],
   "source": [
    "text = \"\"\"The University of Hawaii began using radio to send digital information as early a Friedhelm Hillebrand conceptualised SMS in 1984 while working for Deutsche Telekom. Sitting Hillebrand typed out random sentences and counted every letter, number, punctuation, and sp Almost every time, the messages contained fewer than 160 characters, thus giving the basis limit one could type via text messaging. With Bernard Ghillebaert of France T l com, he dev a proposal for the GSM (Groupe Sp cial Mobile) meeting in February 1985 in Oslo. The first technical solution evolved in a GSM subgroup under the leadership of Finn Trosby. It was further developed under the leadership of Kevin Holley and Ian Harris (see Short Mes SMS forms an integral part of SS7 (Signalling System No. 7). under SS7, it is a \"state\" wit coded in the ITU-T \"T.56\" text format, that has a \"sequence lead in\" to determine different and may have special character codes that permits, for example, sending simple graphs as te This was part of ISDN (Integrated Services Digital Network) and since GSM is based on this, made its way to the mobile phone. Messages could be sent and received on ISDN phones, and these can send SMS to any GSM phone. The possibility of doing something is one thing, implementing it another, but systems existed from 1988 that sent SMS messages to mobile phophones (compare ND-NOTIS).\"\"\"\n",
    "text"
   ]
  },
  {
   "cell_type": "code",
   "execution_count": 9,
   "id": "24bfaf66",
   "metadata": {},
   "outputs": [
    {
     "data": {
      "text/plain": [
       "1375"
      ]
     },
     "execution_count": 9,
     "metadata": {},
     "output_type": "execute_result"
    }
   ],
   "source": [
    "x=len(text)\n",
    "x"
   ]
  },
  {
   "cell_type": "code",
   "execution_count": 11,
   "id": "b7bf1a4d",
   "metadata": {},
   "outputs": [
    {
     "data": {
      "text/plain": [
       "231"
      ]
     },
     "execution_count": 11,
     "metadata": {},
     "output_type": "execute_result"
    }
   ],
   "source": [
    "x = len(text.split())\n",
    "x"
   ]
  },
  {
   "cell_type": "code",
   "execution_count": 27,
   "id": "0d78fcf6",
   "metadata": {},
   "outputs": [
    {
     "data": {
      "text/plain": [
       "168"
      ]
     },
     "execution_count": 27,
     "metadata": {},
     "output_type": "execute_result"
    }
   ],
   "source": [
    "set1 = len(set(text.split()))\n",
    "set1"
   ]
  },
  {
   "cell_type": "code",
   "execution_count": 13,
   "id": "6024c838",
   "metadata": {},
   "outputs": [
    {
     "data": {
      "text/plain": [
       "4.2"
      ]
     },
     "execution_count": 13,
     "metadata": {},
     "output_type": "execute_result"
    }
   ],
   "source": [
    "numberofwords = len(text.split())\n",
    "numberofuniquewords = len(set(text))\n",
    "lexical_diversity = numberofwords/numberofuniquewords\n",
    "lexical_diversity"
   ]
  },
  {
   "cell_type": "code",
   "execution_count": 14,
   "id": "0db63909",
   "metadata": {},
   "outputs": [
    {
     "data": {
      "text/plain": [
       "13"
      ]
     },
     "execution_count": 14,
     "metadata": {},
     "output_type": "execute_result"
    }
   ],
   "source": [
    "z1 = text.upper()\n",
    "b = z1.count('the'.upper())\n",
    "b"
   ]
  },
  {
   "cell_type": "code",
   "execution_count": 15,
   "id": "53719d89",
   "metadata": {},
   "outputs": [
    {
     "data": {
      "text/plain": [
       "78"
      ]
     },
     "execution_count": 15,
     "metadata": {},
     "output_type": "execute_result"
    }
   ],
   "source": [
    "c = z1.count('a'.upper())\n",
    "c"
   ]
  },
  {
   "cell_type": "code",
   "execution_count": 18,
   "id": "1bbffae3",
   "metadata": {},
   "outputs": [
    {
     "data": {
      "text/plain": [
       "'The Univer'"
      ]
     },
     "execution_count": 18,
     "metadata": {},
     "output_type": "execute_result"
    }
   ],
   "source": [
    "a= text[0:10]\n",
    "a"
   ]
  },
  {
   "cell_type": "code",
   "execution_count": 23,
   "id": "0e5af70e",
   "metadata": {},
   "outputs": [
    {
     "name": "stdout",
     "output_type": "stream",
     "text": [
      "The University of Hawaii began using radio to send digital\n"
     ]
    }
   ],
   "source": [
    "list1 = list(text.split())\n",
    "a = list1[0:10]\n",
    "str = ' '.join(a)\n",
    "print(str)"
   ]
  },
  {
   "cell_type": "code",
   "execution_count": 29,
   "id": "3b61e432",
   "metadata": {},
   "outputs": [
    {
     "data": {
      "text/plain": [
       "'Saint Ozdemir'"
      ]
     },
     "execution_count": 29,
     "metadata": {},
     "output_type": "execute_result"
    }
   ],
   "source": [
    "text = 'Aziz Ozdemir'\n",
    "text1 = text.replace('Aziz','Saint')\n",
    "text1"
   ]
  },
  {
   "cell_type": "code",
   "execution_count": null,
   "id": "348f31dc",
   "metadata": {},
   "outputs": [],
   "source": []
  }
 ],
 "metadata": {
  "kernelspec": {
   "display_name": "Python 3 (ipykernel)",
   "language": "python",
   "name": "python3"
  },
  "language_info": {
   "codemirror_mode": {
    "name": "ipython",
    "version": 3
   },
   "file_extension": ".py",
   "mimetype": "text/x-python",
   "name": "python",
   "nbconvert_exporter": "python",
   "pygments_lexer": "ipython3",
   "version": "3.10.1"
  }
 },
 "nbformat": 4,
 "nbformat_minor": 5
}
