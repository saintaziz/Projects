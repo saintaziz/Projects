{
 "cells": [
  {
   "cell_type": "code",
   "execution_count": 5,
   "id": "2cec567a",
   "metadata": {},
   "outputs": [
    {
     "name": "stdout",
     "output_type": "stream",
     "text": [
      "Enter your name please : aziz\n",
      "Hello, aziz, See you later.\n"
     ]
    }
   ],
   "source": [
    "name = (input('Enter your name please : '))\n",
    "if name == 'Aziz':\n",
    "    print(\"Hello, Aziz! The password is : W@12\")\n",
    "else:\n",
    "    print(f\"Hello, {name}, See you later.\")\n"
   ]
  },
  {
   "cell_type": "code",
   "execution_count": 10,
   "id": "fc862c94",
   "metadata": {},
   "outputs": [
    {
     "name": "stdout",
     "output_type": "stream",
     "text": [
      "123qweASD\n"
     ]
    }
   ],
   "source": [
    "passcode = {\"Name\" : \"Akif\", \"Passcode\" : \"123qweASD\"}\n",
    "print(passcode[\"Passcode\"])"
   ]
  },
  {
   "cell_type": "code",
   "execution_count": 15,
   "id": "fa786a15",
   "metadata": {},
   "outputs": [
    {
     "name": "stdout",
     "output_type": "stream",
     "text": [
      "Are you a cigarette addict older than 75 years old? :No\n",
      "False\n"
     ]
    }
   ],
   "source": [
    "age = input('Are you a cigarette addict older than 75 years old? :')\n",
    "if age == 'Yes':\n",
    "   print('True')\n",
    "else:\n",
    "    print('False')\n"
   ]
  },
  {
   "cell_type": "code",
   "execution_count": 17,
   "id": "22d178fc",
   "metadata": {},
   "outputs": [
    {
     "data": {
      "text/plain": [
       "[0, 1, 2, 3, 4, 5, 6, 7, 8, 9]"
      ]
     },
     "execution_count": 17,
     "metadata": {},
     "output_type": "execute_result"
    }
   ],
   "source": [
    "name = list(range(10))\n",
    "name"
   ]
  },
  {
   "cell_type": "code",
   "execution_count": 18,
   "id": "de61c507",
   "metadata": {},
   "outputs": [
    {
     "data": {
      "text/plain": [
       "['Tokyo', 'Istanbul', 'Moskow', 'Dublin']"
      ]
     },
     "execution_count": 18,
     "metadata": {},
     "output_type": "execute_result"
    }
   ],
   "source": [
    "city_list = ['Tokyo', 'Istanbul', 'Moskow', 'Dublin']\n",
    "\n",
    "city_tuple = tuple(city_list)\n",
    "city_list"
   ]
  },
  {
   "cell_type": "code",
   "execution_count": 26,
   "id": "80eaf0a3",
   "metadata": {},
   "outputs": [
    {
     "data": {
      "text/plain": [
       "1"
      ]
     },
     "execution_count": 26,
     "metadata": {},
     "output_type": "execute_result"
    }
   ],
   "source": [
    "x = city_list.index('Istanbul')\n",
    "x"
   ]
  },
  {
   "cell_type": "code",
   "execution_count": 27,
   "id": "36dcf466",
   "metadata": {},
   "outputs": [
    {
     "name": "stdout",
     "output_type": "stream",
     "text": [
      "33\n"
     ]
    }
   ],
   "source": [
    "print(0xA + 0xB + 0xC)"
   ]
  },
  {
   "cell_type": "code",
   "execution_count": 28,
   "id": "8997ee69",
   "metadata": {},
   "outputs": [
    {
     "name": "stdout",
     "output_type": "stream",
     "text": [
      "cd\n"
     ]
    }
   ],
   "source": [
    "print(\"abcd\"[2:])"
   ]
  },
  {
   "cell_type": "code",
   "execution_count": 29,
   "id": "443a4aba",
   "metadata": {},
   "outputs": [
    {
     "name": "stdout",
     "output_type": "stream",
     "text": [
      "o\n"
     ]
    }
   ],
   "source": [
    "str1 = \"hello\"\n",
    "str2 = \",\"\n",
    "str3 = \"world\"\n",
    "print(str1[-1:])\n",
    "str1 = \"world\""
   ]
  },
  {
   "cell_type": "code",
   "execution_count": 30,
   "id": "97dc61e6",
   "metadata": {},
   "outputs": [
    {
     "name": "stdout",
     "output_type": "stream",
     "text": [
      "\\nhello\n"
     ]
    }
   ],
   "source": [
    "print(r\"\\nhello\")"
   ]
  },
  {
   "cell_type": "code",
   "execution_count": 31,
   "id": "ccb426b4",
   "metadata": {},
   "outputs": [
    {
     "name": "stdout",
     "output_type": "stream",
     "text": [
      "newline\n"
     ]
    }
   ],
   "source": [
    "print(\"new\" \"line\")"
   ]
  },
  {
   "cell_type": "code",
   "execution_count": 32,
   "id": "6b1b1392",
   "metadata": {},
   "outputs": [
    {
     "name": "stdout",
     "output_type": "stream",
     "text": [
      "3\n"
     ]
    }
   ],
   "source": [
    "print(3)"
   ]
  },
  {
   "cell_type": "code",
   "execution_count": 36,
   "id": "18aba676",
   "metadata": {},
   "outputs": [
    {
     "name": "stdout",
     "output_type": "stream",
     "text": [
      "newlineend\n"
     ]
    }
   ],
   "source": [
    "print(\"new\"\"line\"\"end\")"
   ]
  },
  {
   "cell_type": "code",
   "execution_count": 37,
   "id": "91c60adb",
   "metadata": {},
   "outputs": [
    {
     "name": "stdout",
     "output_type": "stream",
     "text": [
      "newlineend 3\n"
     ]
    }
   ],
   "source": [
    "print(\"new\" \"line\" \"end\", 3)"
   ]
  },
  {
   "cell_type": "code",
   "execution_count": 38,
   "id": "2ffc48af",
   "metadata": {},
   "outputs": [
    {
     "name": "stdout",
     "output_type": "stream",
     "text": [
      "yawusralc\n"
     ]
    }
   ],
   "source": [
    "\n",
    "str1 = \"clarsuway\"\n",
    "print(str1[::-1])"
   ]
  },
  {
   "cell_type": "code",
   "execution_count": 53,
   "id": "bf7951da",
   "metadata": {},
   "outputs": [
    {
     "data": {
      "text/plain": [
       "[1, 2, 3]"
      ]
     },
     "execution_count": 53,
     "metadata": {},
     "output_type": "execute_result"
    }
   ],
   "source": [
    "nums = [1,2,3,4]\n",
    "nums\n",
    "nums.pop()\n",
    "nums"
   ]
  },
  {
   "cell_type": "code",
   "execution_count": 61,
   "id": "4a59f8cc",
   "metadata": {},
   "outputs": [
    {
     "data": {
      "text/plain": [
       "[1, 2, 3, 4, 'hello', 'aziz']"
      ]
     },
     "execution_count": 61,
     "metadata": {},
     "output_type": "execute_result"
    }
   ],
   "source": [
    "nums = [1,2,3,4]\n",
    "nums\n",
    "nums.extend(['hello', 'aziz'])\n",
    "nums"
   ]
  },
  {
   "cell_type": "code",
   "execution_count": 62,
   "id": "ee9bd842",
   "metadata": {},
   "outputs": [
    {
     "data": {
      "text/plain": [
       "[1, 2, 3, 4, 5, 'hello']"
      ]
     },
     "execution_count": 62,
     "metadata": {},
     "output_type": "execute_result"
    }
   ],
   "source": [
    "nums = [1,2,3,4]\n",
    "nums\n",
    "nums.append(5)\n",
    "nums\n",
    "nums.append('hello')\n",
    "nums"
   ]
  },
  {
   "cell_type": "code",
   "execution_count": 64,
   "id": "4a8488c3",
   "metadata": {},
   "outputs": [
    {
     "data": {
      "text/plain": [
       "[1, 2, 3, 4]"
      ]
     },
     "execution_count": 64,
     "metadata": {},
     "output_type": "execute_result"
    }
   ],
   "source": [
    "nums = [2,3,4]\n",
    "nums.insert(0,1)\n",
    "nums"
   ]
  },
  {
   "cell_type": "code",
   "execution_count": 66,
   "id": "6b1b6d61",
   "metadata": {},
   "outputs": [
    {
     "data": {
      "text/plain": [
       "['two and half', 2, 3, 4]"
      ]
     },
     "execution_count": 66,
     "metadata": {},
     "output_type": "execute_result"
    }
   ],
   "source": [
    "nums = [2,3,4]\n",
    "nums.insert(0,'two and half')\n",
    "nums"
   ]
  },
  {
   "cell_type": "code",
   "execution_count": 72,
   "id": "4a337612",
   "metadata": {},
   "outputs": [
    {
     "data": {
      "text/plain": [
       "['D', 'o', 'n', 't', ' ', 'P', 'a', 'n', 'i', 'c', '!']"
      ]
     },
     "execution_count": 72,
     "metadata": {},
     "output_type": "execute_result"
    }
   ],
   "source": [
    "plist = list(\"Don't Panic!\")\n",
    "plist\n",
    "plist.remove(\"'\")\n",
    "plist"
   ]
  },
  {
   "cell_type": "code",
   "execution_count": 88,
   "id": "a4999e8d",
   "metadata": {},
   "outputs": [
    {
     "name": "stdout",
     "output_type": "stream",
     "text": [
      "p a n D a\n"
     ]
    }
   ],
   "source": [
    "plist = \"Don't panic!\"\n",
    "a = list(plist)\n",
    "del a[3]\n",
    "del a[-1]\n",
    "del a[0]\n",
    "del a[4:7]\n",
    "a.extend([\"p\", \"a\", \"n\", \"D\"])\n",
    "b = a[6:10]\n",
    "b.append('a')\n",
    "b = ' '.join(b)\n",
    "print(b)"
   ]
  },
  {
   "cell_type": "code",
   "execution_count": 121,
   "id": "de1ae891",
   "metadata": {},
   "outputs": [
    {
     "data": {
      "text/plain": [
       "(31, 24, 35, 85)"
      ]
     },
     "execution_count": 121,
     "metadata": {},
     "output_type": "execute_result"
    }
   ],
   "source": [
    "tuple1 = (31,24,35,85)\n",
    "list1 = tuple1"
   ]
  },
  {
   "cell_type": "code",
   "execution_count": null,
   "id": "db213d1d",
   "metadata": {},
   "outputs": [],
   "source": []
  }
 ],
 "metadata": {
  "kernelspec": {
   "display_name": "Python 3 (ipykernel)",
   "language": "python",
   "name": "python3"
  },
  "language_info": {
   "codemirror_mode": {
    "name": "ipython",
    "version": 3
   },
   "file_extension": ".py",
   "mimetype": "text/x-python",
   "name": "python",
   "nbconvert_exporter": "python",
   "pygments_lexer": "ipython3",
   "version": "3.10.1"
  }
 },
 "nbformat": 4,
 "nbformat_minor": 5
}
