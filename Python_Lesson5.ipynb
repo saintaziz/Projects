{
 "cells": [
  {
   "cell_type": "code",
   "execution_count": 4,
   "id": "b253bd5b",
   "metadata": {},
   "outputs": [
    {
     "name": "stdout",
     "output_type": "stream",
     "text": [
      "5-False-ahmet-3.14\n"
     ]
    }
   ],
   "source": [
    "c = 5\n",
    "print(c, False, \"ahmet\", 3.14, sep = \"-\")"
   ]
  },
  {
   "cell_type": "code",
   "execution_count": 6,
   "id": "4c5816c3",
   "metadata": {},
   "outputs": [
    {
     "name": "stdout",
     "output_type": "stream",
     "text": [
      "ali veli ayşe\n"
     ]
    }
   ],
   "source": [
    "print(\"ali\", end = \" \")\n",
    "print (\"veli\", \"ayşe\")"
   ]
  },
  {
   "cell_type": "code",
   "execution_count": null,
   "id": "0bdd9c97",
   "metadata": {},
   "outputs": [],
   "source": []
  }
 ],
 "metadata": {
  "kernelspec": {
   "display_name": "Python 3 (ipykernel)",
   "language": "python",
   "name": "python3"
  },
  "language_info": {
   "codemirror_mode": {
    "name": "ipython",
    "version": 3
   },
   "file_extension": ".py",
   "mimetype": "text/x-python",
   "name": "python",
   "nbconvert_exporter": "python",
   "pygments_lexer": "ipython3",
   "version": "3.10.1"
  }
 },
 "nbformat": 4,
 "nbformat_minor": 5
}
