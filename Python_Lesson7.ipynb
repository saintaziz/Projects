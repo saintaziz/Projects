{
 "cells": [
  {
   "cell_type": "code",
   "execution_count": 1,
   "id": "e3103332",
   "metadata": {},
   "outputs": [
    {
     "name": "stdout",
     "output_type": "stream",
     "text": [
      "c:\\northpole\n"
     ]
    }
   ],
   "source": [
    "print('c:\\\\northpole')"
   ]
  },
  {
   "cell_type": "code",
   "execution_count": 2,
   "id": "d5525636",
   "metadata": {},
   "outputs": [
    {
     "name": "stdout",
     "output_type": "stream",
     "text": [
      "c:\n",
      "orthpole\n"
     ]
    }
   ],
   "source": [
    "print ('c:\\northpole')"
   ]
  },
  {
   "cell_type": "code",
   "execution_count": 3,
   "id": "c894625f",
   "metadata": {},
   "outputs": [
    {
     "name": "stdout",
     "output_type": "stream",
     "text": [
      "c:\\northpole\tpoinse\n"
     ]
    }
   ],
   "source": [
    "print('c:\\\\northpole\\tpoinse')"
   ]
  },
  {
   "cell_type": "code",
   "execution_count": 12,
   "id": "050df63f",
   "metadata": {},
   "outputs": [],
   "source": [
    "text =('Clarusway, Clarusway, Clarusway\\n \\t Clarusway, Clarusway, Clarusway\\n \\t \\t Clarusway, Clarusway, Clarusway')"
   ]
  },
  {
   "cell_type": "code",
   "execution_count": 13,
   "id": "7bce8321",
   "metadata": {},
   "outputs": [
    {
     "name": "stdout",
     "output_type": "stream",
     "text": [
      "Clarusway, Clarusway, Clarusway\n",
      " \t Clarusway, Clarusway, Clarusway\n",
      " \t \t Clarusway, Clarusway, Clarusway\n"
     ]
    }
   ],
   "source": [
    "print(text)"
   ]
  },
  {
   "cell_type": "code",
   "execution_count": 14,
   "id": "55833bcf",
   "metadata": {},
   "outputs": [
    {
     "name": "stdout",
     "output_type": "stream",
     "text": [
      "[]\n"
     ]
    }
   ],
   "source": [
    "print (False and {0} or [])"
   ]
  },
  {
   "cell_type": "code",
   "execution_count": 15,
   "id": "51cd4dbc",
   "metadata": {},
   "outputs": [
    {
     "name": "stdout",
     "output_type": "stream",
     "text": [
      "hello\n"
     ]
    }
   ],
   "source": [
    "print (\"hello\") # this is starting code"
   ]
  },
  {
   "cell_type": "code",
   "execution_count": 16,
   "id": "6012730d",
   "metadata": {},
   "outputs": [
    {
     "name": "stdout",
     "output_type": "stream",
     "text": [
      "\n",
      "Hi, I am the docstring of this code. \n",
      "If you need any information about this function or module, read me. \n",
      "It can help you understand how the module or function works.\n",
      "    \n"
     ]
    }
   ],
   "source": [
    "def function(): # Don't be confused, we use 'def()' to create a function. \n",
    "                # You will see it in the next lessons.\n",
    "    \"\"\"\n",
    "Hi, I am the docstring of this code. \n",
    "If you need any information about this function or module, read me. \n",
    "It can help you understand how the module or function works.\n",
    "    \"\"\"\n",
    "print(function.__doc__)"
   ]
  },
  {
   "cell_type": "code",
   "execution_count": 17,
   "id": "1ea239d9",
   "metadata": {},
   "outputs": [
    {
     "name": "stdout",
     "output_type": "stream",
     "text": [
      "Praesent a, mi mattis velit metus,\n",
      "accumsan adipiscing ipsum sit justo\n",
      "penatibus, amet mauris non tempus justo.\n"
     ]
    }
   ],
   "source": [
    "print(\"\"\"Praesent a, mi mattis velit metus,\n",
    "accumsan adipiscing ipsum sit justo\n",
    "penatibus, amet mauris non tempus justo.\"\"\")"
   ]
  },
  {
   "cell_type": "code",
   "execution_count": 22,
   "id": "56c1c3ae",
   "metadata": {},
   "outputs": [
    {
     "name": "stdout",
     "output_type": "stream",
     "text": [
      "6.140000000000001\n"
     ]
    }
   ],
   "source": [
    "print(3.14 + 3 )"
   ]
  },
  {
   "cell_type": "code",
   "execution_count": 23,
   "id": "6c864544",
   "metadata": {},
   "outputs": [
    {
     "name": "stdout",
     "output_type": "stream",
     "text": [
      "'We should have enough time for our family\"\n"
     ]
    }
   ],
   "source": [
    "print(''''We should have enough time for our family\"''')"
   ]
  },
  {
   "cell_type": "code",
   "execution_count": 24,
   "id": "a7f13dfd",
   "metadata": {},
   "outputs": [],
   "source": [
    "x = [\"apple\", \"banana\", \"cherry\"]"
   ]
  },
  {
   "cell_type": "code",
   "execution_count": 25,
   "id": "084ca174",
   "metadata": {},
   "outputs": [
    {
     "name": "stdout",
     "output_type": "stream",
     "text": [
      "['apple', 'banana', 'cherry']\n"
     ]
    }
   ],
   "source": [
    "print(x)"
   ]
  },
  {
   "cell_type": "code",
   "execution_count": 26,
   "id": "9ed32361",
   "metadata": {},
   "outputs": [],
   "source": [
    "x = (\"apple\", \"banana\", \"cherry\")"
   ]
  },
  {
   "cell_type": "code",
   "execution_count": 27,
   "id": "10e6617c",
   "metadata": {},
   "outputs": [
    {
     "name": "stdout",
     "output_type": "stream",
     "text": [
      "('apple', 'banana', 'cherry')\n"
     ]
    }
   ],
   "source": [
    "print(x)"
   ]
  },
  {
   "cell_type": "code",
   "execution_count": 28,
   "id": "27824cdb",
   "metadata": {},
   "outputs": [
    {
     "name": "stdout",
     "output_type": "stream",
     "text": [
      "{'name': 'John', 'age': 36}\n"
     ]
    }
   ],
   "source": [
    "x = {\"name\" : \"John\", \"age\" : 36}\n",
    "print(x)"
   ]
  },
  {
   "cell_type": "code",
   "execution_count": 29,
   "id": "18513b52",
   "metadata": {},
   "outputs": [],
   "source": [
    "x=5\n",
    "x = float (x)"
   ]
  },
  {
   "cell_type": "code",
   "execution_count": 30,
   "id": "271df7f3",
   "metadata": {},
   "outputs": [
    {
     "name": "stdout",
     "output_type": "stream",
     "text": [
      "5.0\n"
     ]
    }
   ],
   "source": [
    "print (x)"
   ]
  },
  {
   "cell_type": "code",
   "execution_count": 32,
   "id": "bc906194",
   "metadata": {},
   "outputs": [
    {
     "name": "stdout",
     "output_type": "stream",
     "text": [
      "11\n"
     ]
    }
   ],
   "source": [
    "x = \"Hello World\"\n",
    "print(len(x))"
   ]
  },
  {
   "cell_type": "code",
   "execution_count": 39,
   "id": "7e2464f9",
   "metadata": {},
   "outputs": [
    {
     "name": "stdout",
     "output_type": "stream",
     "text": [
      "Hello Wor\n"
     ]
    }
   ],
   "source": [
    "txt = \"Hello World\"\n",
    "x = txt[0:-2]\n",
    "print(x)"
   ]
  },
  {
   "cell_type": "code",
   "execution_count": null,
   "id": "5f360424",
   "metadata": {},
   "outputs": [],
   "source": []
  },
  {
   "cell_type": "code",
   "execution_count": null,
   "id": "dc84f530",
   "metadata": {},
   "outputs": [],
   "source": []
  }
 ],
 "metadata": {
  "kernelspec": {
   "display_name": "Python 3 (ipykernel)",
   "language": "python",
   "name": "python3"
  },
  "language_info": {
   "codemirror_mode": {
    "name": "ipython",
    "version": 3
   },
   "file_extension": ".py",
   "mimetype": "text/x-python",
   "name": "python",
   "nbconvert_exporter": "python",
   "pygments_lexer": "ipython3",
   "version": "3.10.1"
  }
 },
 "nbformat": 4,
 "nbformat_minor": 5
}
