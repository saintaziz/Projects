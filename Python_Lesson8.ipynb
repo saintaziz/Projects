{
 "cells": [
  {
   "cell_type": "code",
   "execution_count": 2,
   "id": "62e94489",
   "metadata": {},
   "outputs": [
    {
     "name": "stdout",
     "output_type": "stream",
     "text": [
      "please enter weekly hour48\n",
      "your wage (960, 5)\n"
     ]
    }
   ],
   "source": [
    "hours = int(input(\"please enter weekly hour\"))\n",
    "if hours <= 40:\n",
    "    wage = 40 * 20\n",
    "else :\n",
    "    wage = 40 * 20 +(hours-40) * 20 * 1,5\n",
    "\n",
    "print(\"your wage\", wage)"
   ]
  },
  {
   "cell_type": "code",
   "execution_count": null,
   "id": "f8de1900",
   "metadata": {},
   "outputs": [],
   "source": []
  }
 ],
 "metadata": {
  "kernelspec": {
   "display_name": "Python 3 (ipykernel)",
   "language": "python",
   "name": "python3"
  },
  "language_info": {
   "codemirror_mode": {
    "name": "ipython",
    "version": 3
   },
   "file_extension": ".py",
   "mimetype": "text/x-python",
   "name": "python",
   "nbconvert_exporter": "python",
   "pygments_lexer": "ipython3",
   "version": "3.10.1"
  }
 },
 "nbformat": 4,
 "nbformat_minor": 5
}
