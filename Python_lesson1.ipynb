{
 "cells": [
  {
   "cell_type": "code",
   "execution_count": 1,
   "id": "246a2b90",
   "metadata": {},
   "outputs": [
    {
     "name": "stdout",
     "output_type": "stream",
     "text": [
      "2AO\n"
     ]
    }
   ],
   "source": [
    "x=2\n",
    "y='A'\n",
    "z='O'\n",
    "new_company=str(x)+y+z\n",
    "print (new_company)"
   ]
  },
  {
   "cell_type": "code",
   "execution_count": 2,
   "id": "9dba4f12",
   "metadata": {},
   "outputs": [
    {
     "name": "stdout",
     "output_type": "stream",
     "text": [
      "2AO\n"
     ]
    }
   ],
   "source": [
    "x='2'\n",
    "y='A'\n",
    "Z='O'\n",
    "new_company=x+y+z\n",
    "print(new_company)"
   ]
  },
  {
   "cell_type": "code",
   "execution_count": null,
   "id": "dfb4ac5d",
   "metadata": {},
   "outputs": [],
   "source": []
  }
 ],
 "metadata": {
  "kernelspec": {
   "display_name": "Python 3 (ipykernel)",
   "language": "python",
   "name": "python3"
  },
  "language_info": {
   "codemirror_mode": {
    "name": "ipython",
    "version": 3
   },
   "file_extension": ".py",
   "mimetype": "text/x-python",
   "name": "python",
   "nbconvert_exporter": "python",
   "pygments_lexer": "ipython3",
   "version": "3.10.1"
  }
 },
 "nbformat": 4,
 "nbformat_minor": 5
}
