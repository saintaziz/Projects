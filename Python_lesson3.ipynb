{
 "cells": [
  {
   "cell_type": "code",
   "execution_count": 1,
   "id": "ab8710f7",
   "metadata": {},
   "outputs": [
    {
     "name": "stdout",
     "output_type": "stream",
     "text": [
      "51\n",
      "51\n",
      "51\n"
     ]
    }
   ],
   "source": [
    "print(int(\"5\" + \"1\"))\n",
    "print(str(\"5\" + \"1\"))\n",
    "print(\"5\" + \"1\")"
   ]
  },
  {
   "cell_type": "code",
   "execution_count": 2,
   "id": "0c278f85",
   "metadata": {},
   "outputs": [
    {
     "name": "stdout",
     "output_type": "stream",
     "text": [
      "6\n"
     ]
    }
   ],
   "source": [
    "print(5+1)"
   ]
  },
  {
   "cell_type": "code",
   "execution_count": 3,
   "id": "b0e68067",
   "metadata": {},
   "outputs": [
    {
     "name": "stdout",
     "output_type": "stream",
     "text": [
      "6\n"
     ]
    }
   ],
   "source": [
    "print(int(5+1))"
   ]
  },
  {
   "cell_type": "code",
   "execution_count": 4,
   "id": "5ae069f9",
   "metadata": {},
   "outputs": [
    {
     "name": "stdout",
     "output_type": "stream",
     "text": [
      "51\n"
     ]
    }
   ],
   "source": [
    "print(str(\"5\" + \"1\"))"
   ]
  },
  {
   "cell_type": "code",
   "execution_count": 5,
   "id": "d7e8fa2f",
   "metadata": {},
   "outputs": [
    {
     "name": "stdout",
     "output_type": "stream",
     "text": [
      "51\n"
     ]
    }
   ],
   "source": [
    "print(int(\"5\" + \"1\"))"
   ]
  },
  {
   "cell_type": "code",
   "execution_count": 7,
   "id": "c59010dd",
   "metadata": {},
   "outputs": [
    {
     "name": "stdout",
     "output_type": "stream",
     "text": [
      "datatype of number_int <class 'int'>\n",
      "datatype of number_flt <class 'float'>\n",
      "Value of number_new: 124.23\n",
      "datatype of number_new <class 'float'>\n"
     ]
    }
   ],
   "source": [
    "number_int = 123\n",
    "number_flt = 1.23\n",
    "number_new = number_int + number_flt\n",
    "print(\"datatype of number_int\" , type(number_int))\n",
    "print(\"datatype of number_flt\" , type(number_flt))\n",
    "print(\"Value of number_new:\" , number_new)\n",
    "print(\"datatype of number_new\" , type(number_new))\n"
   ]
  },
  {
   "cell_type": "code",
   "execution_count": 8,
   "id": "f52fb158",
   "metadata": {},
   "outputs": [
    {
     "name": "stdout",
     "output_type": "stream",
     "text": [
      "Data type of number_int <class 'int'>\n",
      "Data type of number_str <class 'str'>\n"
     ]
    },
    {
     "ename": "TypeError",
     "evalue": "unsupported operand type(s) for +: 'int' and 'str'",
     "output_type": "error",
     "traceback": [
      "\u001b[0;31m---------------------------------------------------------------------------\u001b[0m",
      "\u001b[0;31mTypeError\u001b[0m                                 Traceback (most recent call last)",
      "Input \u001b[0;32mIn [8]\u001b[0m, in \u001b[0;36m<module>\u001b[0;34m\u001b[0m\n\u001b[1;32m      3\u001b[0m \u001b[38;5;28mprint\u001b[39m (\u001b[38;5;124m\"\u001b[39m\u001b[38;5;124mData type of number_int\u001b[39m\u001b[38;5;124m\"\u001b[39m, \u001b[38;5;28mtype\u001b[39m(number_int))\n\u001b[1;32m      4\u001b[0m \u001b[38;5;28mprint\u001b[39m (\u001b[38;5;124m\"\u001b[39m\u001b[38;5;124mData type of number_str\u001b[39m\u001b[38;5;124m\"\u001b[39m, \u001b[38;5;28mtype\u001b[39m(number_str))\n\u001b[0;32m----> 5\u001b[0m \u001b[38;5;28mprint\u001b[39m(\u001b[43mnumber_int\u001b[49m\u001b[38;5;241;43m+\u001b[39;49m\u001b[43mnumber_str\u001b[49m)\n",
      "\u001b[0;31mTypeError\u001b[0m: unsupported operand type(s) for +: 'int' and 'str'"
     ]
    }
   ],
   "source": [
    "number_int = 123\n",
    "number_str = \"456\"\n",
    "print (\"Data type of number_int\", type(number_int))\n",
    "print (\"Data type of number_str\", type(number_str))\n",
    "print(number_int+number_str)\n"
   ]
  },
  {
   "cell_type": "code",
   "execution_count": 10,
   "id": "61ec4128",
   "metadata": {},
   "outputs": [
    {
     "name": "stdout",
     "output_type": "stream",
     "text": [
      "Data type of number_int <class 'int'>\n",
      "Data type of number_str <class 'str'>\n"
     ]
    },
    {
     "ename": "TypeError",
     "evalue": "unsupported operand type(s) for +: 'int' and 'str'",
     "output_type": "error",
     "traceback": [
      "\u001b[0;31m---------------------------------------------------------------------------\u001b[0m",
      "\u001b[0;31mTypeError\u001b[0m                                 Traceback (most recent call last)",
      "Input \u001b[0;32mIn [10]\u001b[0m, in \u001b[0;36m<module>\u001b[0;34m\u001b[0m\n\u001b[1;32m      3\u001b[0m \u001b[38;5;28mprint\u001b[39m (\u001b[38;5;124m\"\u001b[39m\u001b[38;5;124mData type of number_int\u001b[39m\u001b[38;5;124m\"\u001b[39m, \u001b[38;5;28mtype\u001b[39m(number_int))\n\u001b[1;32m      4\u001b[0m \u001b[38;5;28mprint\u001b[39m (\u001b[38;5;124m\"\u001b[39m\u001b[38;5;124mData type of number_str\u001b[39m\u001b[38;5;124m\"\u001b[39m, \u001b[38;5;28mtype\u001b[39m(number_str))\n\u001b[0;32m----> 6\u001b[0m \u001b[38;5;28mprint\u001b[39m (\u001b[43mnumber_int\u001b[49m\u001b[43m \u001b[49m\u001b[38;5;241;43m+\u001b[39;49m\u001b[43m \u001b[49m\u001b[43mnumber_str\u001b[49m)\n",
      "\u001b[0;31mTypeError\u001b[0m: unsupported operand type(s) for +: 'int' and 'str'"
     ]
    }
   ],
   "source": [
    "number_int = 123\n",
    "number_str = \"456\"\n",
    "print (\"Data type of number_int\", type(number_int))\n",
    "print (\"Data type of number_str\", type(number_str))\n",
    "\n",
    "print (number_int + number_str)"
   ]
  },
  {
   "cell_type": "code",
   "execution_count": 11,
   "id": "81fad2db",
   "metadata": {},
   "outputs": [
    {
     "name": "stdout",
     "output_type": "stream",
     "text": [
      "Data type of number_int <class 'int'>\n",
      "Data type of number_str before Type Casting <class 'str'>\n",
      "Data type of number_str after Type Casting <class 'int'>\n",
      "sum of number_int and number_str 579\n",
      "Data type of sum <class 'int'>\n"
     ]
    }
   ],
   "source": [
    "number_int = 123\n",
    "number_str = \"456\"\n",
    "print (\"Data type of number_int\", type(number_int))\n",
    "print (\"Data type of number_str before Type Casting\", type(number_str))\n",
    "\n",
    "number_str = int (number_str)\n",
    "print (\"Data type of number_str after Type Casting\", type(number_str))\n",
    "\n",
    "number_sum = number_int + number_str\n",
    "print(\"sum of number_int and number_str\", number_sum)\n",
    "print(\"Data type of sum\", type(number_sum))\n"
   ]
  },
  {
   "cell_type": "code",
   "execution_count": null,
   "id": "0a8c2ecf",
   "metadata": {},
   "outputs": [],
   "source": []
  }
 ],
 "metadata": {
  "kernelspec": {
   "display_name": "Python 3 (ipykernel)",
   "language": "python",
   "name": "python3"
  },
  "language_info": {
   "codemirror_mode": {
    "name": "ipython",
    "version": 3
   },
   "file_extension": ".py",
   "mimetype": "text/x-python",
   "name": "python",
   "nbconvert_exporter": "python",
   "pygments_lexer": "ipython3",
   "version": "3.10.1"
  }
 },
 "nbformat": 4,
 "nbformat_minor": 5
}
