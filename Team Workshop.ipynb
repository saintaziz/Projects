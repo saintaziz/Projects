{
 "cells": [
  {
   "cell_type": "code",
   "execution_count": 1,
   "id": "95e46fd6",
   "metadata": {},
   "outputs": [
    {
     "name": "stdout",
     "output_type": "stream",
     "text": [
      "a =5\n",
      "b =4\n",
      "c =5\n",
      "when you multipy 5, 4, 5 ; you get 100\n"
     ]
    }
   ],
   "source": [
    "a = int (input(\"a =\"))\n",
    "b = int (input(\"b =\"))\n",
    "c = int (input(\"c =\"))\n",
    "d = a * b * c\n",
    "print (f\"when you multipy {a}, {b}, {c} ; you get {d}\")"
   ]
  },
  {
   "cell_type": "code",
   "execution_count": 8,
   "id": "b6b2f277",
   "metadata": {},
   "outputs": [
    {
     "name": "stdout",
     "output_type": "stream",
     "text": [
      "Please enter your height (such as 1.75M = )1.75\n",
      "Please enter your weight (such as 65kg = )80.0\n",
      "\n",
      "Body/Mass index = 26.12\n"
     ]
    }
   ],
   "source": [
    "H = float (input(\"Please enter your height (such as 1.75M = )\"))\n",
    "W = float (input(\"Please enter your weight (such as 65kg = )\"))\n",
    "IBX = (W / (H * H))\n",
    "print(\"\\nBody/Mass index = %.2f\" % (IBX))\n"
   ]
  },
  {
   "cell_type": "code",
   "execution_count": 12,
   "id": "ee3eb70b",
   "metadata": {},
   "outputs": [
    {
     "name": "stdout",
     "output_type": "stream",
     "text": [
      "Money = 200\n",
      "When you have 200, you can get 18, and remained 2\n"
     ]
    }
   ],
   "source": [
    "Money = int (input (\"Money = \"))\n",
    "Price = int (11)\n",
    "Pieces = Money // Price\n",
    "Remained = Money % Price\n",
    "print (f\"When you have {Money}, you can get {Pieces}, and remained {Remained}\")"
   ]
  },
  {
   "cell_type": "code",
   "execution_count": 13,
   "id": "500aae6c",
   "metadata": {},
   "outputs": [
    {
     "name": "stdout",
     "output_type": "stream",
     "text": [
      "200\n",
      "With 200$ you can buy '18' item(s).\n",
      "Then you have '2' dollar(s) left.\n"
     ]
    }
   ],
   "source": [
    "Money = int(input(\"Money = \"))\n",
    "you_buy = Money // 11\n",
    "you_have = Money % 11\n",
    "print(\"With {1}$ you can buy '{0}' item(s).\".format(you_buy, Money))\n",
    "print(\"Then you have '{}' dollar(s) left.\".format(you_have))\n"
   ]
  },
  {
   "cell_type": "code",
   "execution_count": 20,
   "id": "d438a740",
   "metadata": {},
   "outputs": [
    {
     "name": "stdout",
     "output_type": "stream",
     "text": [
      "Money = 200\n",
      "With 200 $ you can buy 18 items.\n",
      "Then you have 2 $ left\n"
     ]
    }
   ],
   "source": [
    "Money = int (input(\"Money = \"))\n",
    "Pieces = 11\n",
    "You_buy = Money // Pieces\n",
    "You_have = Money % Pieces\n",
    "print (\"With {0} $ you can buy {1} items.\".format (Money, You_buy))\n",
    "print (\"Then you have {} $ left\".format (You_have))"
   ]
  },
  {
   "cell_type": "code",
   "execution_count": 28,
   "id": "40489443",
   "metadata": {},
   "outputs": [
    {
     "name": "stdout",
     "output_type": "stream",
     "text": [
      "Word = ALİ\n",
      "Which seperator = .\n",
      "How Many Times Repeat = 3\n",
      "ALİ.ALİ.ALİ\n"
     ]
    }
   ],
   "source": [
    "Enter = str (input(\"Word = \"))\n",
    "Sep = str (input(\"Which seperator = \"))\n",
    "Times = int (input (\"How Many Times Repeat = \"))\n",
    "word = Enter + Sep\n",
    "print((word*(Times))+\"\\b\")"
   ]
  },
  {
   "cell_type": "code",
   "execution_count": 31,
   "id": "535f184f",
   "metadata": {},
   "outputs": [
    {
     "name": "stdout",
     "output_type": "stream",
     "text": [
      "What is your name = ali\n",
      "Which sep do you want =-\n",
      "How many times repeat = 5\n",
      "ali-ali-ali-ali-ali\n"
     ]
    }
   ],
   "source": [
    "Enter = str (input (\"What is your name = \"))\n",
    "Sep = str (input (\"Which sep do you want =\"))\n",
    "Times = int (input (\"How many times repeat = \"))\n",
    "word = (Enter + Sep)\n",
    "print ((word*(Times))+'\\b')"
   ]
  },
  {
   "cell_type": "code",
   "execution_count": 33,
   "id": "dbaadb2f",
   "metadata": {},
   "outputs": [
    {
     "name": "stdout",
     "output_type": "stream",
     "text": [
      "False\n"
     ]
    }
   ],
   "source": [
    "print(True and False and (not True and False) and not (True or False))"
   ]
  },
  {
   "cell_type": "code",
   "execution_count": 38,
   "id": "6119e568",
   "metadata": {},
   "outputs": [
    {
     "name": "stdout",
     "output_type": "stream",
     "text": [
      "False\n"
     ]
    }
   ],
   "source": [
    "print (\"False\" and False)"
   ]
  },
  {
   "cell_type": "code",
   "execution_count": 35,
   "id": "ed63e65b",
   "metadata": {},
   "outputs": [
    {
     "name": "stdout",
     "output_type": "stream",
     "text": [
      "False\n"
     ]
    }
   ],
   "source": [
    "print (True and \"False\")"
   ]
  },
  {
   "cell_type": "code",
   "execution_count": 36,
   "id": "a4adc183",
   "metadata": {},
   "outputs": [
    {
     "name": "stdout",
     "output_type": "stream",
     "text": [
      "True\n"
     ]
    }
   ],
   "source": [
    "print (True or \"False\")"
   ]
  },
  {
   "cell_type": "code",
   "execution_count": 39,
   "id": "9896d3bb",
   "metadata": {},
   "outputs": [
    {
     "name": "stdout",
     "output_type": "stream",
     "text": [
      "False\n"
     ]
    }
   ],
   "source": [
    "print (\"None\" and False)"
   ]
  },
  {
   "cell_type": "code",
   "execution_count": null,
   "id": "9a289812",
   "metadata": {},
   "outputs": [],
   "source": [
    "print(True and False and not \"False\" and None and (\"None\" or None))"
   ]
  }
 ],
 "metadata": {
  "kernelspec": {
   "display_name": "Python 3 (ipykernel)",
   "language": "python",
   "name": "python3"
  },
  "language_info": {
   "codemirror_mode": {
    "name": "ipython",
    "version": 3
   },
   "file_extension": ".py",
   "mimetype": "text/x-python",
   "name": "python",
   "nbconvert_exporter": "python",
   "pygments_lexer": "ipython3",
   "version": "3.10.1"
  }
 },
 "nbformat": 4,
 "nbformat_minor": 5
}
